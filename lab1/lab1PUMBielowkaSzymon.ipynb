{
  "cells": [
    {
      "cell_type": "markdown",
      "metadata": {
        "id": "c2ZqkzPy8I3z"
      },
      "source": [
        "# Modele liniowe"
      ]
    },
    {
      "cell_type": "markdown",
      "metadata": {
        "id": "k2VxX2cB8I4A"
      },
      "source": [
        "## Konfiguracja"
      ]
    },
    {
      "cell_type": "markdown",
      "metadata": {
        "id": "9roIYO108I4C"
      },
      "source": [
        "Użyjemy standardowego stosu narzędzi do tabelarycznego uczenia maszynowego w Pythonie: Numpy, Pandas, Matplotlib i Scikit-learn. Użyjemy też missingno dla łatwej wizualizacji wartości brakujących."
      ]
    },
    {
      "cell_type": "code",
      "execution_count": 133,
      "metadata": {
        "scrolled": true,
        "id": "-dRLlrok8I4E"
      },
      "outputs": [],
      "source": [
        "# !pip install numpy pandas matplotlib scikit-learn missingno"
      ]
    },
    {
      "cell_type": "code",
      "execution_count": 134,
      "metadata": {
        "id": "8Fv4OsMW8I4I"
      },
      "outputs": [],
      "source": [
        "import matplotlib.pyplot as plt\n",
        "import numpy as np\n",
        "import pandas as pd"
      ]
    },
    {
      "cell_type": "markdown",
      "metadata": {
        "id": "ROVQEwJD8I4K"
      },
      "source": [
        "## Zbiór danych do regresji"
      ]
    },
    {
      "cell_type": "markdown",
      "metadata": {
        "id": "TFDyg_3Y8I4L"
      },
      "source": [
        "Wykorzystamy zbiór danych [Ames housing](https://www.openintro.org/book/statdata/?data=ames), w którym zadaniem jest przewidywanie wartości domu na podstawie cech budynku, działki, lokalizacji itp. Jest to więc przewidywanie wartości ciągłej, czyli regresja. Obejmuje zmienne do usunięcia (np. ID transakcji), numeryczne (floaty i inty), kategoryczne nieuporządkowane (*categorical nominal*) oraz kategoryczne uporządkowane (*categorical ordinal*), więc będzie wymagał wstępnego przetworzenia tak jak większość prawdziwych danych w ML.\n",
        "\n",
        "Inne znane, ale gorsze jakościowo zbiory tego typu to na przykład:\n",
        "- Boston housing - rasistowski, z tego powodu usunięty np. ze Scikit-learn ([wyjaśnienie](https://fairlearn.org/main/user_guide/datasets/boston_housing_data.html), [dyskusja](https://github.com/quantumblacklabs/causalnex/issues/92), [badanie](https://medium.com/@docintangible/racist-data-destruction-113e3eff54a8))\n",
        "- California housing - zbyt prosty (tylko kilka zmiennych numerycznych), użyty np. w książce \"Hands-On Machine Learning with Scikit-Learn, Keras, and TensorFlow\" A. Geron ([opis](https://inria.github.io/scikit-learn-mooc/python_scripts/datasets_california_housing.html))\n",
        "\n",
        "Autor zbioru to Dean De Cock, a zbiór został opisany oryginalnie w [tym artykule](https://jse.amstat.org/v19n3/decock.pdf). Szczegółowe opisy zmiennych znajdują się w pliku `ames_description.txt`."
      ]
    },
    {
      "cell_type": "code",
      "execution_count": 135,
      "metadata": {
        "colab": {
          "base_uri": "https://localhost:8080/",
          "height": 299
        },
        "id": "YYET7SXN8I4O",
        "outputId": "282c016a-ce96-4e56-d74b-309ab7d7cffc"
      },
      "outputs": [
        {
          "output_type": "execute_result",
          "data": {
            "text/plain": [
              "   Order        PID  MSSubClass MSZoning  LotFrontage  LotArea Street Alley  \\\n",
              "0      1  526301100          20       RL        141.0    31770   Pave   NaN   \n",
              "1      2  526350040          20       RH         80.0    11622   Pave   NaN   \n",
              "2      3  526351010          20       RL         81.0    14267   Pave   NaN   \n",
              "3      4  526353030          20       RL         93.0    11160   Pave   NaN   \n",
              "4      5  527105010          60       RL         74.0    13830   Pave   NaN   \n",
              "\n",
              "  LotShape LandContour  ... PoolArea PoolQC  Fence MiscFeature MiscVal MoSold  \\\n",
              "0      IR1         Lvl  ...        0    NaN    NaN         NaN       0      5   \n",
              "1      Reg         Lvl  ...        0    NaN  MnPrv         NaN       0      6   \n",
              "2      IR1         Lvl  ...        0    NaN    NaN        Gar2   12500      6   \n",
              "3      Reg         Lvl  ...        0    NaN    NaN         NaN       0      4   \n",
              "4      IR1         Lvl  ...        0    NaN  MnPrv         NaN       0      3   \n",
              "\n",
              "  YrSold SaleType  SaleCondition  SalePrice  \n",
              "0   2010      WD          Normal     215000  \n",
              "1   2010      WD          Normal     105000  \n",
              "2   2010      WD          Normal     172000  \n",
              "3   2010      WD          Normal     244000  \n",
              "4   2010      WD          Normal     189900  \n",
              "\n",
              "[5 rows x 82 columns]"
            ],
            "text/html": [
              "\n",
              "  <div id=\"df-82437ed4-c024-42d8-b07d-4e00dcff7a1f\">\n",
              "    <div class=\"colab-df-container\">\n",
              "      <div>\n",
              "<style scoped>\n",
              "    .dataframe tbody tr th:only-of-type {\n",
              "        vertical-align: middle;\n",
              "    }\n",
              "\n",
              "    .dataframe tbody tr th {\n",
              "        vertical-align: top;\n",
              "    }\n",
              "\n",
              "    .dataframe thead th {\n",
              "        text-align: right;\n",
              "    }\n",
              "</style>\n",
              "<table border=\"1\" class=\"dataframe\">\n",
              "  <thead>\n",
              "    <tr style=\"text-align: right;\">\n",
              "      <th></th>\n",
              "      <th>Order</th>\n",
              "      <th>PID</th>\n",
              "      <th>MSSubClass</th>\n",
              "      <th>MSZoning</th>\n",
              "      <th>LotFrontage</th>\n",
              "      <th>LotArea</th>\n",
              "      <th>Street</th>\n",
              "      <th>Alley</th>\n",
              "      <th>LotShape</th>\n",
              "      <th>LandContour</th>\n",
              "      <th>...</th>\n",
              "      <th>PoolArea</th>\n",
              "      <th>PoolQC</th>\n",
              "      <th>Fence</th>\n",
              "      <th>MiscFeature</th>\n",
              "      <th>MiscVal</th>\n",
              "      <th>MoSold</th>\n",
              "      <th>YrSold</th>\n",
              "      <th>SaleType</th>\n",
              "      <th>SaleCondition</th>\n",
              "      <th>SalePrice</th>\n",
              "    </tr>\n",
              "  </thead>\n",
              "  <tbody>\n",
              "    <tr>\n",
              "      <th>0</th>\n",
              "      <td>1</td>\n",
              "      <td>526301100</td>\n",
              "      <td>20</td>\n",
              "      <td>RL</td>\n",
              "      <td>141.0</td>\n",
              "      <td>31770</td>\n",
              "      <td>Pave</td>\n",
              "      <td>NaN</td>\n",
              "      <td>IR1</td>\n",
              "      <td>Lvl</td>\n",
              "      <td>...</td>\n",
              "      <td>0</td>\n",
              "      <td>NaN</td>\n",
              "      <td>NaN</td>\n",
              "      <td>NaN</td>\n",
              "      <td>0</td>\n",
              "      <td>5</td>\n",
              "      <td>2010</td>\n",
              "      <td>WD</td>\n",
              "      <td>Normal</td>\n",
              "      <td>215000</td>\n",
              "    </tr>\n",
              "    <tr>\n",
              "      <th>1</th>\n",
              "      <td>2</td>\n",
              "      <td>526350040</td>\n",
              "      <td>20</td>\n",
              "      <td>RH</td>\n",
              "      <td>80.0</td>\n",
              "      <td>11622</td>\n",
              "      <td>Pave</td>\n",
              "      <td>NaN</td>\n",
              "      <td>Reg</td>\n",
              "      <td>Lvl</td>\n",
              "      <td>...</td>\n",
              "      <td>0</td>\n",
              "      <td>NaN</td>\n",
              "      <td>MnPrv</td>\n",
              "      <td>NaN</td>\n",
              "      <td>0</td>\n",
              "      <td>6</td>\n",
              "      <td>2010</td>\n",
              "      <td>WD</td>\n",
              "      <td>Normal</td>\n",
              "      <td>105000</td>\n",
              "    </tr>\n",
              "    <tr>\n",
              "      <th>2</th>\n",
              "      <td>3</td>\n",
              "      <td>526351010</td>\n",
              "      <td>20</td>\n",
              "      <td>RL</td>\n",
              "      <td>81.0</td>\n",
              "      <td>14267</td>\n",
              "      <td>Pave</td>\n",
              "      <td>NaN</td>\n",
              "      <td>IR1</td>\n",
              "      <td>Lvl</td>\n",
              "      <td>...</td>\n",
              "      <td>0</td>\n",
              "      <td>NaN</td>\n",
              "      <td>NaN</td>\n",
              "      <td>Gar2</td>\n",
              "      <td>12500</td>\n",
              "      <td>6</td>\n",
              "      <td>2010</td>\n",
              "      <td>WD</td>\n",
              "      <td>Normal</td>\n",
              "      <td>172000</td>\n",
              "    </tr>\n",
              "    <tr>\n",
              "      <th>3</th>\n",
              "      <td>4</td>\n",
              "      <td>526353030</td>\n",
              "      <td>20</td>\n",
              "      <td>RL</td>\n",
              "      <td>93.0</td>\n",
              "      <td>11160</td>\n",
              "      <td>Pave</td>\n",
              "      <td>NaN</td>\n",
              "      <td>Reg</td>\n",
              "      <td>Lvl</td>\n",
              "      <td>...</td>\n",
              "      <td>0</td>\n",
              "      <td>NaN</td>\n",
              "      <td>NaN</td>\n",
              "      <td>NaN</td>\n",
              "      <td>0</td>\n",
              "      <td>4</td>\n",
              "      <td>2010</td>\n",
              "      <td>WD</td>\n",
              "      <td>Normal</td>\n",
              "      <td>244000</td>\n",
              "    </tr>\n",
              "    <tr>\n",
              "      <th>4</th>\n",
              "      <td>5</td>\n",
              "      <td>527105010</td>\n",
              "      <td>60</td>\n",
              "      <td>RL</td>\n",
              "      <td>74.0</td>\n",
              "      <td>13830</td>\n",
              "      <td>Pave</td>\n",
              "      <td>NaN</td>\n",
              "      <td>IR1</td>\n",
              "      <td>Lvl</td>\n",
              "      <td>...</td>\n",
              "      <td>0</td>\n",
              "      <td>NaN</td>\n",
              "      <td>MnPrv</td>\n",
              "      <td>NaN</td>\n",
              "      <td>0</td>\n",
              "      <td>3</td>\n",
              "      <td>2010</td>\n",
              "      <td>WD</td>\n",
              "      <td>Normal</td>\n",
              "      <td>189900</td>\n",
              "    </tr>\n",
              "  </tbody>\n",
              "</table>\n",
              "<p>5 rows × 82 columns</p>\n",
              "</div>\n",
              "      <button class=\"colab-df-convert\" onclick=\"convertToInteractive('df-82437ed4-c024-42d8-b07d-4e00dcff7a1f')\"\n",
              "              title=\"Convert this dataframe to an interactive table.\"\n",
              "              style=\"display:none;\">\n",
              "        \n",
              "  <svg xmlns=\"http://www.w3.org/2000/svg\" height=\"24px\"viewBox=\"0 0 24 24\"\n",
              "       width=\"24px\">\n",
              "    <path d=\"M0 0h24v24H0V0z\" fill=\"none\"/>\n",
              "    <path d=\"M18.56 5.44l.94 2.06.94-2.06 2.06-.94-2.06-.94-.94-2.06-.94 2.06-2.06.94zm-11 1L8.5 8.5l.94-2.06 2.06-.94-2.06-.94L8.5 2.5l-.94 2.06-2.06.94zm10 10l.94 2.06.94-2.06 2.06-.94-2.06-.94-.94-2.06-.94 2.06-2.06.94z\"/><path d=\"M17.41 7.96l-1.37-1.37c-.4-.4-.92-.59-1.43-.59-.52 0-1.04.2-1.43.59L10.3 9.45l-7.72 7.72c-.78.78-.78 2.05 0 2.83L4 21.41c.39.39.9.59 1.41.59.51 0 1.02-.2 1.41-.59l7.78-7.78 2.81-2.81c.8-.78.8-2.07 0-2.86zM5.41 20L4 18.59l7.72-7.72 1.47 1.35L5.41 20z\"/>\n",
              "  </svg>\n",
              "      </button>\n",
              "      \n",
              "  <style>\n",
              "    .colab-df-container {\n",
              "      display:flex;\n",
              "      flex-wrap:wrap;\n",
              "      gap: 12px;\n",
              "    }\n",
              "\n",
              "    .colab-df-convert {\n",
              "      background-color: #E8F0FE;\n",
              "      border: none;\n",
              "      border-radius: 50%;\n",
              "      cursor: pointer;\n",
              "      display: none;\n",
              "      fill: #1967D2;\n",
              "      height: 32px;\n",
              "      padding: 0 0 0 0;\n",
              "      width: 32px;\n",
              "    }\n",
              "\n",
              "    .colab-df-convert:hover {\n",
              "      background-color: #E2EBFA;\n",
              "      box-shadow: 0px 1px 2px rgba(60, 64, 67, 0.3), 0px 1px 3px 1px rgba(60, 64, 67, 0.15);\n",
              "      fill: #174EA6;\n",
              "    }\n",
              "\n",
              "    [theme=dark] .colab-df-convert {\n",
              "      background-color: #3B4455;\n",
              "      fill: #D2E3FC;\n",
              "    }\n",
              "\n",
              "    [theme=dark] .colab-df-convert:hover {\n",
              "      background-color: #434B5C;\n",
              "      box-shadow: 0px 1px 3px 1px rgba(0, 0, 0, 0.15);\n",
              "      filter: drop-shadow(0px 1px 2px rgba(0, 0, 0, 0.3));\n",
              "      fill: #FFFFFF;\n",
              "    }\n",
              "  </style>\n",
              "\n",
              "      <script>\n",
              "        const buttonEl =\n",
              "          document.querySelector('#df-82437ed4-c024-42d8-b07d-4e00dcff7a1f button.colab-df-convert');\n",
              "        buttonEl.style.display =\n",
              "          google.colab.kernel.accessAllowed ? 'block' : 'none';\n",
              "\n",
              "        async function convertToInteractive(key) {\n",
              "          const element = document.querySelector('#df-82437ed4-c024-42d8-b07d-4e00dcff7a1f');\n",
              "          const dataTable =\n",
              "            await google.colab.kernel.invokeFunction('convertToInteractive',\n",
              "                                                     [key], {});\n",
              "          if (!dataTable) return;\n",
              "\n",
              "          const docLinkHtml = 'Like what you see? Visit the ' +\n",
              "            '<a target=\"_blank\" href=https://colab.research.google.com/notebooks/data_table.ipynb>data table notebook</a>'\n",
              "            + ' to learn more about interactive tables.';\n",
              "          element.innerHTML = '';\n",
              "          dataTable['output_type'] = 'display_data';\n",
              "          await google.colab.output.renderOutput(dataTable, element);\n",
              "          const docLink = document.createElement('div');\n",
              "          docLink.innerHTML = docLinkHtml;\n",
              "          element.appendChild(docLink);\n",
              "        }\n",
              "      </script>\n",
              "    </div>\n",
              "  </div>\n",
              "  "
            ]
          },
          "metadata": {},
          "execution_count": 135
        }
      ],
      "source": [
        "df = pd.read_csv(\"ames_data.csv\")\n",
        "\n",
        "# remove dots from names to match data_description.txt\n",
        "df.columns = [col.replace(\".\", \"\") for col in df.columns]\n",
        "\n",
        "df.head()"
      ]
    },
    {
      "cell_type": "code",
      "execution_count": 136,
      "metadata": {
        "colab": {
          "base_uri": "https://localhost:8080/"
        },
        "id": "jQ_h0H-e8I4Q",
        "outputId": "cd35aad0-0cb7-406d-830a-a618a82fd5fc"
      },
      "outputs": [
        {
          "output_type": "execute_result",
          "data": {
            "text/plain": [
              "(2930, 82)"
            ]
          },
          "metadata": {},
          "execution_count": 136
        }
      ],
      "source": [
        "df.shape"
      ]
    },
    {
      "cell_type": "markdown",
      "metadata": {
        "id": "G5roNM0r8I4S"
      },
      "source": [
        "## Eksploracja danych, czyszczenie danych i inżynieria cech"
      ]
    },
    {
      "cell_type": "markdown",
      "metadata": {
        "id": "3Fmv1eYo8I4T"
      },
      "source": [
        "Wstępne czyszczenie danych (*data cleaning*) obejmuje:\n",
        "- usunięcie kolumn `Order` oraz `PID`\n",
        "- usunięcie obserwacji odstających (*outliers*), które mają powyżej 4000 stóp kwadratowych (ok. 370 metrów kwadratowych) powierzchni\n",
        "- usunięcie wpisów z dzielnic `GrnHill` oraz `Landmrk`, które obejmują w sumie zaledwie 3 domy\n",
        "- transformacja logarytmiczna zmiennej zależnej (ceny domu)\n",
        "\n",
        "To drugie jest motywowane wykresem przedstawionym poniżej. Zostało uznane za błąd już przez samego autora."
      ]
    },
    {
      "cell_type": "code",
      "execution_count": 137,
      "metadata": {
        "colab": {
          "base_uri": "https://localhost:8080/",
          "height": 573
        },
        "id": "Wz9ahyPC8I4V",
        "outputId": "38ad2834-35eb-4541-c904-e10320b274ee"
      },
      "outputs": [
        {
          "output_type": "display_data",
          "data": {
            "text/plain": [
              "<Figure size 432x288 with 1 Axes>"
            ],
            "image/png": "[encoded data removed]"
          },
          "metadata": {
            "needs_background": "light"
          }
        },
        {
          "output_type": "display_data",
          "data": {
            "text/plain": [
              "<Figure size 432x288 with 1 Axes>"
            ],
            "image/png": "[encoded data removed]"
          },
          "metadata": {
            "needs_background": "light"
          }
        }
      ],
      "source": [
        "df = df.drop([\"Order\", \"PID\"], axis=\"columns\")\n",
        "df = df.loc[~df[\"Neighborhood\"].isin([\"GrnHill\", \"Landmrk\"]), :]\n",
        "\n",
        "plt.scatter(df[\"GrLivArea\"], df[\"SalePrice\"])\n",
        "plt.title(\"House area vs price\")\n",
        "plt.xlabel(\"GrLivArea\")\n",
        "plt.ylabel(\"SalePrice\")\n",
        "plt.show()\n",
        "\n",
        "df = df.loc[df[\"GrLivArea\"] <= 4000, :]\n",
        "\n",
        "plt.scatter(df[\"GrLivArea\"], df[\"SalePrice\"])\n",
        "plt.title(\"House area vs price, outliers removed\")\n",
        "plt.xlabel(\"GrLivArea\")\n",
        "plt.ylabel(\"SalePrice\")\n",
        "plt.show()"
      ]
    },
    {
      "cell_type": "code",
      "execution_count": 138,
      "metadata": {
        "id": "XlAsI4_v8I4W"
      },
      "outputs": [],
      "source": [
        "df = df.loc[df[\"GrLivArea\"] <= 4000, :]"
      ]
    },
    {
      "cell_type": "markdown",
      "metadata": {
        "id": "p8VUJNvl8I4X"
      },
      "source": [
        "Zawsze warto też przyjrzeć się rozkładowi zmiennej docelowej, żeby poznać jego typ i skalę. Jak widać poniżej, rozkład jest dość skośny, co ma sens - mało jest bardzo drogich domów.\n",
        "\n",
        "Rozkład normalny jest zwykle korzystniejszy dla tworzenia modeli, bo daje sensowną \"wartość środkową\" do przewidywania, a także penalizuje tak samo mylenie się w obie strony (zaniżona i zawyżona predykcja). Dokonamy dlatego **transformacji logarytmicznej (log transform)**, czyli zlogarytmujemy zmienną docelową (zależną). Dla stabilności numerycznej używa się zwykle `np.log1p`, a nie `np.log`.\n",
        "\n",
        "Dodatkowa korzyść z takiej transformacji jest taka, że regresja liniowa przewiduje dowolne wartości rzeczywiste. Po przekształceniu logarytmicznym jest to całkowicie ok, natomiast w oryginalnej przestrzeni trzeba by wymusić przewidywanie tylko wartości pozytywnych (negatywne ceny są bez sensu). Da się to zrobić, ale zwiększa to koszt obliczeniowy. Operowanie na tzw. log-price jest bardzo częste w finansach.\n",
        "\n",
        "**Uwaga:** - upewnij się, żeby nie wykonać komórki z kodem logarytmowania więcej niż raz, bo wtedy zlogarytmujesz wartości docelowe ponownie."
      ]
    },
    {
      "cell_type": "code",
      "execution_count": 139,
      "metadata": {
        "colab": {
          "base_uri": "https://localhost:8080/"
        },
        "id": "RwyiY-he8I4Y",
        "outputId": "20f92e91-aab9-4d1c-fd50-04ed3a2784c8"
      },
      "outputs": [
        {
          "output_type": "execute_result",
          "data": {
            "text/plain": [
              "count      2922.000000\n",
              "mean     180358.266940\n",
              "std       78536.952287\n",
              "min       12789.000000\n",
              "25%      129425.000000\n",
              "50%      160000.000000\n",
              "75%      213430.000000\n",
              "max      625000.000000\n",
              "Name: SalePrice, dtype: float64"
            ]
          },
          "metadata": {},
          "execution_count": 139
        }
      ],
      "source": [
        "df[\"SalePrice\"].describe()"
      ]
    },
    {
      "cell_type": "code",
      "execution_count": 140,
      "metadata": {
        "colab": {
          "base_uri": "https://localhost:8080/",
          "height": 545
        },
        "id": "OWOke5OB8I4Z",
        "outputId": "5c942fef-5703-48b3-a64a-a2a3663772db"
      },
      "outputs": [
        {
          "output_type": "display_data",
          "data": {
            "text/plain": [
              "<Figure size 432x288 with 1 Axes>"
            ],
            "image/png": "[encoded data removed]"
          },
          "metadata": {
            "needs_background": "light"
          }
        },
        {
          "output_type": "display_data",
          "data": {
            "text/plain": [
              "<Figure size 432x288 with 1 Axes>"
            ],
            "image/png": "[encoded data removed]"
          },
          "metadata": {
            "needs_background": "light"
          }
        }
      ],
      "source": [
        "df[\"SalePrice\"].hist()\n",
        "plt.title(\"Original sale price\")\n",
        "plt.show()\n",
        "\n",
        "df.loc[:, \"SalePrice\"] = np.log1p(df.loc[:, \"SalePrice\"])\n",
        "\n",
        "pd.Series(np.log(df[\"SalePrice\"])).hist()\n",
        "plt.title(\"Log sale price\")\n",
        "plt.show()"
      ]
    },
    {
      "cell_type": "markdown",
      "metadata": {
        "id": "CEaHXAjP8I4a"
      },
      "source": [
        "W ramach **wstępnej eksploracji danych (Exploratory Data Analysis, EDA)** sprawdźmy też wartości brakujące. Są zmienne, które mają poniżej 10% wartości, a bardzo znacząca liczba cech ma co najmniej 10% braków."
      ]
    },
    {
      "cell_type": "code",
      "execution_count": 141,
      "metadata": {
        "colab": {
          "base_uri": "https://localhost:8080/",
          "height": 1000
        },
        "id": "nbyn6pVw8I4b",
        "outputId": "bf4cfd59-2cb0-4535-cbbf-d9b15253af85"
      },
      "outputs": [
        {
          "output_type": "execute_result",
          "data": {
            "text/plain": [
              "<Axes: >"
            ]
          },
          "metadata": {},
          "execution_count": 141
        },
        {
          "output_type": "display_data",
          "data": {
            "text/plain": [
              "<Figure size 1800x1980 with 3 Axes>"
            ],
            "image/png": "[encoded data removed]"
          },
          "metadata": {
            "needs_background": "light"
          }
        }
      ],
      "source": [
        "import missingno as msno\n",
        "\n",
        "msno.bar(df)"
      ]
    },
    {
      "cell_type": "markdown",
      "metadata": {
        "id": "8oVn_bdM8I4c"
      },
      "source": [
        "W ramach dalszego czyszczenia danych uzupełnimy wartości brakujące. Trzeba tu jednak wziąć pod uwagę:\n",
        "- mamy dużo zmiennych kategorycznych - nie można w nich dokonać imputacji modą, medianą itp.\n",
        "- mamy często dużo wartości brakujących - estymacja modą byłaby niedokładna\n",
        "- mamy dużą wiedzę o zmiennych dzięki plikowi z opisami\n",
        "\n",
        "Można więc zastosować odpowiednią wiedzę i przyjąć wartości domyślne. Przykładowo, brak informacji o powierzchni piwnicy możemy uznać po prostu za brak piwnicy, i wpisać tam odpowiednią wartość. W przypadku niektórych zmiennych może doprowadzić to do stworzenia nowej wartości, która implicite będzie reprezentować wartość brakującą.\n",
        "\n",
        "Znaczna część poniższej analizy została zainspirowana [tym notebookiem na Kaggle](https://www.kaggle.com/code/juliencs/a-study-on-regression-applied-to-the-ames-dataset)."
      ]
    },
    {
      "cell_type": "code",
      "execution_count": 142,
      "metadata": {
        "id": "GY50wbzg8I4d"
      },
      "outputs": [],
      "source": [
        "def replace_na(df: pd.DataFrame, col: str, value) -> None:\n",
        "    df.loc[:, col] = df.loc[:, col].fillna(value)"
      ]
    },
    {
      "cell_type": "code",
      "execution_count": 143,
      "metadata": {
        "id": "-c2drVt08I4e"
      },
      "outputs": [],
      "source": [
        "# Alley : data description says NA means \"no alley access\"\n",
        "replace_na(df, \"Alley\", value=\"None\")\n",
        "\n",
        "# BedroomAbvGr : NA most likely means 0\n",
        "replace_na(df, \"BedroomAbvGr\", value=0)\n",
        "\n",
        "# BsmtQual etc : data description says NA for basement features is \"no basement\"\n",
        "replace_na(df, \"BsmtQual\", value=\"No\")\n",
        "replace_na(df, \"BsmtCond\", value=\"No\")\n",
        "replace_na(df, \"BsmtExposure\", value=\"No\")\n",
        "replace_na(df, \"BsmtFinType1\", value=\"No\")\n",
        "replace_na(df, \"BsmtFinType2\", value=\"No\")\n",
        "replace_na(df, \"BsmtFullBath\", value=0)\n",
        "replace_na(df, \"BsmtHalfBath\", value=0)\n",
        "replace_na(df, \"BsmtUnfSF\", value=0)\n",
        "\n",
        "# Condition : NA most likely means Normal\n",
        "replace_na(df, \"Condition1\", value=\"Norm\")\n",
        "replace_na(df, \"Condition2\", value=\"Norm\")\n",
        "\n",
        "# External stuff : NA most likely means average\n",
        "replace_na(df, \"ExterCond\", value=\"TA\")\n",
        "replace_na(df, \"ExterQual\", value=\"TA\")\n",
        "\n",
        "# Fence : data description says NA means \"no fence\"\n",
        "replace_na(df, \"Fence\", value=\"No\")\n",
        "\n",
        "# Functional : data description says NA means typical\n",
        "replace_na(df, \"Functional\", value=\"Typ\")\n",
        "\n",
        "# GarageType etc : data description says NA for garage features is \"no garage\"\n",
        "replace_na(df, \"GarageType\", value=\"No\")\n",
        "replace_na(df, \"GarageFinish\", value=\"No\")\n",
        "replace_na(df, \"GarageQual\", value=\"No\")\n",
        "replace_na(df, \"GarageCond\", value=\"No\")\n",
        "replace_na(df, \"GarageArea\", value=0)\n",
        "replace_na(df, \"GarageCars\", value=0)\n",
        "\n",
        "# HalfBath : NA most likely means no half baths above grade\n",
        "replace_na(df, \"HalfBath\", value=0)\n",
        "\n",
        "# HeatingQC : NA most likely means typical\n",
        "replace_na(df, \"HeatingQC\", value=\"Ta\")\n",
        "\n",
        "# KitchenAbvGr : NA most likely means 0\n",
        "replace_na(df, \"KitchenAbvGr\", value=0)\n",
        "\n",
        "# KitchenQual : NA most likely means typical\n",
        "replace_na(df, \"KitchenQual\", value=\"TA\")\n",
        "\n",
        "# LotFrontage : NA most likely means no lot frontage\n",
        "replace_na(df, \"LotFrontage\", value=0)\n",
        "\n",
        "# LotShape : NA most likely means regular\n",
        "replace_na(df, \"LotShape\", value=\"Reg\")\n",
        "\n",
        "# MasVnrType : NA most likely means no veneer\n",
        "replace_na(df, \"MasVnrType\", value=\"None\")\n",
        "replace_na(df, \"MasVnrArea\", value=0)\n",
        "\n",
        "# MiscFeature : data description says NA means \"no misc feature\"\n",
        "replace_na(df, \"MiscFeature\", value=\"No\")\n",
        "replace_na(df, \"MiscVal\", value=0)\n",
        "\n",
        "# OpenPorchSF : NA most likely means no open porch\n",
        "replace_na(df, \"OpenPorchSF\", value=0)\n",
        "\n",
        "# PavedDrive : NA most likely means not paved\n",
        "replace_na(df, \"PavedDrive\", value=\"N\")\n",
        "\n",
        "# PoolQC : data description says NA means \"no pool\"\n",
        "replace_na(df, \"PoolQC\", value=\"No\")\n",
        "replace_na(df, \"PoolArea\", value=0)\n",
        "\n",
        "# ScreenPorch : NA most likely means no screen porch\n",
        "replace_na(df, \"ScreenPorch\", value=0)\n",
        "\n",
        "# TotRmsAbvGrd : NA most likely means 0\n",
        "replace_na(df, \"TotRmsAbvGrd\", value=0)\n",
        "\n",
        "# Utilities : NA most likely means all public utilities\n",
        "replace_na(df, \"Utilities\", value=\"AllPub\")\n",
        "\n",
        "# WoodDeckSF : NA most likely means no wood deck\n",
        "replace_na(df, \"WoodDeckSF\", value=0)"
      ]
    },
    {
      "cell_type": "markdown",
      "metadata": {
        "id": "136aX9Zf8I4f"
      },
      "source": [
        "**Zadanie 1 (0.5 punktu)**\n",
        "\n",
        "Z pomocą dokumentacji zmiennych w pliku `data_description.txt` zdecyduj, jakie wartości domyślne przypisać zmiennym:\n",
        "- `CentralAir`\n",
        "- `EnclosedPorch`\n",
        "- `FireplaceQu` oraz `Fireplaces`\n",
        "- `SaleCondition`\n",
        "\n",
        "W praktyce niestety zwykle nie jest tak różowo, że mamy dokumentację, i ten krok zajmuje kilka godzin (lub dni) u różnych osób w firmie :)"
      ]
    },
    {
      "cell_type": "code",
      "execution_count": 144,
      "metadata": {
        "id": "POBIYBhs8I4g"
      },
      "outputs": [],
      "source": [
        "replace_na(df, \"CentralAir\", value=\"N\")\n",
        "replace_na(df, \"EnclosedPorch\", value=\"0\")\n",
        "replace_na(df, \"Fireplaces\", value=\"0\")\n",
        "replace_na(df, \"FireplaceQu\", value=\"No\")\n",
        "replace_na(df, \"SaleCondition\", value=\"Normal\")"
      ]
    },
    {
      "cell_type": "markdown",
      "metadata": {
        "id": "L2P4b4Gv8I4h"
      },
      "source": [
        "W dalszej kolejności zamienimy zmienne `MSSubClass` i `MoSold` z numerycznych na kategoryczne, zgodnie z ich znaczeniem. Zakodujemy także zmienne kategoryczne uporządkowane (categorical ordinal) z tekstowych na kolejne liczby całkowite."
      ]
    },
    {
      "cell_type": "code",
      "execution_count": 145,
      "metadata": {
        "scrolled": true,
        "id": "qN-i0Ygd8I4i"
      },
      "outputs": [],
      "source": [
        "df = df.replace(\n",
        "    {\n",
        "        \"MSSubClass\": {\n",
        "            20: \"SC20\",\n",
        "            30: \"SC30\",\n",
        "            40: \"SC40\",\n",
        "            45: \"SC45\",\n",
        "            50: \"SC50\",\n",
        "            60: \"SC60\",\n",
        "            70: \"SC70\",\n",
        "            75: \"SC75\",\n",
        "            80: \"SC80\",\n",
        "            85: \"SC85\",\n",
        "            90: \"SC90\",\n",
        "            120: \"SC120\",\n",
        "            150: \"SC150\",\n",
        "            160: \"SC160\",\n",
        "            180: \"SC180\",\n",
        "            190: \"SC190\",\n",
        "        },\n",
        "        \"MoSold\": {\n",
        "            1: \"Jan\",\n",
        "            2: \"Feb\",\n",
        "            3: \"Mar\",\n",
        "            4: \"Apr\",\n",
        "            5: \"May\",\n",
        "            6: \"Jun\",\n",
        "            7: \"Jul\",\n",
        "            8: \"Aug\",\n",
        "            9: \"Sep\",\n",
        "            10: \"Oct\",\n",
        "            11: \"Nov\",\n",
        "            12: \"Dec\",\n",
        "        },\n",
        "    }\n",
        ")"
      ]
    },
    {
      "cell_type": "code",
      "execution_count": 146,
      "metadata": {
        "id": "Bh56QoPK8I4j"
      },
      "outputs": [],
      "source": [
        "df = df.replace(\n",
        "    {\n",
        "        \"Alley\": {\"None\": 0, \"Grvl\": 1, \"Pave\": 2},\n",
        "        \"BsmtCond\": {\"No\": 0, \"Po\": 1, \"Fa\": 2, \"TA\": 3, \"Gd\": 4, \"Ex\": 5},\n",
        "        \"BsmtExposure\": {\"No\": 0, \"Mn\": 1, \"Av\": 2, \"Gd\": 3},\n",
        "        \"BsmtFinType1\": {\n",
        "            \"No\": 0,\n",
        "            \"Unf\": 1,\n",
        "            \"LwQ\": 2,\n",
        "            \"Rec\": 3,\n",
        "            \"BLQ\": 4,\n",
        "            \"ALQ\": 5,\n",
        "            \"GLQ\": 6,\n",
        "        },\n",
        "        \"BsmtFinType2\": {\n",
        "            \"No\": 0,\n",
        "            \"Unf\": 1,\n",
        "            \"LwQ\": 2,\n",
        "            \"Rec\": 3,\n",
        "            \"BLQ\": 4,\n",
        "            \"ALQ\": 5,\n",
        "            \"GLQ\": 6,\n",
        "        },\n",
        "        \"BsmtQual\": {\"No\": 0, \"Po\": 1, \"Fa\": 2, \"TA\": 3, \"Gd\": 4, \"Ex\": 5},\n",
        "        \"ExterCond\": {\"Po\": 1, \"Fa\": 2, \"TA\": 3, \"Gd\": 4, \"Ex\": 5},\n",
        "        \"ExterQual\": {\"Po\": 1, \"Fa\": 2, \"TA\": 3, \"Gd\": 4, \"Ex\": 5},\n",
        "        \"FireplaceQu\": {\"No\": 0, \"Po\": 1, \"Fa\": 2, \"TA\": 3, \"Gd\": 4, \"Ex\": 5},\n",
        "        \"Functional\": {\n",
        "            \"Sal\": 1,\n",
        "            \"Sev\": 2,\n",
        "            \"Maj2\": 3,\n",
        "            \"Maj1\": 4,\n",
        "            \"Mod\": 5,\n",
        "            \"Min2\": 6,\n",
        "            \"Min1\": 7,\n",
        "            \"Typ\": 8,\n",
        "        },\n",
        "        \"GarageCond\": {\"No\": 0, \"Po\": 1, \"Fa\": 2, \"TA\": 3, \"Gd\": 4, \"Ex\": 5},\n",
        "        \"GarageQual\": {\"No\": 0, \"Po\": 1, \"Fa\": 2, \"TA\": 3, \"Gd\": 4, \"Ex\": 5},\n",
        "        \"HeatingQC\": {\"Po\": 1, \"Fa\": 2, \"TA\": 3, \"Gd\": 4, \"Ex\": 5},\n",
        "        \"KitchenQual\": {\"Po\": 1, \"Fa\": 2, \"TA\": 3, \"Gd\": 4, \"Ex\": 5},\n",
        "        \"LandSlope\": {\"Sev\": 1, \"Mod\": 2, \"Gtl\": 3},\n",
        "        \"LotShape\": {\"IR3\": 1, \"IR2\": 2, \"IR1\": 3, \"Reg\": 4},\n",
        "        \"PavedDrive\": {\"N\": 0, \"P\": 1, \"Y\": 2},\n",
        "        \"PoolQC\": {\"No\": 0, \"Fa\": 1, \"TA\": 2, \"Gd\": 3, \"Ex\": 4},\n",
        "        \"Street\": {\"Grvl\": 1, \"Pave\": 2},\n",
        "        \"Utilities\": {\"ELO\": 1, \"NoSeWa\": 2, \"NoSewr\": 3, \"AllPub\": 4},\n",
        "    }\n",
        ")"
      ]
    },
    {
      "cell_type": "markdown",
      "metadata": {
        "id": "JOoDooQb8I4k"
      },
      "source": [
        "W Pandasie zmienne kategoryczne, napisy itp. są typu `object`, natomiast numeryczne mają typy z Numpy'a, np. `int64`. Oczywiście oba rodzaje zmiennych trzeba przetwarzać na inne sposoby, więc zapiszemy to od razu. Wyodrębnimy też wektor docelowy.\n",
        "\n",
        "Od razu dokonamy też podziału na zbiór treningowy i testowy. Jako że nasz zbiór jest dość mały, to podział będzie 70%-30%."
      ]
    },
    {
      "cell_type": "code",
      "execution_count": 147,
      "metadata": {
        "id": "ZXz-KE9S8I4l"
      },
      "outputs": [],
      "source": [
        "from sklearn.model_selection import train_test_split\n",
        "\n",
        "y = df.pop(\"SalePrice\")\n",
        "\n",
        "categorical_features = df.select_dtypes(include=\"object\").columns\n",
        "numerical_features = df.select_dtypes(exclude=\"object\").columns\n",
        "\n",
        "X_train, X_test, y_train, y_test = train_test_split(\n",
        "    df, y, test_size=0.3, random_state=0\n",
        ")"
      ]
    },
    {
      "cell_type": "markdown",
      "metadata": {
        "id": "feFFXLDP8I4m"
      },
      "source": [
        "Teraz trzeba dokonać transformacji naszych danych:\n",
        "- zmienne kategoryczne trzeba zamienić na osobne kolumny - **one-hot encoding**\n",
        "- zmienne numeryczne dalej mogą mieć wartości brakujące i trzeba je **imputować (impute**)\n",
        "- zmienne numeryczne trzeba przeskalować do zakresu wartości $[0, 1]$ - **normalization / min-max scaling**\n",
        "\n",
        "Mamy zatem 2 operacje do wykonania na zmiennych numerycznych po kolei (imputacja + skalowanie), a równolegle 1 na kategorycznych. Służą do tego w Scikit-learn'ie klasy:\n",
        "- `OneHotEncoder`, `SimpleImputer`, `MinMaxScaler` - transformacje, implementują `.fit()` i `.transform()`\n",
        "- `Pipeline` - do układania transformacji sekwencyjnie\n",
        "- `ColumnTransformer` - do układania transformacji równolegle, dla różnych kolumn\n",
        "\n",
        "**Ważne:** jako że zaraz skorzystamy z regresji liniowej, do klasy `OneHotEncoder` trzeba przekazać `drop=\"first\"`. Stworzy to 1 zmienną mniej, niż typowy one-hot encoding, np. `pd.get_dummies()`, gwarantując brak **idealnie współliniowych zmiennych (perfectly collinear features)**, który byłby niestabilny numerycznie. Dodatkowo, jako że przekształcamy już po podziale na zbiór treningowy i testowy, to możemy spotkać na zbiorze testowym nieliczne przypadki kategorii, których nie ma w zbiorze treningowym - kodujemy je wtedy po prostu jako zera za pomocą `handle_unknown=\"ignore\"`.\n",
        "\n",
        "**Zadanie 2 (0.5 punktu)**\n",
        "\n",
        "Stwórz pipeline'y dla zmiennych kategorycznych i numerycznych. Połącz je następnie z użyciem `ColumnTransformer`. \"Wytrenuj\" go na danych treningowych, a następnie przetransformuj dane treningowe oraz testowe."
      ]
    },
    {
      "cell_type": "code",
      "execution_count": 148,
      "metadata": {
        "scrolled": true,
        "id": "Vdoe_nQM8I4n",
        "colab": {
          "base_uri": "https://localhost:8080/"
        },
        "outputId": "e3615f21-1dc4-438d-bad8-20c8c1f441c5"
      },
      "outputs": [
        {
          "output_type": "stream",
          "name": "stderr",
          "text": [
            "/usr/local/lib/python3.9/dist-packages/sklearn/preprocessing/_encoders.py:202: UserWarning: Found unknown categories in columns [12, 15, 17] during transform. These unknown categories will be encoded as all zeros\n",
            "  warnings.warn(\n"
          ]
        }
      ],
      "source": [
        "from sklearn.compose import ColumnTransformer\n",
        "from sklearn.impute import SimpleImputer\n",
        "from sklearn.pipeline import Pipeline\n",
        "from sklearn.preprocessing import OneHotEncoder, MinMaxScaler\n",
        "\n",
        "\n",
        "one_hot_encoder = OneHotEncoder(\n",
        "    drop=\"first\", sparse_output=False, handle_unknown=\"ignore\"\n",
        ")\n",
        "median_imputer = SimpleImputer(strategy=\"median\")\n",
        "min_max_scaler = MinMaxScaler()\n",
        "\n",
        "categorical_pipeline = Pipeline(steps=[(\"encode\", one_hot_encoder)])\n",
        "\n",
        "numerical_pipeline = Pipeline(steps=[(\"impute\" ,median_imputer), (\"norm\", min_max_scaler)])\n",
        "\n",
        "column_transformer = ColumnTransformer(\n",
        "    transformers = [\n",
        "      ('numerical', numerical_pipeline, numerical_features),\n",
        "      ('categorical', categorical_pipeline, categorical_features)\n",
        "    ]\n",
        ")\n",
        "\n",
        "column_transformer.fit(X_train)\n",
        "\n",
        "X_train = column_transformer.transform(X_train)\n",
        "X_test = column_transformer.transform(X_test)"
      ]
    },
    {
      "cell_type": "markdown",
      "metadata": {
        "id": "spabCNsm8I4o"
      },
      "source": [
        "## Regresja liniowa"
      ]
    },
    {
      "cell_type": "markdown",
      "metadata": {
        "id": "TcF2YZlH8I4o"
      },
      "source": [
        "Możemy teraz przejść do przewidywania wartości domów. Naszym narzędziem będzie tutaj **regresja liniowa (linear regression)**, czyli model postaci:\n",
        "$$\n",
        "\\hat{y} = w \\cdot x = \\sum_{i=1}^{d} w_i x_i\n",
        "$$\n",
        "gdzie $n$ to liczba punktów w zbiorze, a $d$ to wymiarowość. Zakładamy też dodanie punktu przecięcia ze środkiem układu współrzędnych (*bias / intercept*) jako stałej cechy samych jedynek.\n",
        "\n",
        "Jako że używamy wielu zmiennych, to formaliści nazwaliby ten model wielokrotną regresją liniową (*multiple linear regression*), w odróżnieniu od prostej regresji liniowej (*simple linear regression*), która używa tylko 1 cechy. Takie rozróżnienie jest bardziej typowe dla nauk, które wykorzystują regresję głównie do analizy statystycznej, a nie predykcji, jak np. biologia czy medycyna.\n",
        "\n",
        "Model ten minimalizuje **błąd średniokwadratowy (mean squared error, MSE)**:\n",
        "$$\n",
        "L(y, \\hat{y}) = \\frac{1}{n} \\sum_{i=1}^n \\left( y - \\hat{y} \\right)^2\n",
        "$$\n",
        "\n",
        "W Scikit-learn ten model implementuje klasa `LinearRegression`. Ważne cechy:\n",
        "- domyślnie uwzględnia intercept (bias) przez `fit_intercept=True`; jest to niepotrzebne i może powodować problemy numeryczne, kiedy nasze dane są już wycentrowane\n",
        "- używa implementacji z pseudoodwrotnością Moore'a-Pendrose'a (SVD)\n",
        "- nie pozwala na regularyzację, do tego trzeba użyć innych klas\n",
        "\n",
        "Sprawdźmy, jak taki model sobie radzi. Do ewaluacji będziemy używać **Root MSE (RMSE)**, czyli pierwiastka kwadratowego z MSE. Ma ważne zalety:\n",
        "- regresja liniowa z definicji modelu opiera się o MSE, więc używamy metryki dobrze związanej z modelem\n",
        "- ma tę samą jednostkę, co przewidywane wartości, dzięki pierwiastkowaniu\n",
        "Jest też dość czuła na outliery, ale może to być korzystne, w zależności od zastosowania.\n",
        "\n",
        "$$\n",
        "RMSE(y, \\hat{y}) = \\sqrt{\\sum_{i=1}^n (y_i - \\hat{y}_i)^2}\n",
        "$$\n",
        "\n",
        "W Scikit-learn RMSE liczy się dość specyficznie, bo używa się funkcji do MSE z argumentem `squared=False`."
      ]
    },
    {
      "cell_type": "code",
      "execution_count": 149,
      "metadata": {
        "id": "mrHCEuZK8I4p",
        "colab": {
          "base_uri": "https://localhost:8080/"
        },
        "outputId": "370d1a02-840a-4b47-cf72-386f74d7072e"
      },
      "outputs": [
        {
          "output_type": "stream",
          "name": "stdout",
          "text": [
            "RMSE: 324052392.9678\n"
          ]
        }
      ],
      "source": [
        "from sklearn.metrics import mean_squared_error\n",
        "from sklearn.linear_model import LinearRegression\n",
        "\n",
        "# all variables are in range [0, 1], so we don't need an intercept\n",
        "reg_linear = LinearRegression(fit_intercept=False)\n",
        "reg_linear.fit(X_train, y_train)\n",
        "\n",
        "y_pred = reg_linear.predict(X_test)\n",
        "rmse = mean_squared_error(y_test, y_pred, squared=False)\n",
        "\n",
        "print(f\"RMSE: {rmse:.4f}\")"
      ]
    },
    {
      "cell_type": "markdown",
      "metadata": {
        "id": "jxcyoDet8I4q"
      },
      "source": [
        "Czy taki błąd to duży, czy mały błąd? Wszystko zależy od skali wartości przewidywanych. Trzeba pamiętać, że dokonaliśmy logarytmowania zmiennej docelowej, więc trzeba to sprawdzić po transformacji odwrotnej `np.expm1`. Po tej operacji jednostką będą oryginalne dolary.\n",
        "\n",
        "Dodatkowo trzeba zweryfikować, czy przeuczamy (overfitujemy). Sprawdza się to następująco:\n",
        "- obliczamy błąd treningowy oraz testowy\n",
        "- jeżeli oba błędy są wysokie, to mamy underfitting i trzeba użyć pojemniejszego modelu\n",
        "- jeżeli błąd treningowy jest dużo niższy od testowego, to mamy overfitting i trzeba regularyzować\n",
        "\n",
        "W praktyce paradoksalnie często model o większej pojemności z mocną regularyzacją działa lepiej od prostszego modelu ze słabą regularyzacją."
      ]
    },
    {
      "cell_type": "markdown",
      "metadata": {
        "id": "aU947oOg8I4q"
      },
      "source": [
        "**Zadanie 3 (0.5 punktu)**\n",
        "\n",
        "Uzupełnij kod funkcji `assess_regression_model`:\n",
        "- obliczenie predykcji treningowych oraz testowych\n",
        "- transformacje eksponencjalne, żeby wrócić do oryginalnej jednostki (dolara)\n",
        "- obliczenie RMSE treningowego i testowego\n",
        "- wypisywanie RMSE, zoakrąglonego do 2 miejsc po przecinku\n",
        "\n",
        "Użyj następnie tej funkcji, aby ocenić, czy następuje overfitting, skomentuj to poniżej. Oceń także, czy subiektywnie to duża wartość, biorąc pod uwagę rozkład zmiennej docelowej (wartości i wykresy w sekcji EDA)."
      ]
    },
    {
      "cell_type": "code",
      "execution_count": 150,
      "metadata": {
        "id": "yp2iYnF28I4r"
      },
      "outputs": [],
      "source": [
        "def assess_regression_model(model, X_train, X_test, y_train, y_test) -> None:\n",
        "    model.fit(X_train, y_train)\n",
        "\n",
        "    y_pred_train = model.predict(X_train)\n",
        "    y_pred_test = model.predict(X_test)\n",
        "\n",
        "    y_train = np.expm1(y_train)\n",
        "    y_pred_train = np.expm1(y_pred_train)\n",
        "    y_test = np.expm1(y_test)\n",
        "    y_pred_test = np.expm1(y_pred_test)\n",
        "\n",
        "    rmse_train = mean_squared_error(y_train, y_pred_train, squared=False)\n",
        "    rmse_test = mean_squared_error(y_test, y_pred_test, squared=False)\n",
        "    \n",
        "    print(f\"RMSE train: {rmse_train:.4f}\")\n",
        "    print(f\"RMSE test: {rmse_test:.4f}\")\n"
      ]
    },
    {
      "cell_type": "code",
      "execution_count": 151,
      "metadata": {
        "id": "tZjTJ3lz8I4s",
        "colab": {
          "base_uri": "https://localhost:8080/"
        },
        "outputId": "4c110926-21a2-4354-e349-21d16be04fb1"
      },
      "outputs": [
        {
          "output_type": "stream",
          "name": "stdout",
          "text": [
            "RMSE train: 16750.9481\n",
            "RMSE test: 21480.3182\n"
          ]
        }
      ],
      "source": [
        "assess_regression_model(reg_linear, X_train, X_test, y_train, y_test)"
      ]
    },
    {
      "cell_type": "markdown",
      "metadata": {
        "id": "PZISFpKN8I4t"
      },
      "source": [
        "// skomentuj tutaj - Wystąpił overfitting, błąd jest mniejszy o około 1/4 czyli dosyć dużo. Ogólnie wartości są całkiem znaczne, ale nie gigantyczne, w porownaniu z cenami domów\n"
      ]
    },
    {
      "cell_type": "markdown",
      "metadata": {
        "id": "z7_j7qZh8I4t"
      },
      "source": [
        "## Regresja regularyzowana (ridge, LASSO)"
      ]
    },
    {
      "cell_type": "markdown",
      "metadata": {
        "id": "_qL-ksCv8I4u"
      },
      "source": [
        "Regularyzacja zmniejsza pojemność modelu regresji liniowej, narzucając mniejsze wagi poprzez penalizację dużych wag w funkcji kosztu:\n",
        "$$\n",
        "L_{ridge}(y, \\hat{y}) = \\frac{1}{n} (y - \\hat{y})^2 + \\lambda ||w||_2^2 \\\\\n",
        "L_{LASSO}(y, \\hat{y}) = \\frac{1}{n} (y - \\hat{y})^2 + \\alpha ||w||_1 \\\\\n",
        "L_{ElasticNet}(y, \\hat{y}) = \\frac{1}{n} (y - \\hat{y})^2 + \\lambda ||w||_2^2 + \\alpha ||w||_1 \\\\\n",
        "$$\n",
        "\n",
        "Regresja ridge zmniejsza wagi i jest różniczkowalna (szybsza i łatwiejsza w treningu), natomiast regresja LASSO dokonuje selekcji cech, zmniejszając często wagi cech dokładnie do zera. Oba naraz realizuje model ElasticNet.\n",
        "\n",
        "W Scikit-learn implementują je klasy `Ridge`, `Lasso` oraz `ElasticNet`. Najważniejszy hiperparametr każdego z tych modeli to siła regularyzacji, która we wszystkich klasach to `alpha`. Scikit-learn definiuje regularyzację ElasticNet dość specyficznie, za pomocą parametru `l1_ratio`, który wyznacza, jaki ułamek siły regularyzacji przypada dla L1, a jaki dla L2:\n",
        "$$\n",
        "L_{ElasticNet}(y, \\hat{y}) = \\frac{1}{n} \\sum_{i=1}^n \\left( y - \\hat{y} \\right)^2 + \\alpha \\cdot (1 - L1\\_ratio) \\cdot ||w||_2^2 + \\alpha \\cdot L1\\_ratio \\cdot ||w||_1 \\\\\n",
        "$$\n",
        "\n",
        "Inne ważne uwagi:\n",
        "- liczba iteracji `max_iter` wyznacza liczbę iteracji solwera; im więcej, tym dokładniejsze rozwiązanie, ale tym dłuższy czas obliczeń\n",
        "- jeżeli `max_iter` będzie zbyt małe i algorytm nie osiągnie zbieżności, to dostaniemy ostrzeżenie, wtedy zwykle trzeba po prostu ją zwiększyć, np. 10-krotnie\n",
        "- jeżeli nie potrzebujemy bardzo precyzyjnego rozwiązania, można ustawić większe `tol` dla przyspieszenia obliczeń\n",
        "\n",
        "Jako że nasz model jest regularyzowany i nie ma ryzyka problemów numerycznych, to teraz już obliczamy intercept."
      ]
    },
    {
      "cell_type": "code",
      "execution_count": 152,
      "metadata": {
        "id": "cCGTEX4s8I4u",
        "colab": {
          "base_uri": "https://localhost:8080/"
        },
        "outputId": "a00d12f6-2cb4-4244-c62f-ec928987f563"
      },
      "outputs": [
        {
          "output_type": "stream",
          "name": "stdout",
          "text": [
            "RMSE train: 16870.9120\n",
            "RMSE test: 18879.1052\n",
            "\n",
            "RMSE train: 79579.7870\n",
            "RMSE test: 80091.9868\n"
          ]
        }
      ],
      "source": [
        "from sklearn.linear_model import Ridge, Lasso\n",
        "\n",
        "reg_ridge = Ridge(random_state=0)\n",
        "reg_lasso = Lasso(random_state=0)\n",
        "\n",
        "reg_ridge.fit(X_train, y_train)\n",
        "reg_lasso.fit(X_train, y_train)\n",
        "\n",
        "assess_regression_model(reg_ridge, X_train, X_test, y_train, y_test)\n",
        "print()\n",
        "assess_regression_model(reg_lasso, X_train, X_test, y_train, y_test)"
      ]
    },
    {
      "cell_type": "markdown",
      "metadata": {
        "id": "RgCFQe328I4w"
      },
      "source": [
        "W przypadku regularyzacji L2 domyślna siła regularyzacji (`alpha=1.0`) znacząco poprawiła wynik, natomiast w przypadku L1 mamy silny underfitting. Przyda się zastosować tutaj tuning hiperparametrów.\n",
        "\n",
        "W przypadku regresji liniowej istnieją bardzo wydajne implementacje walidacji skrośnej, głównie dzięki prostocie tego modelu. W Scikit-learn są to odpowiednio `RidgeCV`, `LassoCV` oraz `ElasticNetCV`.\n",
        "\n",
        "`RidgeCV` domyślnie wykorzystuje efektywną implementację Leave-One-Out Cross-Validation (LOOCV), w którym zbiorem walidacyjnym jest w danej chwili jedna próbka. Jest to możliwe dzięki pewnym sztuczkom opartym na algebrze liniowej, wyjaśnionych [w dokumentacji w kodzie](https://github.com/scikit-learn/scikit-learn/blob/8c9c1f27b7e21201cfffb118934999025fd50cca/sklearn/linear_model/_ridge.py#L1547) (dla zainteresowanych). Co ważne, jest to operacja o wiele szybsza niż osobne grid search + ridge regression, a nawet od `RidgeCV` z mniejszą liczbą foldów.\n",
        "\n",
        "`LassoCV` oraz `ElasticNetCV` iterują od najmniejszych do największych wartości `alpha` (siły regularyzacji), używając rozwiązania dla mniejszej siły regularyzacji jako punktu początkowego dla kolejnej wartości. Odpowiada to po prostu dość inteligentnemu wyborowi punktu startowego w optymalizacji funkcji kosztu, a znacznie obniża koszt obliczeniowy."
      ]
    },
    {
      "cell_type": "markdown",
      "metadata": {
        "id": "AB8tClNq8I4w"
      },
      "source": [
        "**Zadanie 4 (0.5 punktu)**\n",
        "\n",
        "Użyj klas `RidgeCV` oraz `LassoCV` do tuningu hiperparametrów.\n",
        "\n",
        "Dla `RidgeCV` sprawdź 1000 wartości `[0.1, 100]` w skali liniowej - przyda się `np.linspace()`. Użyj LOOCV.\n",
        "\n",
        "Dla `LassoCV` Scikit-learn sam dobierze wartości, musisz podać tylko liczbę wartości alfa do sprawdzenia - użyj 1000. Użyj 5-fold CV. Pamiętaj o podaniu `random_state=0` - solwer jest niedeterministyczny.\n",
        "\n",
        "Wypisz znalezione optymalne wartości siły regularyzacji `.alpha_` dla obu modeli, zaokrąglone do 4 miejsca po przecinku dla czytelności.\n",
        "\n",
        "Przetestuj modele z użyciem `assess_regression_model()`. Skomentuj wyniki. Czy udało się wyeliminować overfitting?"
      ]
    },
    {
      "cell_type": "code",
      "execution_count": 153,
      "metadata": {
        "id": "AdG9dbtB8I4x",
        "colab": {
          "base_uri": "https://localhost:8080/"
        },
        "outputId": "947ce0ef-cb25-428b-994f-871aca764c1e"
      },
      "outputs": [
        {
          "output_type": "stream",
          "name": "stdout",
          "text": [
            "RidgeCV: 2.9000\n",
            "LassoCV: 0.0003\n",
            "RMSE train: 17212.4127\n",
            "RMSE test: 18758.4344\n",
            "RMSE train: 18107.8948\n",
            "RMSE test: 18664.2973\n"
          ]
        }
      ],
      "source": [
        "from sklearn.linear_model import RidgeCV, LassoCV\n",
        "\n",
        "ridge_cv = RidgeCV(alphas=np.linspace(0.1, 100, 1000))\n",
        "ridge_cv.fit(X_train, y_train)\n",
        "\n",
        "lasso_cv = LassoCV(n_alphas=1000, cv=5, random_state=0)\n",
        "lasso_cv.fit(X_train, y_train)\n",
        "\n",
        "print(\"RidgeCV: {:.4f}\".format(ridge_cv.alpha_))\n",
        "print(\"LassoCV: {:.4f}\".format(lasso_cv.alpha_))\n",
        "\n",
        "assess_regression_model(ridge_cv, X_train, X_test, y_train, y_test)\n",
        "assess_regression_model(lasso_cv, X_train, X_test, y_train, y_test)"
      ]
    },
    {
      "cell_type": "markdown",
      "metadata": {
        "id": "oUvX9OaA8I4x"
      },
      "source": [
        "Tak, wartości błędu są teraz bardzo zbliżone"
      ]
    },
    {
      "cell_type": "markdown",
      "metadata": {
        "id": "WQBhwqTe8I4y"
      },
      "source": [
        "Sprawdźmy teraz, jak zmieniły się maksymalne wielkości współczynników (w sensie wartości bezwzględnej) dla cech dla regularyzacji L2, oraz ile cech zostało wyeliminowanych przez regularyzację L1.\n",
        "\n",
        "**Uwaga:** kod zakłada, że zmienne to `reg_ridge_cv` oraz `reg_lasso_cv`. Jeżeli u ciebie są inne, dostosuj poniższy kod."
      ]
    },
    {
      "cell_type": "code",
      "execution_count": 154,
      "metadata": {
        "id": "pGW7k3r_8I4z",
        "colab": {
          "base_uri": "https://localhost:8080/"
        },
        "outputId": "da8cead3-ca25-4bab-8317-7091ef3f5582"
      },
      "outputs": [
        {
          "output_type": "stream",
          "name": "stdout",
          "text": [
            "Coefficients magnitudes (linear, ridge, ridge with CV)\n",
            "Max: 49864719861.03 vs vs 0.52 vs 0.45\n",
            "\n",
            "Percentage of eliminated features (linear, LASSO, LASSO with CV)\n",
            "0.00% vs 100.00% vs 54.27%\n"
          ]
        }
      ],
      "source": [
        "coeffs_linear_max = np.max(np.abs(reg_linear.coef_))\n",
        "coeffs_ridge_max = np.max(np.abs(reg_ridge.coef_))\n",
        "coeffs_ridge_cv_max = np.max(np.abs(ridge_cv.coef_))\n",
        "\n",
        "coeffs_linear_zero_perc = np.sum(reg_linear.coef_ == 0) / len(reg_linear.coef_)\n",
        "coeffs_lasso_zero_perc = np.sum(reg_lasso.coef_ == 0) / len(reg_linear.coef_)\n",
        "coeffs_lasso_cv_zero_perc = np.sum(lasso_cv.coef_ == 0) / len(reg_linear.coef_)\n",
        "\n",
        "print(\"Coefficients magnitudes (linear, ridge, ridge with CV)\")\n",
        "print(\n",
        "    f\"Max: {coeffs_linear_max:.2f} vs\",\n",
        "    f\"vs {coeffs_ridge_max:.2f} vs\",\n",
        "    f\"{coeffs_ridge_cv_max:.2f}\",\n",
        ")\n",
        "print()\n",
        "print(\"Percentage of eliminated features (linear, LASSO, LASSO with CV)\")\n",
        "print(\n",
        "    f\"{100 * coeffs_linear_zero_perc:.2f}% vs\",\n",
        "    f\"{100 * coeffs_lasso_zero_perc:.2f}% vs\",\n",
        "    f\"{100 * coeffs_lasso_cv_zero_perc:.2f}%\",\n",
        ")"
      ]
    },
    {
      "cell_type": "markdown",
      "metadata": {
        "id": "Hx-KMUTp8I4z"
      },
      "source": [
        "**Zadanie 5 (0.5 punktu)**\n",
        "\n",
        "Dokonaj interpretacji zmian we współczynnikach dla regresji ridge oraz LASSO. Zauważ też, że LASSO bez tuningu hiperparametrów wyeliminowało wszystkie cechy, a my nie trenujemy punktu przecięcia (intercept). Co oznacza taki model?"
      ]
    },
    {
      "cell_type": "markdown",
      "metadata": {
        "id": "Y5L0jrMI8I40"
      },
      "source": [
        "W ridge wartości są teraz o wiele rzędów mniej ekstremalne. Samo użycie ridge zmniejszyło je bardzo, a po tuningu jeszcze bardziej.\n",
        "W przypadku lasso, bez tuningu otrzymujemy model który wyeliminował wszystkie cechy. Oznacza to w praktyce, że będzie on przewidywał zawsze tą samą wartość niezależnie od parametrów\n"
      ]
    },
    {
      "cell_type": "markdown",
      "metadata": {
        "id": "B54tMGiB8I40"
      },
      "source": [
        "Warto zwrócić uwagę, że zbieranie i obliczanie cech jest często drogie w praktyce. W tym przypadku model z mniejszą ilością cech dodatkowo radzi sobie dobrze, więc jest tańszy i prostszy, są to znaczące zalety. Zawsze warto się przyjrzeć temu, co model uznaje za bardzo wartościowe oraz mało wartościowe cechy, bo daje nam to wiedzę, na czym się skupić w przyszłości.\n",
        "\n",
        "Jako że dokonaliśmy wcześniej wielu transformacji, to nazwy kolumn są dość mocno poprzekształcane. Na szczęście wszystkie obiekty transformujące w Scikit-learn (z metodą `.transform()`) implementują też metodę `.get_feature_names_out()`."
      ]
    },
    {
      "cell_type": "code",
      "execution_count": 155,
      "metadata": {
        "id": "nGKUuXpS8I41",
        "colab": {
          "base_uri": "https://localhost:8080/"
        },
        "outputId": "1e6f790d-6c35-4c89-e076-0742771186e3"
      },
      "outputs": [
        {
          "output_type": "execute_result",
          "data": {
            "text/plain": [
              "array(['numerical__LotFrontage', 'numerical__LotArea',\n",
              "       'numerical__Street', 'numerical__Alley', 'numerical__LotShape',\n",
              "       'numerical__Utilities', 'numerical__LandSlope',\n",
              "       'numerical__OverallQual', 'numerical__OverallCond',\n",
              "       'numerical__YearBuilt', 'numerical__YearRemodAdd',\n",
              "       'numerical__MasVnrArea', 'numerical__ExterQual',\n",
              "       'numerical__ExterCond', 'numerical__BsmtQual',\n",
              "       'numerical__BsmtCond', 'numerical__BsmtExposure',\n",
              "       'numerical__BsmtFinType1', 'numerical__BsmtFinSF1',\n",
              "       'numerical__BsmtFinType2', 'numerical__BsmtFinSF2',\n",
              "       'numerical__BsmtUnfSF', 'numerical__TotalBsmtSF',\n",
              "       'numerical__HeatingQC', 'numerical__X1stFlrSF',\n",
              "       'numerical__X2ndFlrSF', 'numerical__LowQualFinSF',\n",
              "       'numerical__GrLivArea', 'numerical__BsmtFullBath',\n",
              "       'numerical__BsmtHalfBath', 'numerical__FullBath',\n",
              "       'numerical__HalfBath', 'numerical__BedroomAbvGr',\n",
              "       'numerical__KitchenAbvGr', 'numerical__KitchenQual',\n",
              "       'numerical__TotRmsAbvGrd', 'numerical__Functional',\n",
              "       'numerical__Fireplaces', 'numerical__FireplaceQu',\n",
              "       'numerical__GarageYrBlt', 'numerical__GarageCars',\n",
              "       'numerical__GarageArea', 'numerical__GarageQual',\n",
              "       'numerical__GarageCond', 'numerical__PavedDrive',\n",
              "       'numerical__WoodDeckSF', 'numerical__OpenPorchSF',\n",
              "       'numerical__EnclosedPorch', 'numerical__X3SsnPorch',\n",
              "       'numerical__ScreenPorch', 'numerical__PoolArea',\n",
              "       'numerical__PoolQC', 'numerical__MiscVal', 'numerical__YrSold',\n",
              "       'categorical__MSSubClass_SC150', 'categorical__MSSubClass_SC160',\n",
              "       'categorical__MSSubClass_SC180', 'categorical__MSSubClass_SC190',\n",
              "       'categorical__MSSubClass_SC20', 'categorical__MSSubClass_SC30',\n",
              "       'categorical__MSSubClass_SC40', 'categorical__MSSubClass_SC45',\n",
              "       'categorical__MSSubClass_SC50', 'categorical__MSSubClass_SC60',\n",
              "       'categorical__MSSubClass_SC70', 'categorical__MSSubClass_SC75',\n",
              "       'categorical__MSSubClass_SC80', 'categorical__MSSubClass_SC85',\n",
              "       'categorical__MSSubClass_SC90', 'categorical__MSZoning_C (all)',\n",
              "       'categorical__MSZoning_FV', 'categorical__MSZoning_I (all)',\n",
              "       'categorical__MSZoning_RH', 'categorical__MSZoning_RL',\n",
              "       'categorical__MSZoning_RM', 'categorical__LandContour_HLS',\n",
              "       'categorical__LandContour_Low', 'categorical__LandContour_Lvl',\n",
              "       'categorical__LotConfig_CulDSac', 'categorical__LotConfig_FR2',\n",
              "       'categorical__LotConfig_FR3', 'categorical__LotConfig_Inside',\n",
              "       'categorical__Neighborhood_Blueste',\n",
              "       'categorical__Neighborhood_BrDale',\n",
              "       'categorical__Neighborhood_BrkSide',\n",
              "       'categorical__Neighborhood_ClearCr',\n",
              "       'categorical__Neighborhood_CollgCr',\n",
              "       'categorical__Neighborhood_Crawfor',\n",
              "       'categorical__Neighborhood_Edwards',\n",
              "       'categorical__Neighborhood_Gilbert',\n",
              "       'categorical__Neighborhood_Greens',\n",
              "       'categorical__Neighborhood_IDOTRR',\n",
              "       'categorical__Neighborhood_MeadowV',\n",
              "       'categorical__Neighborhood_Mitchel',\n",
              "       'categorical__Neighborhood_NAmes',\n",
              "       'categorical__Neighborhood_NPkVill',\n",
              "       'categorical__Neighborhood_NWAmes',\n",
              "       'categorical__Neighborhood_NoRidge',\n",
              "       'categorical__Neighborhood_NridgHt',\n",
              "       'categorical__Neighborhood_OldTown',\n",
              "       'categorical__Neighborhood_SWISU',\n",
              "       'categorical__Neighborhood_Sawyer',\n",
              "       'categorical__Neighborhood_SawyerW',\n",
              "       'categorical__Neighborhood_Somerst',\n",
              "       'categorical__Neighborhood_StoneBr',\n",
              "       'categorical__Neighborhood_Timber',\n",
              "       'categorical__Neighborhood_Veenker',\n",
              "       'categorical__Condition1_Feedr', 'categorical__Condition1_Norm',\n",
              "       'categorical__Condition1_PosA', 'categorical__Condition1_PosN',\n",
              "       'categorical__Condition1_RRAe', 'categorical__Condition1_RRAn',\n",
              "       'categorical__Condition1_RRNe', 'categorical__Condition1_RRNn',\n",
              "       'categorical__Condition2_Feedr', 'categorical__Condition2_Norm',\n",
              "       'categorical__Condition2_PosA', 'categorical__Condition2_PosN',\n",
              "       'categorical__Condition2_RRAe', 'categorical__Condition2_RRAn',\n",
              "       'categorical__Condition2_RRNn', 'categorical__BldgType_2fmCon',\n",
              "       'categorical__BldgType_Duplex', 'categorical__BldgType_Twnhs',\n",
              "       'categorical__BldgType_TwnhsE', 'categorical__HouseStyle_1.5Unf',\n",
              "       'categorical__HouseStyle_1Story', 'categorical__HouseStyle_2.5Fin',\n",
              "       'categorical__HouseStyle_2.5Unf', 'categorical__HouseStyle_2Story',\n",
              "       'categorical__HouseStyle_SFoyer', 'categorical__HouseStyle_SLvl',\n",
              "       'categorical__RoofStyle_Gable', 'categorical__RoofStyle_Gambrel',\n",
              "       'categorical__RoofStyle_Hip', 'categorical__RoofStyle_Mansard',\n",
              "       'categorical__RoofStyle_Shed', 'categorical__RoofMatl_Membran',\n",
              "       'categorical__RoofMatl_Metal', 'categorical__RoofMatl_Roll',\n",
              "       'categorical__RoofMatl_Tar&Grv', 'categorical__RoofMatl_WdShake',\n",
              "       'categorical__RoofMatl_WdShngl',\n",
              "       'categorical__Exterior1st_AsphShn',\n",
              "       'categorical__Exterior1st_BrkComm',\n",
              "       'categorical__Exterior1st_BrkFace',\n",
              "       'categorical__Exterior1st_CBlock',\n",
              "       'categorical__Exterior1st_CemntBd',\n",
              "       'categorical__Exterior1st_HdBoard',\n",
              "       'categorical__Exterior1st_ImStucc',\n",
              "       'categorical__Exterior1st_MetalSd',\n",
              "       'categorical__Exterior1st_Plywood',\n",
              "       'categorical__Exterior1st_PreCast',\n",
              "       'categorical__Exterior1st_Stone',\n",
              "       'categorical__Exterior1st_Stucco',\n",
              "       'categorical__Exterior1st_VinylSd',\n",
              "       'categorical__Exterior1st_Wd Sdng',\n",
              "       'categorical__Exterior1st_WdShing',\n",
              "       'categorical__Exterior2nd_AsphShn',\n",
              "       'categorical__Exterior2nd_Brk Cmn',\n",
              "       'categorical__Exterior2nd_BrkFace',\n",
              "       'categorical__Exterior2nd_CmentBd',\n",
              "       'categorical__Exterior2nd_HdBoard',\n",
              "       'categorical__Exterior2nd_ImStucc',\n",
              "       'categorical__Exterior2nd_MetalSd',\n",
              "       'categorical__Exterior2nd_Other',\n",
              "       'categorical__Exterior2nd_Plywood',\n",
              "       'categorical__Exterior2nd_PreCast',\n",
              "       'categorical__Exterior2nd_Stone',\n",
              "       'categorical__Exterior2nd_Stucco',\n",
              "       'categorical__Exterior2nd_VinylSd',\n",
              "       'categorical__Exterior2nd_Wd Sdng',\n",
              "       'categorical__Exterior2nd_Wd Shng',\n",
              "       'categorical__MasVnrType_BrkFace',\n",
              "       'categorical__MasVnrType_CBlock', 'categorical__MasVnrType_None',\n",
              "       'categorical__MasVnrType_Stone', 'categorical__Foundation_CBlock',\n",
              "       'categorical__Foundation_PConc', 'categorical__Foundation_Slab',\n",
              "       'categorical__Foundation_Stone', 'categorical__Foundation_Wood',\n",
              "       'categorical__Heating_GasA', 'categorical__Heating_GasW',\n",
              "       'categorical__Heating_Grav', 'categorical__Heating_Wall',\n",
              "       'categorical__CentralAir_Y', 'categorical__Electrical_FuseF',\n",
              "       'categorical__Electrical_FuseP', 'categorical__Electrical_SBrkr',\n",
              "       'categorical__Electrical_nan', 'categorical__GarageType_Attchd',\n",
              "       'categorical__GarageType_Basment',\n",
              "       'categorical__GarageType_BuiltIn',\n",
              "       'categorical__GarageType_CarPort',\n",
              "       'categorical__GarageType_Detchd', 'categorical__GarageType_No',\n",
              "       'categorical__GarageFinish_No', 'categorical__GarageFinish_RFn',\n",
              "       'categorical__GarageFinish_Unf', 'categorical__Fence_GdWo',\n",
              "       'categorical__Fence_MnPrv', 'categorical__Fence_MnWw',\n",
              "       'categorical__Fence_No', 'categorical__MiscFeature_No',\n",
              "       'categorical__MiscFeature_Othr', 'categorical__MiscFeature_Shed',\n",
              "       'categorical__MiscFeature_TenC', 'categorical__MoSold_Aug',\n",
              "       'categorical__MoSold_Dec', 'categorical__MoSold_Feb',\n",
              "       'categorical__MoSold_Jan', 'categorical__MoSold_Jul',\n",
              "       'categorical__MoSold_Jun', 'categorical__MoSold_Mar',\n",
              "       'categorical__MoSold_May', 'categorical__MoSold_Nov',\n",
              "       'categorical__MoSold_Oct', 'categorical__MoSold_Sep',\n",
              "       'categorical__SaleType_CWD', 'categorical__SaleType_Con',\n",
              "       'categorical__SaleType_ConLD', 'categorical__SaleType_ConLI',\n",
              "       'categorical__SaleType_ConLw', 'categorical__SaleType_New',\n",
              "       'categorical__SaleType_Oth', 'categorical__SaleType_VWD',\n",
              "       'categorical__SaleType_WD ', 'categorical__SaleCondition_AdjLand',\n",
              "       'categorical__SaleCondition_Alloca',\n",
              "       'categorical__SaleCondition_Family',\n",
              "       'categorical__SaleCondition_Normal',\n",
              "       'categorical__SaleCondition_Partial'], dtype=object)"
            ]
          },
          "metadata": {},
          "execution_count": 155
        }
      ],
      "source": [
        "column_transformer.get_feature_names_out()"
      ]
    },
    {
      "cell_type": "markdown",
      "metadata": {
        "id": "DlQAR9968I45"
      },
      "source": [
        "**Zadanie 6 (0.75 punktu)**\n",
        "\n",
        "Wyczyść nazwy cech, usuwając z nich przedrostek \"num_pipeline__\" oraz \"cat_pipeline__\".\n",
        "\n",
        "Następnie narysuj poziomy wykres słupkowy 10 najważniejszych cech według regresji LASSO po tuningu. Wartościami mają być współczynniki cech. Użyj nazw cech do opisu wykresu. Zadbaj o odpowiedni tytuł.\n",
        "\n",
        "Wypisz także posortowaną listę nazw wyeliminowanych cech.\n",
        "\n",
        "Dokonaj interpretacji 2 wybranych cech spośród najlepszych oraz 2 wybranych spośród tych wyeliminowanych - przyda się dokumentacja do zbioru danych. Czy ta ocena dokonana przez model ma twoim zdaniem sens?\n",
        "\n",
        "Przydatna może być zamiana z `np.ndarray` na `pd.Series`, argument `key` w metodzie `.sort_values()`, oraz metoda `.plot.barh()`."
      ]
    },
    {
      "cell_type": "code",
      "execution_count": 156,
      "metadata": {
        "pycharm": {
          "is_executing": true
        },
        "id": "b34d2xZ18I46",
        "colab": {
          "base_uri": "https://localhost:8080/",
          "height": 1000
        },
        "outputId": "b6f19420-94cc-4760-bc56-e0552257e8ef"
      },
      "outputs": [
        {
          "output_type": "display_data",
          "data": {
            "text/plain": [
              "<Figure size 432x288 with 1 Axes>"
            ],
            "image/png": "[encoded data removed]"
          },
          "metadata": {
            "needs_background": "light"
          }
        },
        {
          "output_type": "execute_result",
          "data": {
            "text/plain": [
              "['Alley',\n",
              " 'BedroomAbvGr',\n",
              " 'BldgType_2fmCon',\n",
              " 'BsmtCond',\n",
              " 'BsmtHalfBath',\n",
              " 'BsmtUnfSF',\n",
              " 'Condition1_Feedr',\n",
              " 'Condition1_RRAe',\n",
              " 'Condition1_RRAn',\n",
              " 'Condition1_RRNe',\n",
              " 'Condition1_RRNn',\n",
              " 'Condition2_Feedr',\n",
              " 'Condition2_Norm',\n",
              " 'Condition2_PosA',\n",
              " 'Condition2_PosN',\n",
              " 'Condition2_RRAe',\n",
              " 'Condition2_RRAn',\n",
              " 'Condition2_RRNn',\n",
              " 'Electrical_FuseF',\n",
              " 'Electrical_FuseP',\n",
              " 'Electrical_SBrkr',\n",
              " 'Electrical_nan',\n",
              " 'Exterior1st_AsphShn',\n",
              " 'Exterior1st_BrkComm',\n",
              " 'Exterior1st_CBlock',\n",
              " 'Exterior1st_CemntBd',\n",
              " 'Exterior1st_HdBoard',\n",
              " 'Exterior1st_ImStucc',\n",
              " 'Exterior1st_MetalSd',\n",
              " 'Exterior1st_Plywood',\n",
              " 'Exterior1st_PreCast',\n",
              " 'Exterior1st_Stone',\n",
              " 'Exterior1st_Stucco',\n",
              " 'Exterior1st_VinylSd',\n",
              " 'Exterior1st_WdShing',\n",
              " 'Exterior2nd_AsphShn',\n",
              " 'Exterior2nd_Brk Cmn',\n",
              " 'Exterior2nd_BrkFace',\n",
              " 'Exterior2nd_HdBoard',\n",
              " 'Exterior2nd_ImStucc',\n",
              " 'Exterior2nd_Other',\n",
              " 'Exterior2nd_PreCast',\n",
              " 'Exterior2nd_Stone',\n",
              " 'Exterior2nd_Wd Sdng',\n",
              " 'Exterior2nd_Wd Shng',\n",
              " 'Fence_MnWw',\n",
              " 'Fence_No',\n",
              " 'Foundation_Slab',\n",
              " 'Foundation_Stone',\n",
              " 'Foundation_Wood',\n",
              " 'GarageFinish_No',\n",
              " 'GarageQual',\n",
              " 'GarageType_Basment',\n",
              " 'GarageType_CarPort',\n",
              " 'GarageType_Detchd',\n",
              " 'GarageType_No',\n",
              " 'Heating_Grav',\n",
              " 'HouseStyle_1.5Unf',\n",
              " 'HouseStyle_1Story',\n",
              " 'HouseStyle_2.5Fin',\n",
              " 'HouseStyle_2.5Unf',\n",
              " 'HouseStyle_2Story',\n",
              " 'HouseStyle_SFoyer',\n",
              " 'HouseStyle_SLvl',\n",
              " 'KitchenAbvGr',\n",
              " 'LandContour_Low',\n",
              " 'LandContour_Lvl',\n",
              " 'LandSlope',\n",
              " 'LotConfig_FR3',\n",
              " 'LowQualFinSF',\n",
              " 'MSSubClass_SC150',\n",
              " 'MSSubClass_SC180',\n",
              " 'MSSubClass_SC190',\n",
              " 'MSSubClass_SC40',\n",
              " 'MSSubClass_SC45',\n",
              " 'MSSubClass_SC60',\n",
              " 'MSSubClass_SC75',\n",
              " 'MSSubClass_SC80',\n",
              " 'MSZoning_I (all)',\n",
              " 'MSZoning_RH',\n",
              " 'MSZoning_RM',\n",
              " 'MasVnrType_BrkFace',\n",
              " 'MasVnrType_CBlock',\n",
              " 'MiscFeature_No',\n",
              " 'MiscFeature_Othr',\n",
              " 'MiscFeature_Shed',\n",
              " 'MiscFeature_TenC',\n",
              " 'MiscVal',\n",
              " 'MoSold_Dec',\n",
              " 'MoSold_Jun',\n",
              " 'MoSold_Mar',\n",
              " 'MoSold_Oct',\n",
              " 'MoSold_Sep',\n",
              " 'Neighborhood_Blueste',\n",
              " 'Neighborhood_BrDale',\n",
              " 'Neighborhood_Gilbert',\n",
              " 'Neighborhood_Greens',\n",
              " 'Neighborhood_Mitchel',\n",
              " 'Neighborhood_NAmes',\n",
              " 'Neighborhood_NPkVill',\n",
              " 'Neighborhood_NWAmes',\n",
              " 'Neighborhood_SWISU',\n",
              " 'Neighborhood_Sawyer',\n",
              " 'Neighborhood_SawyerW',\n",
              " 'Neighborhood_Timber',\n",
              " 'Neighborhood_Veenker',\n",
              " 'PoolArea',\n",
              " 'PoolQC',\n",
              " 'RoofMatl_Membran',\n",
              " 'RoofMatl_Metal',\n",
              " 'RoofMatl_Roll',\n",
              " 'RoofMatl_Tar&Grv',\n",
              " 'RoofMatl_WdShake',\n",
              " 'RoofMatl_WdShngl',\n",
              " 'RoofStyle_Gable',\n",
              " 'RoofStyle_Gambrel',\n",
              " 'RoofStyle_Shed',\n",
              " 'SaleType_CWD',\n",
              " 'SaleType_Con',\n",
              " 'SaleType_ConLI',\n",
              " 'SaleType_ConLw',\n",
              " 'SaleType_VWD',\n",
              " 'Street',\n",
              " 'TotRmsAbvGrd',\n",
              " 'Utilities',\n",
              " 'X2ndFlrSF',\n",
              " 'X3SsnPorch']"
            ]
          },
          "metadata": {},
          "execution_count": 156
        }
      ],
      "source": [
        "names = column_transformer.get_feature_names_out()\n",
        "new_names = [n.replace(\"numerical__\", \"\").replace(\"categorical__\", \"\") for n in names]\n",
        "\n",
        "features = pd.Series({name: coef for name, coef in zip(new_names, lasso_cv.coef_)})\n",
        "\n",
        "ax = features.sort_values(key=abs).tail(10).plot.barh()\n",
        "ax.set_title(\"Najważniejsze cechy wg LASSO\")\n",
        "ax.set_xlabel(\"Współczynnik\")\n",
        "ax.set_ylabel(\"Cecha\")\n",
        "plt.show()\n",
        "\n",
        "sorted([name for name, coef in zip(new_names, lasso_cv.coef_) if coef == 0])"
      ]
    },
    {
      "cell_type": "markdown",
      "metadata": {
        "id": "vn-v-ci68I46"
      },
      "source": [
        "\"GrLivArea\" powinno być pozytywnie skorelowana z ceną domu, ponieważ im większa powierzchnia mieszkalna tym zwykle większa cena, bo nieruchmości sprzedaje się z ceną za jednostkę powierzchni\n",
        "\n",
        "\"OverallQual\" to również jedna z najważniejszych cech poniważ opisuje ogólną jakość i wykończenie domu. Zatem jest to jedna z cech opisujących wartość domu dosyć wprost.\n",
        "\n",
        "Z koleji \"Alley\" opisuje typ meteriału podjazdu, co rzeczywiście nie wydaje się mieć wielkiego znaczenia przy wyborze domu. Choć to że występuje tam również wartość \"brak podjazdu\" a to już może w niektórych przypadkach mieć dosyć duży wpływ na cene, ponieważ kupujący musi rozwazyć koszt budowy podjazdu samemu.\n",
        "\n",
        "Wyeliminowany został również brak furtki, co na pierwszy rzut oka bylo dla mnie dziwne, ale przy kupnie całego domu nie jest to aż tak ważna rzecz.\n"
      ]
    },
    {
      "cell_type": "markdown",
      "metadata": {
        "id": "TuBysHdq8I47"
      },
      "source": [
        "## Regresja wielomianowa"
      ]
    },
    {
      "cell_type": "markdown",
      "metadata": {
        "id": "DwhrDTIQ8I47"
      },
      "source": [
        "Regresja wielomianowa to po prostu dodanie wielomianów cech do naszych danych:\n",
        "$$\n",
        "[a, b, c, d] -> [a, b, c, d, a^2, b^2, c^2, d^2, ab, ac, ad, bc, bd, cd]\n",
        "$$\n",
        "\n",
        "W Scikit-learn regresja wielomianowa składa się z 2 osobnych kroków: wygenerowania cech wielomianowych i użycia zwykłej regresji liniowej. Pozwala to na użycie tej transformacji dla dowolnych algorytmów, nie tylko regresji liniowej.\n",
        "\n",
        "Kwestią sporną jest, czy jest sens przeprowadzać taką transformację dla zmiennych po one-hot encodingu. Potęgi na pewno nie mają sensu, natomiast interakcje realizują po prostu operację koniunkcji (AND), ale łatwo prowadzi to do eksplozji wymiarowości. Dla uproszczenia poniżej zastosujemy transformację dla wszystkich cech.\n",
        "\n",
        "Warto pamiętać, że jeżeli używamy modelu, który sam dodaje intercept (jak regresja liniowa), to trzeba przekazać `include_bias=False`. Żeby wymiarowość nam nie urosła zbyt bardzo, użyjemy `interaction_only=True`."
      ]
    },
    {
      "cell_type": "code",
      "execution_count": 157,
      "metadata": {
        "id": "HjXt37BK8I48",
        "colab": {
          "base_uri": "https://localhost:8080/"
        },
        "outputId": "c6241423-d3e6-4137-d059-a0b701e0b194"
      },
      "outputs": [
        {
          "output_type": "stream",
          "name": "stdout",
          "text": [
            "RMSE train: 12856.8789\n",
            "RMSE test: 18298.3020\n",
            "\n",
            "Ridge + polynomial features alpha: 84.8000\n"
          ]
        }
      ],
      "source": [
        "from sklearn.preprocessing import PolynomialFeatures\n",
        "\n",
        "poly_features = PolynomialFeatures(degree=2, interaction_only=True, include_bias=False)\n",
        "poly_features.fit(X_train)\n",
        "\n",
        "X_train_poly = poly_features.transform(X_train)\n",
        "X_test_poly = poly_features.transform(X_test)\n",
        "\n",
        "reg_ridge_cv_poly = RidgeCV(alphas=np.linspace(0.1, 100, 1000))\n",
        "reg_ridge_cv_poly.fit(X_train_poly, y_train)\n",
        "\n",
        "assess_regression_model(reg_ridge_cv_poly, X_train_poly, X_test_poly, y_train, y_test)\n",
        "print()\n",
        "print(f\"Ridge + polynomial features alpha: {reg_ridge_cv_poly.alpha_:.4f}\")"
      ]
    },
    {
      "cell_type": "markdown",
      "metadata": {
        "id": "EfPOZQ7R8I49"
      },
      "source": [
        "Co ciekawe, model bardziej zbliżył się do przeuczenia, ale błąd testowy zmalał. Jest to niezbyt częste, ale możliwe."
      ]
    },
    {
      "cell_type": "markdown",
      "metadata": {
        "id": "1c6Mzkjj8I49"
      },
      "source": [
        "## Regresja logistyczna"
      ]
    },
    {
      "cell_type": "markdown",
      "metadata": {
        "id": "bBkNvcJB8I4-"
      },
      "source": [
        "Do klasyfikacji wykorzystamy zbiór [Bank Marketing](https://archive.ics.uci.edu/ml/datasets/bank+marketing), w którym przewiduje się, czy dana osoba będzie zainteresowana lokatą terminową w banku. Precyzyjny targetowany marketing jest ważny z perspektywy biznesu, bo w praktyce chce się reklamować tak mało, jak to możliwe. Bank zarabia tylko na tych osobach, które są faktycznie zainteresowane reklamą, a pozostałych można łatwo zrazić zbyt dużą liczbą reklam, więc precyzyjna ocena przynosi tu realne zyski.\n",
        "\n",
        "Zbiór posiada dwie wersje, uproszczoną oraz rozszerzoną o dodatkowe atrybuty socjoekonomiczne (np. sytuację ekonomiczną w planowanym momencie reklamy). Wykorzystamy tę drugą, bo są to bardzo wartościowe cechy. Dodatkowo każda wersja posiada pełen zbiór (ok. 45 tysięcy przykładów) oraz pomniejszony (ok. 4 tysiąca przykładów). Dzięki skalowalności regresji logistycznej możemy bez problemu wykorzystać pełny zbiór z dodatkowymi cechami.\n",
        "\n",
        "Opisy zmiennych znajdują się w pliku `bank_marketing_description.txt`."
      ]
    },
    {
      "cell_type": "markdown",
      "metadata": {
        "id": "R9l8HJBs8I4_"
      },
      "source": [
        "**Zadanie 7 (1 punkt)**\n",
        "\n",
        "*Wczytywanie i czyszczenie danych*\n",
        "\n",
        "1. Załaduj zbiór danych z pliku `bank_marketing_data.csv` do DataFrame'a. Zwróć uwagę, że separatorem jest średnik (argument `sep`).\n",
        "2. Usuń kolumny:\n",
        "  - `default`, czy klient ma zadłużenie na karcie kredytowej; ma tylko 3 wartości `yes`\n",
        "  - `duration`, czas trwania ostatniego telefonu reklamowego; autorzy sugerują usunięcie w opisie zbioru, bo nie znamy tej wartości przed wykonaniem telefonu\n",
        "  - `pdays`, liczba dni od ostatniego telefonu reklamowego w ramach danej kampanii marketingowej; jeżeli to pierwszy kontakt, to wartość to 999, i ciężko byłoby włączyć taką cechę do modelu, a mamy już i tak informację o tym, czy to pierwszy kontakt z klientem w zmiennej `previous`\n",
        "  - `poutcome`, wynik poprzedniej kampanii; w zdecydowanej większości przypadków to `nonexistent`\n",
        "3. Dokonaj filtrowania wierszy:\n",
        "  - usuń wiersze z `education` na poziomie `illiterate`, jest ich tylko kilkanaście\n",
        "4. Zakoduj odpowiednio zmienne `education`, `contact`, `month`, `day_of_week` i `y`. Dla ułatwienia słowniki są w zmiennych poniżej.\n",
        "5. Wyodrębnij kolumnę `y` do zmiennej `y` (pamiętaj o usunięciu jej z DataFrame'a)."
      ]
    },
    {
      "cell_type": "code",
      "execution_count": 158,
      "metadata": {
        "id": "ONAQWAmm8I5A"
      },
      "outputs": [],
      "source": [
        "education_mapping = {\n",
        "    \"basic.4y\": \"primary\",\n",
        "    \"basic.6y\": \"primary\",\n",
        "    \"basic.9y\": \"primary\",\n",
        "    \"high.school\": \"secondary\",\n",
        "    \"professional.course\": \"secondary\",\n",
        "    \"university.degree\": \"tertiary\",\n",
        "}\n",
        "\n",
        "contact_mapping = {\n",
        "    \"telephone\": 0,\n",
        "    \"cellular\": 1,\n",
        "}\n",
        "\n",
        "month_mapping = {\n",
        "    \"jan\": 1,\n",
        "    \"feb\": 2,\n",
        "    \"mar\": 3,\n",
        "    \"apr\": 4,\n",
        "    \"may\": 5,\n",
        "    \"jun\": 6,\n",
        "    \"jul\": 7,\n",
        "    \"aug\": 8,\n",
        "    \"sep\": 9,\n",
        "    \"oct\": 10,\n",
        "    \"nov\": 11,\n",
        "    \"dec\": 12,\n",
        "}\n",
        "\n",
        "day_of_week_mapping = {\n",
        "    \"mon\": 1,\n",
        "    \"tue\": 2,\n",
        "    \"wed\": 3,\n",
        "    \"thu\": 4,\n",
        "    \"fri\": 5,\n",
        "}\n",
        "\n",
        "y_mapping = {\n",
        "    \"no\": 0,\n",
        "    \"yes\": 1,\n",
        "}"
      ]
    },
    {
      "cell_type": "code",
      "execution_count": 159,
      "metadata": {
        "id": "YsBtlU6s8I5A"
      },
      "outputs": [],
      "source": [
        "df = pd.read_csv('bank_marketing_data.csv', sep=';')\n",
        "\n",
        "df.drop(columns=['default', 'duration', 'pdays', 'poutcome'], inplace=True)\n",
        "df = df[df['education'] != 'illiterate']\n",
        "\n",
        "df['education'] = df['education'].map(education_mapping)\n",
        "df['contact'] = df['contact'].map(contact_mapping)\n",
        "df['month'] = df['month'].map(month_mapping)\n",
        "df['day_of_week'] = df['day_of_week'].map(day_of_week_mapping)\n",
        "df['y'] = df['y'].map(y_mapping)\n",
        "\n",
        "y = df.pop('y')"
      ]
    },
    {
      "cell_type": "markdown",
      "metadata": {
        "id": "oOqI37cu8I5B"
      },
      "source": [
        "**Zadanie 8 (0.5 punktu)**\n",
        "\n",
        "*Exploratory Data Analysis (EDA)*\n",
        "\n",
        "1. Sprawdź, czy są jakieś wartości brakujące za pomocą biblioteki `missingno`. Jeżeli tak, to sprawdź w dokumentacji zbioru, jaka byłaby sensowna wartość do ich uzupełnienia.\n",
        "2. Narysuj wykres (bar plot) z częstością klas. Uwzględnij częstość na wykresie ([to może się przydać](https://stackoverflow.com/a/68107610/9472066)). Pamiętaj o tytule i opisaniu osi."
      ]
    },
    {
      "cell_type": "code",
      "execution_count": 160,
      "metadata": {
        "id": "Axfp4GlT8I5B",
        "colab": {
          "base_uri": "https://localhost:8080/",
          "height": 926
        },
        "outputId": "bb55a22b-03ab-4d6c-c2bc-e516036093ac"
      },
      "outputs": [
        {
          "output_type": "display_data",
          "data": {
            "text/plain": [
              "<Figure size 1800x720 with 3 Axes>"
            ],
            "image/png": "[encoded data removed]"
          },
          "metadata": {
            "needs_background": "light"
          }
        },
        {
          "output_type": "display_data",
          "data": {
            "text/plain": [
              "<Figure size 576x432 with 1 Axes>"
            ],
            "image/png": "[encoded data removed]"
          },
          "metadata": {
            "needs_background": "light"
          }
        }
      ],
      "source": [
        "msno.bar(df)\n",
        "\n",
        "replace_na(df, \"education\", value=\"primary\")\n",
        "\n",
        "\n",
        "fig, ax = plt.subplots(figsize=(8,6))\n",
        "y.value_counts().plot(kind='bar', ax=ax)\n",
        "ax.set_title('Częstość klas')\n",
        "ax.set_xlabel('Klasa')\n",
        "ax.set_ylabel('Częstość')\n",
        "\n",
        "for container in ax.containers:\n",
        "    ax.bar_label(container)"
      ]
    },
    {
      "cell_type": "markdown",
      "metadata": {
        "id": "OQWSWd0q8I5C"
      },
      "source": [
        "Jak widać, będziemy tu mieli do czynienia z problemem klasyfikacji niezbalansowanej. Na szczęście funkcja kosztu w regresji logistycznej pozwala na dodanie **wag klas (class weights)**, aby przypisać większą wagę interesującej nas klasie pozytywnej. Scikit-learn dla wartości `class_weights=\"balanced\"` obliczy wagi odwrotnie proporcjonalne do częstości danej klasy w zbiorze."
      ]
    },
    {
      "cell_type": "markdown",
      "metadata": {
        "id": "oEvqgHZl8I5C"
      },
      "source": [
        "**Zadanie 9 (1 punkt)**\n",
        "\n",
        "*Podział i preprocessing danych*\n",
        "\n",
        "1. Dokonaj podziału zbioru na treningowy i testowy w proporcjach 75%-25%. Pamiętaj o użyciu podziału ze stratyfikacją (argument `stratify`), aby zachować proporcje klas. Ustaw `random_state=0`.\n",
        "2. Stwórz `ColumnTransformer`, przetwarzający zmienne kategoryczne za pomocą `OneHotEncoder` (teraz już nie musimy robić `drop=\"first\"`), a numeryczne za pomocą `StandardScaler`. Zaaplikuj go do odpowiednich kolumn.\n"
      ]
    },
    {
      "cell_type": "code",
      "execution_count": 161,
      "metadata": {
        "id": "nN4qY_m-8I5D"
      },
      "outputs": [],
      "source": [
        "from sklearn.preprocessing import StandardScaler\n",
        "\n",
        "X_train, X_test, y_train, y_test = train_test_split(df, y, test_size=0.25, stratify=y, random_state=0)\n",
        "\n",
        "cat_features = df.select_dtypes(include=\"object\").columns\n",
        "num_features = df.select_dtypes(exclude=\"object\").columns\n",
        "\n",
        "one_hot_encoder = OneHotEncoder(\n",
        "    sparse_output=False, handle_unknown=\"ignore\"\n",
        ")\n",
        "\n",
        "scaler = StandardScaler()\n",
        "\n",
        "cat_pipeline = Pipeline(steps=[(\"encode\", one_hot_encoder)])\n",
        "\n",
        "num_pipeline = Pipeline(steps=[(\"norm\", scaler)])\n",
        "\n",
        "column_transformer = ColumnTransformer(\n",
        "    transformers = [\n",
        "      ('num', num_pipeline, num_features),\n",
        "      ('cat', cat_pipeline, cat_features)\n",
        "    ]\n",
        ")\n",
        "\n",
        "column_transformer.fit(X_train)\n",
        "\n",
        "X_train = column_transformer.transform(X_train)\n",
        "X_test = column_transformer.transform(X_test)"
      ]
    },
    {
      "cell_type": "markdown",
      "metadata": {
        "id": "_FQpuQuV8I5D"
      },
      "source": [
        "**Zadanie 10 (2.5 punktu)**\n",
        "\n",
        "*Trening, tuning i analiza modeli*\n",
        "\n",
        "1. Wytrenuj podstawowy model regresji logistycznej z użyciem `LogisticRegression`. Użyj wag klas (`class_weights=\"balanced\"`). Przetestuj model, wypisując AUROC w procentach. **Uwaga:** Scikit-learn domyślnie stosuje tutaj regularyzację L2, więc przekaż `penalty=\"None\"`.\n",
        "2. Dokonaj tuningu modelu z regularyzacją L2 za pomocą `LogisticRegressionCV`:\n",
        "  - sprawdź 100 wartości, wystarczy podać liczbę do `Cs`\n",
        "  - użyj 5-krotnej walidacji skrośnej\n",
        "  - wybierz najlepszy model według metryki AUROC (parametr `scoring`)\n",
        "  - pamiętaj o `class_weights=\"balanced\"` i `random_state=0`\n",
        "  - użyj `n_jobs=-1` dla przyspieszenia obliczeń\n",
        "  - przetestuj model, wypisując AUROC w procentach\n",
        "  - **uwaga:** Scikit-learn stosuje tutaj konwencję, gdzie parametr `C` to odwrotność siły regularyzacji - im mniejszy, tym silniejsza regularyzacja.\n",
        "3. Dokonaj analogicznego tuningu, ale dla regularyzacji L1. Użyj solwera SAGA. Przetestuj model, wypisując AUROC w procentach.\n",
        "4. Dokonaj analizy wytrenowanych modeli:\n",
        "  - narysuj poziomy wykres słupkowy 10 najważniejszych cech przy użyciu regularyzacji L2, pamiętaj o opisaniu nazw cech, osi i tytule; zwróć uwagę, że wektor współczynników musi być jednowymiarowy\n",
        "  - wypisz, ile procent cech zostało wyeliminowanych przy użyciu regularyzacji L1, oraz wypisz posortowaną listę nazw tych cech\n",
        "  - dokonaj interpretacji 2 wybranych cech spośród najlepszych oraz 2 wybranych spośród tych wyeliminowanych - czy ma to twoim zdaniem sens?\n",
        "  - oblicz AUROC na zbiorze treningowym modelu bez żadnej regularyzacji i porównaj go z wynikiem testowym; czy występuje tutaj overfitting?\n",
        "  - czy twoim zdaniem tworzenie modeli z regularyzacją ma sens w tym przypadku?"
      ]
    },
    {
      "cell_type": "code",
      "execution_count": 162,
      "metadata": {
        "id": "Xr8ebBha8I5E",
        "colab": {
          "base_uri": "https://localhost:8080/"
        },
        "outputId": "2f1db757-5b3c-4d50-aa27-f53742170dda"
      },
      "outputs": [
        {
          "output_type": "stream",
          "name": "stdout",
          "text": [
            "AUROC: 71.70114391176676%\n",
            "AUROC: 71.47058190080658%\n",
            "AUROC: 71.04165041138995%\n"
          ]
        }
      ],
      "source": [
        "from sklearn.metrics import roc_auc_score\n",
        "from sklearn.linear_model import LogisticRegression, LogisticRegressionCV\n",
        "\n",
        "percent = lambda x : str(x*100) + \"%\"\n",
        "\n",
        "reg_log = LogisticRegression(class_weight=\"balanced\", penalty=None)\n",
        "reg_log.fit(X_train, y_train)\n",
        "y_pred = reg_log.predict(X_test)\n",
        "auroc_ = roc_auc_score(y_test, y_pred)\n",
        "print(f\"AUROC: \" + percent(auroc_))\n",
        "\n",
        "\n",
        "ridge_log = LogisticRegressionCV(Cs=100, cv=5, random_state=0, scoring=\"roc_auc\", class_weight=\"balanced\", n_jobs=-1, penalty=\"l2\")\n",
        "ridge_log.fit(X_train, y_train)\n",
        "y_pred = ridge_log.predict(X_test)\n",
        "auroc_ridge = roc_auc_score(y_test, y_pred)\n",
        "print(\"AUROC: \" + percent(auroc_ridge))\n",
        "\n",
        "\n",
        "lasso_log = LogisticRegressionCV(Cs=100, cv=5, random_state=0, scoring=\"roc_auc\", class_weight=\"balanced\", n_jobs=-1, penalty=\"l1\",  solver='saga')\n",
        "lasso_log.fit(X_train, y_train)\n",
        "y_pred = lasso_log.predict(X_test)\n",
        "auroc_lasso = roc_auc_score(y_test, y_pred)\n",
        "print(\"AUROC: \" + percent(auroc_lasso))"
      ]
    },
    {
      "cell_type": "code",
      "source": [
        "names = [n.replace(\"num__\", \"\").replace(\"cat__\", \"\") for n in column_transformer.get_feature_names_out()]\n",
        "features = pd.Series({name: coef for name, coef in zip(names, ridge_log.coef_[0])})\n",
        "\n",
        "ax = features.sort_values(key=abs).tail(10).plot.barh()\n",
        "ax.set_title(\"Najważniejsze cechy\")\n",
        "ax.set_xlabel(\"Współczynnik\")\n",
        "ax.set_ylabel(\"Cecha\")\n",
        "plt.show()\n",
        "\n",
        "d = sorted([name for name, coef in zip(names, lasso_log.coef_[0]) if coef == 0])\n",
        "c = len(d) / len(names) * 100\n",
        "print(str(c) + \"%\")\n",
        "print(d)"
      ],
      "metadata": {
        "colab": {
          "base_uri": "https://localhost:8080/",
          "height": 351
        },
        "id": "5Fx1qB-oBqc2",
        "outputId": "283438fb-aa10-42b0-bb9f-5abc19f59a14"
      },
      "execution_count": 163,
      "outputs": [
        {
          "output_type": "display_data",
          "data": {
            "text/plain": [
              "<Figure size 432x288 with 1 Axes>"
            ],
            "image/png": "[encoded data removed]"
          },
          "metadata": {
            "needs_background": "light"
          }
        },
        {
          "output_type": "stream",
          "name": "stdout",
          "text": [
            "52.77777777777778%\n",
            "['age', 'education_primary', 'education_secondary', 'euribor3m', 'housing_unknown', 'housing_yes', 'job_admin.', 'job_entrepreneur', 'job_housemaid', 'job_management', 'job_self-employed', 'job_technician', 'job_unemployed', 'job_unknown', 'loan_no', 'loan_unknown', 'loan_yes', 'marital_divorced', 'marital_unknown']\n"
          ]
        }
      ]
    },
    {
      "cell_type": "markdown",
      "metadata": {
        "id": "k0jf_1Kp8I5F"
      },
      "source": [
        "// skomentuj tutaj\n",
        "Widać że \"contact\" przez telefon komórkowy wpływa bardzo pozytywnie na wynik, co ma sens, ułatwia to kantakt i demografia posiadająca komórki moze byc bardziej zainteresowana reklamą.\n",
        "Z kolei wskaźnik zmienności zatrudnienia co zrozumiałe wpływa negatywnie, jeśli ludzie często zmieniają pracę i mogą mieć okresy bez niej, to raczej nie chcą trzymać pieniędzy na lokacie.\n",
        "\"job_blue_collar\" będzie zmniejszał szansę ulokowania pieniędzy, i patrząc stereotypowo jest to logiczne jeśli się założy że tacy pracownicy średnio zarabiają mniej i często na mniej regularne umowy.\n",
        "\n",
        "Wyeliminowane zostało \"age\", co na pierwszy rzut oka wydało mi się dziwne, ale pośród najlepszych cech znajdują się job_student i job_retired, które mocno określają wiek.\n",
        "Wyeliminowano też większość zawodów, co może mieć sens ponieważ większe znaczenie niż sama kategoria zawodu miałaby wysokość wypłaty i rodzaj umowy. Dziwi mnie jednak to że \"job_unemployed\" został wyeliminowany bo to powinno mieć dosyć duże znaczenie.\n"
      ]
    },
    {
      "cell_type": "code",
      "source": [
        "y_pred = reg_log.predict(X_train)\n",
        "auroc = roc_auc_score(y_train, y_pred)\n",
        "print(f\"AUROC: \" + percent(auroc))\n",
        "print(f\"AUROC: \" + percent(auroc_))"
      ],
      "metadata": {
        "colab": {
          "base_uri": "https://localhost:8080/"
        },
        "id": "kLVluKjEP96s",
        "outputId": "71dde19b-5b98-460a-8c33-1cad38a62e39"
      },
      "execution_count": 164,
      "outputs": [
        {
          "output_type": "stream",
          "name": "stdout",
          "text": [
            "AUROC: 72.30446531849547%\n",
            "AUROC: 71.70114391176676%\n"
          ]
        }
      ]
    },
    {
      "cell_type": "markdown",
      "source": [
        "Wygląda na to że nie ma overfittingu, i chyba nie ma sensu bo regularyzacja trochę pogarszała auroc\n"
      ],
      "metadata": {
        "id": "H6Gg1XpfRiVA"
      }
    },
    {
      "cell_type": "markdown",
      "metadata": {
        "id": "_fH_OMCV8I5F"
      },
      "source": [
        "**Zadanie 11 (1.5 punktu)**\n",
        "\n",
        "*Dodanie cech wielomianowych do regresji logistycznej*\n",
        "\n",
        "1. Stwórz nowy pipeline do przetwarzania danych do regresji logistycznej, dodając `PolynomialFeatures` do zmiennych numerycznych przed standaryzacją. Wygeneruj cechy o stopniu 2, interakcje oraz potęgi, nie generuj interceptu.\n",
        "2. Wytrenuj model regresji logistycznej bez regularyzacji na takim powiększonym zbiorze. Wypisz AUROC treningowy oraz testowy w procentach.\n",
        "3. Zdecyduj, czy jest sens tworzyć modele z regularyzacją. Jeżeli tak, to wytrenuj i dokonaj tuningu takich modeli. Jeżeli nie, to uzasadnij czemu."
      ]
    },
    {
      "cell_type": "code",
      "execution_count": 165,
      "metadata": {
        "id": "SLqarpup8I5G",
        "colab": {
          "base_uri": "https://localhost:8080/"
        },
        "outputId": "00c55d28-310a-4612-f418-177fe5d8a90c"
      },
      "outputs": [
        {
          "output_type": "stream",
          "name": "stderr",
          "text": [
            "/usr/local/lib/python3.9/dist-packages/sklearn/linear_model/_logistic.py:1173: FutureWarning: `penalty='none'`has been deprecated in 1.2 and will be removed in 1.4. To keep the past behaviour, set `penalty=None`.\n",
            "  warnings.warn(\n"
          ]
        },
        {
          "output_type": "stream",
          "name": "stdout",
          "text": [
            "AUROC: 79.51700119030374%\n",
            "AUROC: 78.70311419299611%\n"
          ]
        },
        {
          "output_type": "stream",
          "name": "stderr",
          "text": [
            "/usr/local/lib/python3.9/dist-packages/sklearn/linear_model/_logistic.py:458: ConvergenceWarning: lbfgs failed to converge (status=1):\n",
            "STOP: TOTAL NO. of ITERATIONS REACHED LIMIT.\n",
            "\n",
            "Increase the number of iterations (max_iter) or scale the data as shown in:\n",
            "    https://scikit-learn.org/stable/modules/preprocessing.html\n",
            "Please also refer to the documentation for alternative solver options:\n",
            "    https://scikit-learn.org/stable/modules/linear_model.html#logistic-regression\n",
            "  n_iter_i = _check_optimize_result(\n"
          ]
        }
      ],
      "source": [
        "X_train, X_test, y_train, y_test = train_test_split(df, y, test_size=0.25, stratify=y, random_state=0)\n",
        "\n",
        "cat_features = df.select_dtypes(include=\"object\").columns\n",
        "num_features = df.select_dtypes(exclude=\"object\").columns\n",
        "\n",
        "one_hot_encoder = OneHotEncoder(\n",
        "    sparse_output=False, handle_unknown=\"ignore\"\n",
        ")\n",
        "\n",
        "scaler = StandardScaler()\n",
        "\n",
        "poly = PolynomialFeatures(degree=2, interaction_only=False, include_bias=False)\n",
        "\n",
        "cat_pipeline = Pipeline(steps=[(\"encode\", one_hot_encoder)])\n",
        "\n",
        "num_pipeline = Pipeline(steps=[(\"poly\", poly), (\"norm\", scaler)])\n",
        "\n",
        "column_transformer = ColumnTransformer(\n",
        "    transformers = [\n",
        "      ('num', num_pipeline, num_features),\n",
        "      ('cat', cat_pipeline, cat_features)\n",
        "    ]\n",
        ")\n",
        "\n",
        "column_transformer.fit(X_train)\n",
        "\n",
        "X_train = column_transformer.transform(X_train)\n",
        "X_test = column_transformer.transform(X_test)\n",
        "\n",
        "\n",
        "model = LogisticRegression(penalty='none', random_state=0)\n",
        "model.fit(X_train, y_train)\n",
        "\n",
        "y_pred = model.predict_proba(X_train)[:, 1]\n",
        "auroc = roc_auc_score(y_train, y_pred)\n",
        "print(f\"AUROC: \" + percent(auroc))\n",
        "\n",
        "y_pred = model.predict_proba(X_test)[:, 1]\n",
        "auroc = roc_auc_score(y_test, y_pred)\n",
        "print(f\"AUROC: \" + percent(auroc))\n",
        "\n",
        "\n"
      ]
    },
    {
      "cell_type": "markdown",
      "source": [
        "Wartości znów sa bardzo zbliżone, zatem nie występuje overfitting. A jeżeli nie występuje, to nie ma powodu żeby regularyzowac model.\n"
      ],
      "metadata": {
        "id": "ImP3-qvoUZDb"
      }
    },
    {
      "cell_type": "markdown",
      "metadata": {
        "id": "ZuZjj0uo8I5G"
      },
      "source": [
        "## Zadanie dodatkowe (3 punkty)"
      ]
    },
    {
      "cell_type": "markdown",
      "metadata": {
        "id": "jsMqq1-38I5H"
      },
      "source": [
        "Z formalnego, statystycznego punktu widzenia regresja liniowa czyni szereg założeń ([Wikipedia](https://en.wikipedia.org/wiki/Linear_regression#Assumptions)):\n",
        "1. Liniowość - relacja w danych może być reprezentowana jako `y=Xw`.\n",
        "2. Normalność błędów - błędy (rezydua) mają rozkład normalny, wycentrowany na zerze.\n",
        "3. Homoskedastyczność (stała wariancja) - wariancja błędu nie zależy od wartości docelowych `y`. Innymi słowy, nasz błąd będzie w przybliżeniu miał podobny \"rozrzut\" dla małych i dużych wartości `y`.\n",
        "4. Niezależność błędów - błąd i `y` są niezależne (w sensie statystycznym). Innymi słowy, nie ma między nimi bezpośredniej relacji. Jeżeli nie pracujemy z szeregami czasowymi, to to założenie po prostu jest spełnione.\n",
        "5. Brak współliniowości zmiennych - nie ma idealnej korelacji cech.\n",
        "\n",
        "Testowanie tych własności nie zawsze jest oczywiste, a w szczególności Scikit-learn oferuje tutaj dość mało opcji, bo pochodzą one głównie z tradycyjnej statystyki.\n",
        "\n",
        "1. Liniowość:\n",
        "  - numerycznie: wysoki współczynnik dopasowania modelu $R^2$ na zbiorze treningowym, niski błąd (RMSE) na zbiorze treningowym oraz testowym\n",
        "  - testem statystycznym: [Rainbow test](https://www.statsmodels.org/dev/generated/statsmodels.stats.diagnostic.linear_rainbow.html) lub [Harvey Collier test](https://www.statsmodels.org/stable/generated/statsmodels.stats.diagnostic.linear_harvey_collier.html)\n",
        "  - graficznie: możliwe kiedy mamy 1/2 zmienne i da się narysować wykres zmiennej zależnej względem cech\n",
        "2. Normalność błędów:\n",
        "  - graficznie: robimy histogram rezyduów, powinien mieć kształt rozkładu normalnego i być wycentrowany na zerze\n",
        "  - testem statystycznym: [Jarque-Bera test](https://en.wikipedia.org/wiki/Jarque%E2%80%93Bera_test), [Omnibus normality test](https://docs.scipy.org/doc/scipy/reference/generated/scipy.stats.normaltest.html)\n",
        "3. Homoskedastyczność:\n",
        "  - graficznie: robimy scatter plot rezyduów dla wartości przewidywanych od najmniejszej do największej, nie powinno być na nim żadnych widocznych wzorców czy kształtów; [przykład 1](https://towardsdatascience.com/multivariant-linear-regression-e636a4f99b40), [przykład 2](https://www.vexpower.com/brief/homoskedasticity)\n",
        "  - testem statystycznym: [Breusch–Pagan test](https://en.wikipedia.org/wiki/Breusch%E2%80%93Pagan_test) lub [Goldfeld-Quandt test](https://en.wikipedia.org/wiki/Goldfeld%E2%80%93Quandt_test)\n",
        "4. Niezależność błędów - nie omawiam, bo dotyczy tylko szeregów czasowych.\n",
        "5. Brak współliniowości zmiennych: numerycznie, sprawdzić korelacje zmiennych, lub współczynnik uwarunkowania macierzy `X`\n",
        "\n",
        "\n",
        "W ramach zadania wytrenuj model regresji liniowej dla zbioru danych Ames Housing z użyciem biblioteki Statsmodels: [OLS docs](https://www.statsmodels.org/dev/generated/statsmodels.regression.linear_model.OLS.html), [OLS](https://www.statsmodels.org/dev/examples/notebooks/generated/ols.html), [Regression diagnostics](https://www.statsmodels.org/dev/examples/notebooks/generated/regression_diagnostics.html). Wytrenuj najpierw model bez regularyzacji, a następnie z regularyzacją L2 oraz L1. Nie przeprowadzaj tuningu, użyj tych wartości siły regularyzacji, które wyznaczyliśmy wcześniej.\n",
        "\n",
        "Przetestuj założenia za pomocą testów statystycznych: Harvey Collier, Jarque-Bera, Breusch–Pagan. Współliniowość zmiennych zweryfikuj z użyciem współczynnika uwarunkowania. Zastosuj poziom istotności $\\alpha=0.05$.\n",
        "\n",
        "Czy założenia są spełnione w przypadku podstawowego modelu i/lub modeli z regularyzacją? Czy modele regularyzowane w lepszym stopniu spełniają założenia?"
      ]
    },
    {
      "cell_type": "code",
      "execution_count": 165,
      "metadata": {
        "id": "jOeAFfwU8I5I"
      },
      "outputs": [],
      "source": []
    }
  ],
  "metadata": {
    "kernelspec": {
      "display_name": "PUM",
      "language": "python",
      "name": "pum"
    },
    "language_info": {
      "codemirror_mode": {
        "name": "ipython",
        "version": 3
      },
      "file_extension": ".py",
      "mimetype": "text/x-python",
      "name": "python",
      "nbconvert_exporter": "python",
      "pygments_lexer": "ipython3",
      "version": "3.10.9"
    },
    "colab": {
      "provenance": []
    }
  },
  "nbformat": 4,
  "nbformat_minor": 0
}