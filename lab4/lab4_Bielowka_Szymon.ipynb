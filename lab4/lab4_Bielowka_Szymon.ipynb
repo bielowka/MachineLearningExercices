{
  "cells": [
    {
      "cell_type": "markdown",
      "metadata": {
        "id": "HMvaQffSo1x1"
      },
      "source": [
        "# Metody probabilistyczne"
      ]
    },
    {
      "cell_type": "markdown",
      "metadata": {
        "id": "cLzCjXxwo1x3"
      },
      "source": [
        "## Konfiguracja"
      ]
    },
    {
      "cell_type": "markdown",
      "metadata": {
        "id": "cRnjwWPEo1x3"
      },
      "source": [
        "Użyjemy bardzo standardowych narzędzi, tych samych, co na laboratorium 3."
      ]
    },
    {
      "cell_type": "code",
      "execution_count": null,
      "metadata": {
        "scrolled": true,
        "id": "pH4b6PgYo1x4"
      },
      "outputs": [],
      "source": [
        "# !pip install numpy scipy pandas matplotlib scikit-learn pyarrow"
      ]
    },
    {
      "cell_type": "code",
      "execution_count": 20,
      "metadata": {
        "id": "erMj6Ce2o1x5"
      },
      "outputs": [],
      "source": [
        "import matplotlib.pyplot as plt\n",
        "import numpy as np\n",
        "import pandas as pd"
      ]
    },
    {
      "cell_type": "markdown",
      "metadata": {
        "id": "3W93K7WYo1x5"
      },
      "source": [
        "## Detekcja spamu"
      ]
    },
    {
      "cell_type": "markdown",
      "metadata": {
        "id": "ySIssCdbo1x5"
      },
      "source": [
        "Najpierw wykorzystamy klasyfikator Naiwnego Bayesa do klasyfikacji binarnej długich tekstów - czy email jest spamem, czy też nie (tzw. \"ham\"). Takie zadanie nazywa się też spam/ham classification. Zbiorem będzie [Enron Spam dataset](http://nlp.cs.aueb.gr/software_and_datasets/Enron-Spam/index.html), zebrany na potrzeby artykułu:\n",
        "\n",
        "> Metsis, Vangelis, Ion Androutsopoulos, and Georgios Paliouras. *\"Spam filtering with Naive Bayes - which Naive Bayes?.\"* CEAS. Vol. 17. 2006. [link](https://userweb.cs.txstate.edu/~v_m137/docs/papers/ceas2006_paper_corrected.pdf)\n",
        "\n",
        "[Upadek firmy energetycznej Enron](https://userweb.cs.txstate.edu/~v_m137/docs/papers/ceas2006_paper_corrected.pdf) i skandal wywołany wiadomościami o nieprawidłowościach finansowych spowodowały, że podczas śledztwa i procesu zmuszono firmę do upublicznienia pełnej zawartości skrzynek mailowych 150 pracowników. Jest to doskonałe źródło prawdziwych danych, typowych emaili niebędących spamem, i było wykorzystywane wielokrotnie na potrzeby tworzenia wielu różnych zbiorów danych. Na potrzeby powyższego artykułu wybrano 6 pracowników z dużą liczbą emaili.\n",
        "\n",
        "Maile będące spamem otrzymano z 4 różnych źródeł:\n",
        "1. [Zbioru danych SpamAssassin](https://spamassassin.apache.org/old/publiccorpus/) - stworzony z pomocą [Apache SpamAssassin](https://spamassassin.apache.org/), narzędzia open source do detekcji spamu. Maile niebędące spamem są w nim bardzo specyficzne (pochodzą ze skrzynek fundacji Apache i dotyczą praktycznie tylko programownaia), za to spam jest uniwersalny.\n",
        "2. [Project Honeypot](https://www.projecthoneypot.org/) - projekt mający na celu wykrywanie spammerów (w tym przez specjalne pułapki, tzw. spam baiting) i tworzenie baz do filtrowania spamu.\n",
        "3. [Bazę spamu Bruce'a Guentera](http://untroubled.org/spam/) - gromadzi on cały spam, który dostaje na skrzynki (w tym takie do spam baitingu) od 1997 roku.\n",
        "4. Maile ze spamem zgromadzone przez trzeciego autora artykułu, Georgiosa Paliourasa.\n",
        "\n",
        "Artykuł prezentuje spersonalizowane kolekcje maili, dla każdego z 6 wybranych pracowników Enronu. My natomiast połączymy wszystkie dane i stworzymy prosty, uniwersalny filtr. Nasz filtr będzie operował tylko na tytułach i treści maili - prawdziwe systemy są dużo bardziej rozbudowane i wykorzystują metadane, bazy adresów, analizę tagów HTML i XML etc.\n",
        "\n",
        "Wykorzystamy przetworzoną postać tego zbioru w postaci pliku CSV z interesującymi nas elementami. Skrypt do tego wzięto [z tego repozytorium na Githubie](https://github.com/MWiechmann/enron_spam_data?fbclid=IwAR1icPxic8TDD6HGk6empohwcZ76uig0NxwxK7sWbczinBNfxEEt-ETparA)."
      ]
    },
    {
      "cell_type": "code",
      "execution_count": 3,
      "metadata": {
        "colab": {
          "base_uri": "https://localhost:8080/",
          "height": 424
        },
        "id": "7WrpcYQ2o1x6",
        "outputId": "bc6dbf11-bf95-4f4d-8fd3-6db41aa0ca0d"
      },
      "outputs": [
        {
          "output_type": "execute_result",
          "data": {
            "text/plain": [
              "       Message ID                                            Subject  \\\n",
              "0               0                       christmas tree farm pictures   \n",
              "1               1                           vastar resources , inc .   \n",
              "2               2                       calpine daily gas nomination   \n",
              "3               3                                         re : issue   \n",
              "4               4                          meter 7268 nov allocation   \n",
              "...           ...                                                ...   \n",
              "33711       33711  = ? iso - 8859 - 1 ? q ? good _ news _ c = eda...   \n",
              "33712       33712  all prescript medicines are on special . to be...   \n",
              "33713       33713              the next generation online pharmacy .   \n",
              "33714       33714                     bloow in 5 - 10 times the time   \n",
              "33715       33715                   dear sir , i am interested in it   \n",
              "\n",
              "                                                 Message Spam/Ham        Date  \n",
              "0                                                    NaN      ham  1999-12-10  \n",
              "1      gary , production from the high island larger ...      ham  1999-12-13  \n",
              "2                 - calpine daily gas nomination 1 . doc      ham  1999-12-14  \n",
              "3      fyi - see note below - already done .\\nstella\\...      ham  1999-12-14  \n",
              "4      fyi .\\n- - - - - - - - - - - - - - - - - - - -...      ham  1999-12-14  \n",
              "...                                                  ...      ...         ...  \n",
              "33711  hello , welcome to gigapharm onlinne shop .\\np...     spam  2005-07-29  \n",
              "33712  i got it earlier than expected and it was wrap...     spam  2005-07-29  \n",
              "33713  are you ready to rock on ? let the man in you ...     spam  2005-07-30  \n",
              "33714  learn how to last 5 - 10 times longer in\\nbed ...     spam  2005-07-30  \n",
              "33715  hi : )\\ndo you need some softwares ? i can giv...     spam  2005-07-31  \n",
              "\n",
              "[33716 rows x 5 columns]"
            ],
            "text/html": [
              "\n",
              "  <div id=\"df-3918a5c9-9149-4176-bcf4-4f83d44206bb\">\n",
              "    <div class=\"colab-df-container\">\n",
              "      <div>\n",
              "<style scoped>\n",
              "    .dataframe tbody tr th:only-of-type {\n",
              "        vertical-align: middle;\n",
              "    }\n",
              "\n",
              "    .dataframe tbody tr th {\n",
              "        vertical-align: top;\n",
              "    }\n",
              "\n",
              "    .dataframe thead th {\n",
              "        text-align: right;\n",
              "    }\n",
              "</style>\n",
              "<table border=\"1\" class=\"dataframe\">\n",
              "  <thead>\n",
              "    <tr style=\"text-align: right;\">\n",
              "      <th></th>\n",
              "      <th>Message ID</th>\n",
              "      <th>Subject</th>\n",
              "      <th>Message</th>\n",
              "      <th>Spam/Ham</th>\n",
              "      <th>Date</th>\n",
              "    </tr>\n",
              "  </thead>\n",
              "  <tbody>\n",
              "    <tr>\n",
              "      <th>0</th>\n",
              "      <td>0</td>\n",
              "      <td>christmas tree farm pictures</td>\n",
              "      <td>NaN</td>\n",
              "      <td>ham</td>\n",
              "      <td>1999-12-10</td>\n",
              "    </tr>\n",
              "    <tr>\n",
              "      <th>1</th>\n",
              "      <td>1</td>\n",
              "      <td>vastar resources , inc .</td>\n",
              "      <td>gary , production from the high island larger ...</td>\n",
              "      <td>ham</td>\n",
              "      <td>1999-12-13</td>\n",
              "    </tr>\n",
              "    <tr>\n",
              "      <th>2</th>\n",
              "      <td>2</td>\n",
              "      <td>calpine daily gas nomination</td>\n",
              "      <td>- calpine daily gas nomination 1 . doc</td>\n",
              "      <td>ham</td>\n",
              "      <td>1999-12-14</td>\n",
              "    </tr>\n",
              "    <tr>\n",
              "      <th>3</th>\n",
              "      <td>3</td>\n",
              "      <td>re : issue</td>\n",
              "      <td>fyi - see note below - already done .\\nstella\\...</td>\n",
              "      <td>ham</td>\n",
              "      <td>1999-12-14</td>\n",
              "    </tr>\n",
              "    <tr>\n",
              "      <th>4</th>\n",
              "      <td>4</td>\n",
              "      <td>meter 7268 nov allocation</td>\n",
              "      <td>fyi .\\n- - - - - - - - - - - - - - - - - - - -...</td>\n",
              "      <td>ham</td>\n",
              "      <td>1999-12-14</td>\n",
              "    </tr>\n",
              "    <tr>\n",
              "      <th>...</th>\n",
              "      <td>...</td>\n",
              "      <td>...</td>\n",
              "      <td>...</td>\n",
              "      <td>...</td>\n",
              "      <td>...</td>\n",
              "    </tr>\n",
              "    <tr>\n",
              "      <th>33711</th>\n",
              "      <td>33711</td>\n",
              "      <td>= ? iso - 8859 - 1 ? q ? good _ news _ c = eda...</td>\n",
              "      <td>hello , welcome to gigapharm onlinne shop .\\np...</td>\n",
              "      <td>spam</td>\n",
              "      <td>2005-07-29</td>\n",
              "    </tr>\n",
              "    <tr>\n",
              "      <th>33712</th>\n",
              "      <td>33712</td>\n",
              "      <td>all prescript medicines are on special . to be...</td>\n",
              "      <td>i got it earlier than expected and it was wrap...</td>\n",
              "      <td>spam</td>\n",
              "      <td>2005-07-29</td>\n",
              "    </tr>\n",
              "    <tr>\n",
              "      <th>33713</th>\n",
              "      <td>33713</td>\n",
              "      <td>the next generation online pharmacy .</td>\n",
              "      <td>are you ready to rock on ? let the man in you ...</td>\n",
              "      <td>spam</td>\n",
              "      <td>2005-07-30</td>\n",
              "    </tr>\n",
              "    <tr>\n",
              "      <th>33714</th>\n",
              "      <td>33714</td>\n",
              "      <td>bloow in 5 - 10 times the time</td>\n",
              "      <td>learn how to last 5 - 10 times longer in\\nbed ...</td>\n",
              "      <td>spam</td>\n",
              "      <td>2005-07-30</td>\n",
              "    </tr>\n",
              "    <tr>\n",
              "      <th>33715</th>\n",
              "      <td>33715</td>\n",
              "      <td>dear sir , i am interested in it</td>\n",
              "      <td>hi : )\\ndo you need some softwares ? i can giv...</td>\n",
              "      <td>spam</td>\n",
              "      <td>2005-07-31</td>\n",
              "    </tr>\n",
              "  </tbody>\n",
              "</table>\n",
              "<p>33716 rows × 5 columns</p>\n",
              "</div>\n",
              "      <button class=\"colab-df-convert\" onclick=\"convertToInteractive('df-3918a5c9-9149-4176-bcf4-4f83d44206bb')\"\n",
              "              title=\"Convert this dataframe to an interactive table.\"\n",
              "              style=\"display:none;\">\n",
              "        \n",
              "  <svg xmlns=\"http://www.w3.org/2000/svg\" height=\"24px\"viewBox=\"0 0 24 24\"\n",
              "       width=\"24px\">\n",
              "    <path d=\"M0 0h24v24H0V0z\" fill=\"none\"/>\n",
              "    <path d=\"M18.56 5.44l.94 2.06.94-2.06 2.06-.94-2.06-.94-.94-2.06-.94 2.06-2.06.94zm-11 1L8.5 8.5l.94-2.06 2.06-.94-2.06-.94L8.5 2.5l-.94 2.06-2.06.94zm10 10l.94 2.06.94-2.06 2.06-.94-2.06-.94-.94-2.06-.94 2.06-2.06.94z\"/><path d=\"M17.41 7.96l-1.37-1.37c-.4-.4-.92-.59-1.43-.59-.52 0-1.04.2-1.43.59L10.3 9.45l-7.72 7.72c-.78.78-.78 2.05 0 2.83L4 21.41c.39.39.9.59 1.41.59.51 0 1.02-.2 1.41-.59l7.78-7.78 2.81-2.81c.8-.78.8-2.07 0-2.86zM5.41 20L4 18.59l7.72-7.72 1.47 1.35L5.41 20z\"/>\n",
              "  </svg>\n",
              "      </button>\n",
              "      \n",
              "  <style>\n",
              "    .colab-df-container {\n",
              "      display:flex;\n",
              "      flex-wrap:wrap;\n",
              "      gap: 12px;\n",
              "    }\n",
              "\n",
              "    .colab-df-convert {\n",
              "      background-color: #E8F0FE;\n",
              "      border: none;\n",
              "      border-radius: 50%;\n",
              "      cursor: pointer;\n",
              "      display: none;\n",
              "      fill: #1967D2;\n",
              "      height: 32px;\n",
              "      padding: 0 0 0 0;\n",
              "      width: 32px;\n",
              "    }\n",
              "\n",
              "    .colab-df-convert:hover {\n",
              "      background-color: #E2EBFA;\n",
              "      box-shadow: 0px 1px 2px rgba(60, 64, 67, 0.3), 0px 1px 3px 1px rgba(60, 64, 67, 0.15);\n",
              "      fill: #174EA6;\n",
              "    }\n",
              "\n",
              "    [theme=dark] .colab-df-convert {\n",
              "      background-color: #3B4455;\n",
              "      fill: #D2E3FC;\n",
              "    }\n",
              "\n",
              "    [theme=dark] .colab-df-convert:hover {\n",
              "      background-color: #434B5C;\n",
              "      box-shadow: 0px 1px 3px 1px rgba(0, 0, 0, 0.15);\n",
              "      filter: drop-shadow(0px 1px 2px rgba(0, 0, 0, 0.3));\n",
              "      fill: #FFFFFF;\n",
              "    }\n",
              "  </style>\n",
              "\n",
              "      <script>\n",
              "        const buttonEl =\n",
              "          document.querySelector('#df-3918a5c9-9149-4176-bcf4-4f83d44206bb button.colab-df-convert');\n",
              "        buttonEl.style.display =\n",
              "          google.colab.kernel.accessAllowed ? 'block' : 'none';\n",
              "\n",
              "        async function convertToInteractive(key) {\n",
              "          const element = document.querySelector('#df-3918a5c9-9149-4176-bcf4-4f83d44206bb');\n",
              "          const dataTable =\n",
              "            await google.colab.kernel.invokeFunction('convertToInteractive',\n",
              "                                                     [key], {});\n",
              "          if (!dataTable) return;\n",
              "\n",
              "          const docLinkHtml = 'Like what you see? Visit the ' +\n",
              "            '<a target=\"_blank\" href=https://colab.research.google.com/notebooks/data_table.ipynb>data table notebook</a>'\n",
              "            + ' to learn more about interactive tables.';\n",
              "          element.innerHTML = '';\n",
              "          dataTable['output_type'] = 'display_data';\n",
              "          await google.colab.output.renderOutput(dataTable, element);\n",
              "          const docLink = document.createElement('div');\n",
              "          docLink.innerHTML = docLinkHtml;\n",
              "          element.appendChild(docLink);\n",
              "        }\n",
              "      </script>\n",
              "    </div>\n",
              "  </div>\n",
              "  "
            ]
          },
          "metadata": {},
          "execution_count": 3
        }
      ],
      "source": [
        "df = pd.read_csv(\"enron_spam_data.csv\")\n",
        "df"
      ]
    },
    {
      "cell_type": "markdown",
      "metadata": {
        "id": "hDwSlYSoo1x7"
      },
      "source": [
        "Na pierwszy rzut oka widać parę problemów:\n",
        "- kolumny `Message ID` i `Date` są niepotrzebne\n",
        "- niektóre wiadomości mają tylko tytuł lub tylko wiadomość\n",
        "- klasa jest zapisana jako string spam/ham\n",
        "\n",
        "**Zadanie 1 (0.5 punktu)**\n",
        "\n",
        "1. Uzupełnij wartości brakujące w kolumnach `Subject` i `Message` pustymi stringami.\n",
        "2. Połącz kolumny `Subject` i `Message` w jedną kolumnę `text`, ze spacją pomiędzy nimi. Może się przydać metoda `pd.Series.str.cat()`. Wyodrębnij ją do nowej zmiennej `texts`.\n",
        "3. Zamień wartość `ham` na 0 i `spam` na 1 w kolumnie `Spam/Ham`. Wyodrębnij ją do nowej zmiennej `y`."
      ]
    },
    {
      "cell_type": "code",
      "execution_count": 4,
      "metadata": {
        "id": "TI5ALBiao1x7"
      },
      "outputs": [],
      "source": [
        "df[\"Subject\"] = df[\"Subject\"].fillna(\"\")\n",
        "df[\"Message\"] = df[\"Message\"].fillna(\"\")\n",
        "texts = df[\"Subject\"].str.cat(df[\"Message\"], sep=\" \")\n",
        "y = df[\"Spam/Ham\"].replace({\"ham\": 0, \"spam\": 1})"
      ]
    },
    {
      "cell_type": "markdown",
      "metadata": {
        "id": "6QZNBdjQo1x8"
      },
      "source": [
        "Sprawdźmy jeszcze rozkład klas."
      ]
    },
    {
      "cell_type": "code",
      "execution_count": 5,
      "metadata": {
        "colab": {
          "base_uri": "https://localhost:8080/",
          "height": 469
        },
        "id": "-iXNDnbxo1x8",
        "outputId": "b7b7610e-0ac8-4dc9-87d8-fa6f63cdd91f"
      },
      "outputs": [
        {
          "output_type": "execute_result",
          "data": {
            "text/plain": [
              "[Text(0, 0, '50.93'), Text(0, 0, '49.07')]"
            ]
          },
          "metadata": {},
          "execution_count": 5
        },
        {
          "output_type": "display_data",
          "data": {
            "text/plain": [
              "<Figure size 640x480 with 1 Axes>"
            ],
            "image/png": "[encoded data removed]"
          },
          "metadata": {}
        }
      ],
      "source": [
        "class_percentages = y.value_counts(normalize=True)\n",
        "class_percentages = round(class_percentages * 100, 2)\n",
        "\n",
        "ax = class_percentages.plot.bar(title=\"Class distribution\", rot=0)\n",
        "\n",
        "ax.bar_label(ax.containers[0])"
      ]
    },
    {
      "cell_type": "markdown",
      "metadata": {
        "id": "gtRsrMrLo1x8"
      },
      "source": [
        "Ten zbiór w całości jest o tyle specyficzny, że dodano tutaj aż tyle spamu, że jest go nawet więcej niż zwykłych emaili. W praktyce spamu jest dużo mniej, ok. 1/3 maili. Tutaj uznajemy, że klasy są zbalansowane.\n",
        "\n",
        "Typową metryką w klasyfikacji spamu jest **precyzja (precision)**, bo wyznacza ona, jak dobrzy jesteśmy w oznaczaniu spamu. Recall ma mniejsze znaczenie, bo bardziej zależy nam na minimalizacji FP - ważne maile nie mogą trafiać do spamu, natomiast jeżeli spam czasem trafi do zwykłej skrzynki (FN), to nie ma wielkiego znaczenia. Często używa się też F1-score jako metryki.\n",
        "\n",
        "W przypadku tych metryk (precision/recall/F1-score) zawsze trzeba sprawdzić co najmniej dwie z nich, żeby uniknąć przypadkiem sytuacji, że mamy np. precision bliskie 100%, a dramatycznie niski recall - to też nie byłoby akceptowalne. Trzeba też uważać podczas walidacji skrośnej - np. klasyfikator przewidujący cały czas klasę pozytywną miałby 100% recall, a cały czas negatywną 100% precision, więc typowo najwygodniej jest optymalizować F1-score.\n",
        "\n",
        "Na początek podzielimy zbiór na treningowy i testowy, a potem użyjemy klasy `CountVectorizer` ([dokumentacja](https://scikit-learn.org/stable/modules/generated/sklearn.feature_extraction.text.CountVectorizer.html)), żeby zliczyć słowa. Teraz jednak podamy `binary=True`, dzięki czemu cechy będą binarne - czy słowo wystąpiło, czy nie. Dzięki temu będziemy mogli użyć Naiwnego Bayesa z rozkładem dwumianowym - `BernoulliNB`. Wykonamy minimalny preprocessing, usuwając tylko stop words.\n",
        "\n",
        "Zauważ, że wejściem do metody `.fit()` jest lista tekstów, ze względu a domyślne `input=\"content\"`. Można by tu też wskazać listę ścieżek do plików z tekstami (`input=\"filename\"`)."
      ]
    },
    {
      "cell_type": "code",
      "execution_count": 6,
      "metadata": {
        "scrolled": true,
        "colab": {
          "base_uri": "https://localhost:8080/"
        },
        "id": "j5m6LRe9o1x9",
        "outputId": "f0675072-4f2a-4351-8b3f-0ab220f27d6a"
      },
      "outputs": [
        {
          "output_type": "stream",
          "name": "stdout",
          "text": [
            "Dictionary size: 139189\n",
            "Precision: 98.92%\n",
            "F1-score: 98.46%\n"
          ]
        }
      ],
      "source": [
        "from sklearn.feature_extraction.text import CountVectorizer\n",
        "from sklearn.metrics import f1_score, precision_score\n",
        "from sklearn.model_selection import train_test_split\n",
        "from sklearn.naive_bayes import BernoulliNB\n",
        "\n",
        "\n",
        "texts_train, texts_test, y_train, y_test = train_test_split(\n",
        "    texts,\n",
        "    y,\n",
        "    test_size=0.25,\n",
        "    random_state=0,\n",
        "    stratify=y,\n",
        ")\n",
        "\n",
        "count_vectorizer = CountVectorizer(\n",
        "    stop_words=\"english\",\n",
        "    binary=True,\n",
        ")\n",
        "count_vectorizer.fit(texts_train)\n",
        "\n",
        "X_train = count_vectorizer.transform(texts_train)\n",
        "X_test = count_vectorizer.transform(texts_test)\n",
        "\n",
        "print(f\"Dictionary size: {X_train.shape[1]}\")\n",
        "\n",
        "clf_nb_bernoulli = BernoulliNB(binarize=None)\n",
        "clf_nb_bernoulli.fit(X_train, y_train)\n",
        "\n",
        "y_pred = clf_nb_bernoulli.predict(X_test)\n",
        "precision = precision_score(y_test, y_pred)\n",
        "f1 = f1_score(y_test, y_pred)\n",
        "\n",
        "print(f\"Precision: {100 * precision:.2f}%\")\n",
        "print(f\"F1-score: {100 * f1:.2f}%\")"
      ]
    },
    {
      "cell_type": "markdown",
      "metadata": {
        "id": "_pVmThdmo1x9"
      },
      "source": [
        "Wynik jest prawie doskonały. Może uda się jeszcze wycisnąć ten ostatni procent?\n",
        "\n",
        "**Zadanie 2 (2 punkty)**\n",
        "\n",
        "1. Oblicz wystąpienia słów bez binaryzacji, otrzymując drugi zbiór cech.\n",
        "2. Wytrenuj model multinomial Naive Bayes na otrzymanym zbiorze. Sprawdź precyzję i F1-score na zbiorze testowym.\n",
        "3. Stwórz `Pipeline` z połączenia `CountVectorizer` i `MultinomialNB`. Podaj te opcje, co wcześniej do CountVectorizera.\n",
        "4. Dokonaj tuningu hiperparametrów:\n",
        "   - `ngram_range` - jakie n-gramy rozważać, sprawdź wartości `[(1, 1), (1, 2), (1, 3)]` (same słowa, + bigramy, + bigramy i trigramy)\n",
        "   - `max_df` - w jakim maksymalnie ułamku tekstów w zbiorze może wystąpić słowo, sprawdź wartości `[0.5, 0.6, 0.7, 0.8, 0.9, 1.0]`\n",
        "   - wybierz model o najwyższej precyzji\n",
        "   - użyj standardowych ustawień: 5-krotna walidacja skrośna, `n_jobs=-1`\n",
        "   - sprawdź precyzję i F1-score na zbiorze testowym dla znalezionych optymalnych hiperparametrów\n",
        "5. Wypisz optymalne hiperparametry. Sprawdź, jak zmienił się rozmiar słownika przy tych hiperparametrach.\n",
        "6. Skomentuj uzyskane hiperparametry. Jaki zakres (kontekst) uwzględniamy przy takich n-gramach? Czy uwzględniamy wszystkie słowa/bigramy/trigramy?\n",
        "\n",
        "**Uwaga:**\n",
        "1. Do metody `.fit()` możesz przekazać `texts_train` i `y_train`. Jako że `CountVectorizer` ma interfejs transformera (ma metodę `.transform()`), to Scikit-learn przekształci nim teksty do macierzy `X_train` i to ją przekaże dalej do klasyfikatora.\n",
        "2. Przy tworzeniu pipeline'u może się przydać [ta odpowiedź na StackOverflow](https://stackoverflow.com/a/64258746/9472066).\n",
        "3. Pamiętaj, że do testowania też trzeba przekazać teksty, które przekształcimy w środku pipeline'u."
      ]
    },
    {
      "cell_type": "code",
      "execution_count": 11,
      "metadata": {
        "colab": {
          "base_uri": "https://localhost:8080/"
        },
        "id": "TlhVyB3bo1x9",
        "outputId": "946d80e7-8495-4980-8f51-b214af120dd9"
      },
      "outputs": [
        {
          "output_type": "stream",
          "name": "stdout",
          "text": [
            "Precision: 98.54%\n",
            "F1-score: 98.71%\n",
            "Precision: 99.32%\n",
            "F1-score: 99.24%\n",
            "Best parameters: {'vectorizer__max_df': 0.5, 'vectorizer__ngram_range': (1, 3)}\n"
          ]
        }
      ],
      "source": [
        "from sklearn.naive_bayes import MultinomialNB\n",
        "from sklearn.pipeline import Pipeline\n",
        "from sklearn.model_selection import GridSearchCV\n",
        "\n",
        "count_vectorizer = CountVectorizer(\n",
        "    stop_words=\"english\",\n",
        "    binary=False,\n",
        ")\n",
        "count_vectorizer.fit(texts_train)\n",
        "\n",
        "X_train = count_vectorizer.transform(texts_train)\n",
        "X_test = count_vectorizer.transform(texts_test)\n",
        "\n",
        "clf_nb_multinomial = MultinomialNB()\n",
        "clf_nb_multinomial.fit(X_train, y_train)\n",
        "y_pred = clf_nb_multinomial.predict(X_test)\n",
        "precision = precision_score(y_test, y_pred)\n",
        "f1 = f1_score(y_test, y_pred)\n",
        "print(f\"Precision: {100 * precision:.2f}%\")\n",
        "print(f\"F1-score: {100 * f1:.2f}%\")\n",
        "\n",
        "pipeline = Pipeline([\n",
        "    ('vectorizer', CountVectorizer(stop_words='english', binary=False)),\n",
        "    ('classifier', MultinomialNB())\n",
        "])\n",
        "\n",
        "params = {\n",
        "    'vectorizer__ngram_range': [(1, 1), (1, 2), (1, 3)],\n",
        "    'vectorizer__max_df': [0.5, 0.6, 0.7, 0.8, 0.9, 1.0]\n",
        "}\n",
        "\n",
        "grid_search = GridSearchCV(pipeline, param_grid=params, cv=5, n_jobs=-1)\n",
        "grid_search.fit(texts_train, y_train)\n",
        "\n",
        "y_pred = grid_search.predict(texts_test)\n",
        "precision = precision_score(y_test, y_pred)\n",
        "f1 = f1_score(y_test, y_pred)\n",
        "print(f\"Precision: {100 * precision:.2f}%\")\n",
        "print(f\"F1-score: {100 * f1:.2f}%\")\n",
        "print(f\"Best parameters: {grid_search.best_params_}\")"
      ]
    },
    {
      "cell_type": "code",
      "source": [
        "print('Dict size:', len(grid_search.best_estimator_.named_steps['vectorizer'].vocabulary_))"
      ],
      "metadata": {
        "colab": {
          "base_uri": "https://localhost:8080/"
        },
        "id": "PKUflfzIAXBW",
        "outputId": "da4a3347-dbb1-4f7a-cc58-1a53d8428529"
      },
      "execution_count": 17,
      "outputs": [
        {
          "output_type": "stream",
          "name": "stdout",
          "text": [
            "Dict size: 3383053\n"
          ]
        }
      ]
    },
    {
      "cell_type": "markdown",
      "metadata": {
        "id": "F1PUeVcfo1x9"
      },
      "source": [
        "Najlepszy wynik dało rozważanie słów, bigramów i trigramów. Wybrano również max_df 0.5 zo oznacza że wykluczamy słowa które wystąpiły w więcej niż połowie dokumentów - intuicyjnie wydaje się to sensowne, że nie uwzględniamy wszystkich, np bardzo uniwersalnych. Uwzględiamy duży kontekst ponieważ bieżemy pod uwagę układy nawet trzech słów. "
      ]
    },
    {
      "cell_type": "markdown",
      "metadata": {
        "id": "NSGqqGDqo1x-"
      },
      "source": [
        "W przypadku tak wysokiego wyniku nie ma sensu sprawdzać ważenia TF-IDF - wynik jest tak wysoki, że ostatnie ułamki procent z dużym prawdopodobieństwem wymagają bardziej złożonego modelu. Inna sprawa, czy w ogóle warto byłoby po taki sięgać.\n",
        "\n",
        "Dodatkowo warto zauważyć, że nie przeprowadziliśmy tutaj żadnej lematyzacji ani żadnego bardziej złożonego preprocessingu. W przypadku tak wysokich wyników zwyczajnie nie ma to szczególnego sensu."
      ]
    },
    {
      "cell_type": "markdown",
      "metadata": {
        "id": "j8jPwXE5o1x-"
      },
      "source": [
        "## Klasyfikacja tematu artykułu"
      ]
    },
    {
      "cell_type": "markdown",
      "metadata": {
        "id": "3EwEqETto1x-"
      },
      "source": [
        "Naszym drugim zbiorem danych będzie [AG News Classification dataset](https://www.kaggle.com/datasets/amananandrai/ag-news-classification-dataset). [Pełny zbiór AG News](http://groups.di.unipi.it/~gulli/AG_corpus_of_news_articles.html) został zebrany przez Antonio Gulliego (obecnie Director of Engineering w Google) i obejmuje 1 milion artykułów, zebranych z ponad 2000 źródeł danych w silniku ComeToMyHead. Podzbiór AG News Classification został z niego wybrany na potrzeby artykułu:\n",
        "\n",
        "> Zhang, Xiang, Junbo Zhao, and Yann LeCun. *\"Character-level convolutional networks for text classification.\"* Advances in neural information processing systems 28 (2015). [link](https://proceedings.neurips.cc/paper/2015/file/250cf8b51c773f3f8dc8b4be867a9a02-Paper.pdf)\n",
        "\n",
        "Zbiór składa się przede wszystkim z tytułów i treści artykułów z newsami, z 4 najpopularniejszych w zbiorze AG News kategorii: \"World\", \"Sports\", \"Business\", \"Sci/Tech\". Automatyczne tagowanie newsów jest ważne szczególnie dla stron-agregatorów, gdzie ręczna anotacja byłaby niemożliwa w czasie rzeczywistym.\n",
        "\n",
        "Został on wybrany tak, żeby klasy były zbalansowane zarówno w zbiorze treningowym, jak i testowym. Metryką jest celność (accuracy). Jest on już też z góry podzielony, dla odpowiedniej reprodukowalności wyników. Nie ma też wartości brakujących - ogółem jakość danych jest niesamowicie wysoka."
      ]
    },
    {
      "cell_type": "markdown",
      "metadata": {
        "id": "WCED6AXco1x-"
      },
      "source": [
        "**Zadanie 3 (0.5 punktu)**\n",
        "\n",
        "1. Wczytaj zbiór treningowy i testowy z plików `ag_news_data_train.parquet` oraz `ag_news_data_test.parquet`.\n",
        "2. Połącz tytuł i opis, łącząc je spacją. Wyodrębnij teksty do osobnych zmiennych `texts_train` i `texts_test`.\n",
        "3. Wyodrębnij klasy do osobnych zmiennych. Są one numerowane od 1 do 4 - zmapuj je zamiast tego tak, żeby były od 0 do 3.\n",
        "4. Sprawdź liczność zbioru treningowego oraz testowego."
      ]
    },
    {
      "cell_type": "code",
      "execution_count": null,
      "metadata": {
        "id": "U3nV5s7jo1x-"
      },
      "outputs": [],
      "source": [
        "train_df = pd.read_parquet('ag_news_data_train.parquet')\n",
        "test_df = pd.read_parquet('ag_news_data_test.parquet')\n",
        "\n",
        "texts_train = train_df['Title'].str.cat(train_df['Description'], sep=\" \")\n",
        "texts_test = test_df['Title'].str.cat(test_df['Description'], sep=\" \")\n",
        "\n",
        "class_mapping = {1: 0, 2: 1, 3: 2, 4: 3}\n",
        "y_train = train_df['Class Index'].map(class_mapping)\n",
        "y_test = test_df['Class Index'].map(class_mapping)"
      ]
    },
    {
      "cell_type": "code",
      "source": [
        "print(len(y_train))\n",
        "print(len(y_test))\n",
        "\n"
      ],
      "metadata": {
        "colab": {
          "base_uri": "https://localhost:8080/"
        },
        "id": "upWrgzcTPkrf",
        "outputId": "ad5f9527-a275-4819-eecd-36cbb5681966"
      },
      "execution_count": 50,
      "outputs": [
        {
          "output_type": "stream",
          "name": "stdout",
          "text": [
            "120000\n",
            "7600\n"
          ]
        }
      ]
    },
    {
      "cell_type": "markdown",
      "metadata": {
        "id": "18Lz2Zdlo1x_"
      },
      "source": [
        "Teraz możemy się zająć klasyfikacją tekstu. Autorzy w artykule używają i zwykłego zliczania słów, i wersji z TF-IDF. Ograniczają też rozmiar słownika do maksymalnie 50000 słów, co jest też dość częstą praktyką - nieograniczone słowniki mogą łatwo eksplodować rozmiarem na bardzo dużych zbiorach danych, a większość z tych cech jest wtedy raczej kiepska.\n",
        "\n",
        "Autorzy w artykule używają regresji logistycznej, dlatego skalują wartości cech TF-IDF do zakresu [0, 1]. My musimy sprecyzować `norm=None`, żeby nie zastosować żadnej dodatkowej normalizacji - Naive Bayes nie zakłada żadnej jako model."
      ]
    },
    {
      "cell_type": "markdown",
      "metadata": {
        "id": "3j-M9R_yo1x_"
      },
      "source": [
        "**Zadanie 4 (2 punkty)**\n",
        "\n",
        "1. Przygotuj pipeline'y (pamiętaj o ograniczeniu słownika, czyli maksymalnej liczby cech, do 50000):\n",
        "   - `CountVectorizer` z binaryzacją cech + `BernoulliNB`\n",
        "   - `CountVectorizer` bez binaryzacji cech + `MultinomialNB`\n",
        "   - `TfidfVectorizer` + `MultinomialNB` (pamiętaj o `norm=None`\n",
        "2. Wytrenuj modele i przetestuj je, podając celność (accuracy) na zbiorze testowym.\n",
        "3. Skomentuj, który model poradził sobie najlepiej. W artykule regresja logistyczna osiąga celność 89,64% w wersji z TF-IDF. Czy nasz Naive Bayes jest lepszy? Czy z rezultatów wynika, że do klasyfikacji wystarczy samo występowanie / nie występowanie określonych słów?"
      ]
    },
    {
      "cell_type": "code",
      "execution_count": 60,
      "metadata": {
        "colab": {
          "base_uri": "https://localhost:8080/"
        },
        "id": "NU9kJGapo1x_",
        "outputId": "8ef718af-de9f-43ea-ea5f-aacd07b009c5"
      },
      "outputs": [
        {
          "output_type": "stream",
          "name": "stdout",
          "text": [
            "0.8953947368421052\n"
          ]
        }
      ],
      "source": [
        "cv_bnb = Pipeline([\n",
        "    ('vectorizer', CountVectorizer(binary=True, max_features=50000)),\n",
        "    ('classifier', BernoulliNB())\n",
        "])\n",
        "cv_bnb.fit(texts_train, y_train)\n",
        "print(cv_bnb.score(texts_test, y_test))"
      ]
    },
    {
      "cell_type": "code",
      "source": [
        "cv_mnb = Pipeline([\n",
        "    ('vectorizer', CountVectorizer(binary=False, max_features=50000)),\n",
        "    ('classifier', MultinomialNB())\n",
        "])\n",
        "cv_mnb.fit(texts_train, y_train)\n",
        "print(cv_mnb.score(texts_test, y_test))"
      ],
      "metadata": {
        "colab": {
          "base_uri": "https://localhost:8080/"
        },
        "id": "ngQNf6FSSSAY",
        "outputId": "a6e23faa-dd04-4e7e-8c94-2e4699bc64a1"
      },
      "execution_count": 52,
      "outputs": [
        {
          "output_type": "stream",
          "name": "stdout",
          "text": [
            "0.9006578947368421\n"
          ]
        }
      ]
    },
    {
      "cell_type": "code",
      "source": [
        "from sklearn.feature_extraction.text import TfidfVectorizer\n",
        "\n",
        "tfidf_mnb = Pipeline([\n",
        "    ('vectorizer', TfidfVectorizer(norm=None, max_features=50000)),\n",
        "    ('classifier', MultinomialNB())\n",
        "])\n",
        "tfidf_mnb.fit(texts_train, y_train)\n",
        "print(tfidf_mnb.score(texts_test, y_test))"
      ],
      "metadata": {
        "colab": {
          "base_uri": "https://localhost:8080/"
        },
        "id": "mZJWYLkbSUJa",
        "outputId": "1c31a249-f481-4fe7-d442-c2cb39573fd6"
      },
      "execution_count": 54,
      "outputs": [
        {
          "output_type": "stream",
          "name": "stdout",
          "text": [
            "0.9038157894736842\n"
          ]
        }
      ]
    },
    {
      "cell_type": "markdown",
      "metadata": {
        "id": "fZZIEEsSo1x_"
      },
      "source": [
        "Wszystkie opcje miały zbliżone, wysokie accuracy, ale najlepszy wynik uzyskał model z Tfid i Multinomial. Naive Bayes jest porównywalny, dokładnie mówiąc gorszy o 0.11% od TF-IDF. Z klasyfikacji wynika że takie podejście jest skuteczne, ale może to być kwestia dobrze dobranego zbioru."
      ]
    },
    {
      "cell_type": "markdown",
      "metadata": {
        "id": "n80wtV2So1x_"
      },
      "source": [
        "Wyniki są niezłe, natomiast według artykułu użycie n-gramów daje jeszcze lepsze wyniki. Tam dla regresji logistycznej wybrano n-gramy z zakresu od 1 do 5, z maksymalnym rozmiarem słownika 500000. Nie mamy jednak gwarancji, że są to wartości optymalne dla naszego Naive Bayesa, plus wyżej niż 3-gramy rzadko coś daje.\n",
        "\n",
        "Nasz zbiór treningowy jest bardzo duży, więc nie ma potrzeby używania walidacji skrośnej - zwykły holdout da dość dobre wyniki. Jeżeli mamy gotowy zbiór treningowy, to najprościej w tym celu użyć `ShuffleSplit` z 1 losowaniem zbioru walidacyjnego.\n",
        "\n",
        "**Zadanie 5 (1 punkt)**\n",
        "\n",
        "1. Dokonaj tuningu pipeline'u TF-IDF + multinomial Naive Bayes:\n",
        "   - `ngram_range` - zakres wartości `[(1, 1), (1, 2), (1, 3)]`\n",
        "   - `max_features` - zakres wartości `[500000, None]`\n",
        "   - maksymalna liczba cech (rozmiar słownika) to 500000\n",
        "   - użyj jednego zbioru walidacyjnego, stanowiącego 25% danych treningowych, z pomocą `ShuffleSplit`; pamiętaj o `random_state=0`\n",
        "   - wybierz model o najwyższym accuracy\n",
        "   - ustaw `n_jobs=1`, bo inaczej może ci łatwo zabraknąć pamięci\n",
        "   - pamiętaj o `random_state=0`\n",
        "2. Sprawdź wyniki na zbiorze testowym dla najlepszych hiperparametrów. Czy udało się uzyskać wynik lepszy od tych z artykułu dla n-gramów (patrz tabela na stronie 6 artykułu)?"
      ]
    },
    {
      "cell_type": "code",
      "execution_count": 56,
      "metadata": {
        "colab": {
          "base_uri": "https://localhost:8080/"
        },
        "id": "szXvGlWmo1yA",
        "outputId": "d39af0ea-cf82-422c-a356-5ecfe771cf72"
      },
      "outputs": [
        {
          "output_type": "stream",
          "name": "stdout",
          "text": [
            "Fitting 1 folds for each of 6 candidates, totalling 6 fits\n",
            "Best parameters: {'vectorizer__max_features': None, 'vectorizer__ngram_range': (1, 3)}\n",
            "0.9091333333333333\n"
          ]
        }
      ],
      "source": [
        "from sklearn.model_selection import ShuffleSplit\n",
        "\n",
        "pipeline = Pipeline([\n",
        "    ('vectorizer', TfidfVectorizer(max_features=50000)),\n",
        "    ('classifier', MultinomialNB())\n",
        "])\n",
        "\n",
        "params = {\n",
        "    'vectorizer__ngram_range': [(1,1), (1,2), (1,3)],\n",
        "    'vectorizer__max_features': [500000, None]\n",
        "}\n",
        "\n",
        "cv = ShuffleSplit(n_splits=1, test_size=0.25, random_state=0)\n",
        "grid_search = GridSearchCV(pipeline, param_grid=params, cv=cv, n_jobs=1, verbose=1)\n",
        "grid_search.fit(texts_train, y_train)\n",
        "\n",
        "print(\"Best parameters: {}\".format(grid_search.best_params_))\n",
        "print(grid_search.best_score_)"
      ]
    },
    {
      "cell_type": "code",
      "source": [
        "from sklearn.metrics import accuracy_score\n",
        "\n",
        "best_model = grid_search.best_estimator_\n",
        "best_model.fit(texts_train, y_train)\n",
        "predicted = best_model.predict(texts_test)\n",
        "print(accuracy_score(y_test, predicted))"
      ],
      "metadata": {
        "colab": {
          "base_uri": "https://localhost:8080/"
        },
        "id": "nD9ej_9wdJia",
        "outputId": "5cbf1657-0948-4517-8ab8-348531dc92b4"
      },
      "execution_count": 62,
      "outputs": [
        {
          "output_type": "stream",
          "name": "stdout",
          "text": [
            "0.9076315789473685\n"
          ]
        }
      ]
    },
    {
      "cell_type": "markdown",
      "metadata": {
        "id": "61ed9T8ro1yA"
      },
      "source": [
        "Wynik w atykule wynosił 89,64% więc udało się uzyskać lepszy"
      ]
    },
    {
      "cell_type": "markdown",
      "metadata": {
        "id": "9XNilPPto1yA"
      },
      "source": [
        "## Dane z ekspresji genów"
      ]
    },
    {
      "cell_type": "markdown",
      "metadata": {
        "id": "l0g9SuKEo1yA"
      },
      "source": [
        "Naszym ostatnim zbiorem będzie [GSE2034](https://www.ncbi.nlm.nih.gov/geo/query/acc.cgi?acc=gse2034) ([Mendeley Data](https://data.mendeley.com/datasets/v3cc2p38hb/1), [Kaggle](https://www.kaggle.com/datasets/saurabhshahane/gene-expression-profiles-of-breast-cancer)). Jest to zbiór ekspresji genów z sekwencjonowania RNA, zebrany na potrzeby artykułu:\n",
        "\n",
        "> Wang, Yixin, et al. *\"Gene-expression profiles to predict distant metastasis of lymph-node-negative primary breast cancer.\"* The Lancet 365.9460 (2005): 671-679. [link](https://www.ihes.fr/~zinovyev/princmanif2006/Wang_lancet_2005.pdf)\n",
        "\n",
        "Zbiór ten został stworzony z danych pochodzących z sekwencjonowania RNA 286 pacjentek chorych na nowotwór piersi bez przerzutów do węzłów chłonnych ([lymph node-negative breast cancer](https://www.komen.org/breast-cancer/diagnosis/stages-staging/lymph-node-status/)). Celem było sprawdzenie, czy na podstawie analizy genetycznej można przewidzieć, czy nastąpi odległa metastaza nowotworu ([distant metastatis](https://training.seer.cancer.gov/staging/systems/summary/distant.html)), czyli przerzuty nowotworu przez krew do odległych części ciała. Takie przypadki uznaje się za porażkę w leczeniu nowotworu. Według źródeł z artykułu, ok. 85-90% pacjentek jest poddawane dodatkowej terapii (np. chemoterapii) po operacji usunięcia nowotworu, natomiast personalizowana medycyna oparta o analizę genetyczną pozwoliłaby nie tylko oszczędzić tego leczenia (z ciężkimi skutkami ubocznymi) niektórym pacjentkom, ale też skupić się bardziej na innych, z większym ryzykiem przerzutów.\n",
        "\n",
        "Cechy w tym zbiorze to poziom ekspresji 12634 genów w sekwencjonowanym RNA. Ekspresja genu ([gene expression](https://en.wikipedia.org/wiki/Gene_expression)) to proces tłumaczenia informacji genetycznej z genu (sekwencji DNA) do białek (przez kodujące RNA) lub innych funkcji (przez niekodujące RNA). Im silniejsza ekspresja genu, tym więcej materiału (zwykle białek / protein) produkuje dany gen w danym organizmie. Jest to najmniejszy molekularnie poziom, na którym można zaobserwować fenotyp, czyli cechy stworzone na podstawie genotypu.\n",
        "\n",
        "Oprogramowanie do analizy ekspresji genów dokonuje od razu standaryzacji poziomu ekspresji każdego z genów. W związku dla każdego z genów mamy jego Z-score, czyli wartość cechy oznacza, o ile odchyleń standardowych jego wartość różni się od średniej ekspresji tego genu wśród wszystkich próbek. Jest to wygodne do analiz biomedycznych, bo pozwala bezpośrednio porównywać ze sobą pacjentów. Przy okazji jest też wygodne do uczenia maszynowego.\n",
        "\n",
        "Zmienną do przewidywania jest tutaj, czy nastąpi nawrót nowotworu i przerzuty w ciągu 5 lat od operacji (to podczas niej pobiera się tkankę nowotworową do badań genetycznych). Warto zwrócić uwagę, że mamy tutaj 286 pacjentek, a ponad 12 tysięcy cech, a zatem $n >> d$.\n",
        "\n",
        "W przypadku danych medycznych typowo optymalizowaną metryką jest **czułość (recall)**, ponieważ zależy nam na tym, żeby minimalizować przypadki FN. Oznaczają one brak wykrycia choroby, co ma tragiczne skutki, w przeciwieństwie do FP, które może mieć co prawda negatywne skutki (np. dodatkowe badania, niepotrzebne leczenie ze skutkami ubocznymi), ale typowo mniejsze. Oczywiście dalej trzeba sprawdzić F1-score."
      ]
    },
    {
      "cell_type": "markdown",
      "metadata": {
        "id": "zv7u7CMao1yA"
      },
      "source": [
        "**Zadanie 6 (0.5 punktu)**\n",
        "\n",
        "1. Wczytaj dane z plików `GSE2034-Normal.tsv` oraz `GSE2034-Tumor.tsv`. Są one w formacie TSV, czyli CSV, ale z tabami (`\\t`) zamiast przecinków.\n",
        "2. Usuń kolumnę `Hybridization REF` z obu ramek.\n",
        "3. Obecnie kolumny to pacjentki, a wiersze to ekspresje genów. Dokonaj transpozycji (transpose) DataFrame'ów tak, aby kolumnami były cechy.\n",
        "4. Połącz oba DataFrame'y w jedną tablicę Numpy'a `X`, reprezentującą cały zbiór danych.\n",
        "5. Stwórz wektor klas `y`, mający wartości 0 dla wierszy z pliku `Normal` i wartość 1 dla wierszy z pliku `Tumor`.\n",
        "6. Narysuj wykres częstości klas."
      ]
    },
    {
      "cell_type": "code",
      "execution_count": 13,
      "metadata": {
        "id": "Lq3BFM2yo1yB"
      },
      "outputs": [],
      "source": [
        "normal_df = pd.read_csv('GSE2034-Normal.tsv', sep='\\t')\n",
        "tumor_df = pd.read_csv('GSE2034-Tumor.tsv', sep='\\t')\n",
        "\n",
        "normal_df = normal_df.drop(columns=['Hybridization REF'])\n",
        "tumor_df = tumor_df.drop(columns=['Hybridization REF'])"
      ]
    },
    {
      "cell_type": "code",
      "source": [
        "normal_df = normal_df.transpose()\n",
        "tumor_df = tumor_df.transpose()"
      ],
      "metadata": {
        "id": "uzrgGEtgjyug"
      },
      "execution_count": 14,
      "outputs": []
    },
    {
      "cell_type": "code",
      "source": [
        "normal_df"
      ],
      "metadata": {
        "id": "_2Ur0JrImE_C"
      },
      "execution_count": null,
      "outputs": []
    },
    {
      "cell_type": "code",
      "source": [
        "tumor_df"
      ],
      "metadata": {
        "id": "Z-i7Hw33j1hF"
      },
      "execution_count": null,
      "outputs": []
    },
    {
      "cell_type": "code",
      "source": [
        "X = np.concatenate([normal_df.values, tumor_df.values])"
      ],
      "metadata": {
        "id": "ghLoQ_hxiSbS"
      },
      "execution_count": 25,
      "outputs": []
    },
    {
      "cell_type": "code",
      "source": [
        "y = np.concatenate([np.zeros(normal_df.shape[0]), np.ones(tumor_df.shape[0])])"
      ],
      "metadata": {
        "id": "Qal_YB-SlD3X"
      },
      "execution_count": 17,
      "outputs": []
    },
    {
      "cell_type": "code",
      "source": [
        "class_percentages = [len(y[y == 0]) / (len(y[y == 0]) + len(y[y == 1])) * 100,\n",
        "                     len(y[y == 1]) / (len(y[y == 0]) + len(y[y == 1])) * 100]\n",
        "\n",
        "labels = ['Normal', 'Tumor']\n",
        "\n",
        "fig, ax = plt.subplots()\n",
        "ax.bar(labels, class_percentages)\n",
        "ax.set_title('Class distribution')\n",
        "ax.set_xlabel('Class')\n",
        "ax.set_ylabel('Number of samples')\n",
        "\n",
        "plt.show()"
      ],
      "metadata": {
        "colab": {
          "base_uri": "https://localhost:8080/",
          "height": 472
        },
        "id": "5Yc3chwGlIJe",
        "outputId": "878df96c-3cf6-4a56-85e8-42b0c246b0f8"
      },
      "execution_count": 21,
      "outputs": [
        {
          "output_type": "display_data",
          "data": {
            "text/plain": [
              "<Figure size 640x480 with 1 Axes>"
            ],
            "image/png": "[encoded data removed]"
          },
          "metadata": {}
        }
      ]
    },
    {
      "cell_type": "markdown",
      "metadata": {
        "id": "yyavaGLdo1yB"
      },
      "source": [
        "Jak widać, mamy więcej przykładów pozytywnych niż negatywnych. Jest to dość częste w zbiorach medycznych, które są często tworzone bardziej do analizy przypadków chorobowych, niż do tworzenia modeli predykcyjnych. Oczywiście to, że klasy pozytywnej jest więcej, wcale nie oznacza, że klasyfikacja musi być prostsza.\n",
        "\n",
        "Jako że nasze cechy są ciągłe, to musimy użyć klasyfikatora Naiwnego Bayesa z założeniem rozkładu normalnego do klasyfikacji. Dokonamy podziału na zbiór treningowy i testowy w proporcjach 67%-33%."
      ]
    },
    {
      "cell_type": "code",
      "source": [],
      "metadata": {
        "id": "L_RxZfcAh5MZ"
      },
      "execution_count": null,
      "outputs": []
    },
    {
      "cell_type": "code",
      "execution_count": 26,
      "metadata": {
        "colab": {
          "base_uri": "https://localhost:8080/"
        },
        "id": "7PmNCEgBo1yB",
        "outputId": "800919a8-78a3-4b62-c7ec-6804885ae607"
      },
      "outputs": [
        {
          "output_type": "stream",
          "name": "stdout",
          "text": [
            "Recall: 64.41%\n",
            "F1-score: 68.47%\n"
          ]
        }
      ],
      "source": [
        "from sklearn.metrics import recall_score\n",
        "from sklearn.naive_bayes import GaussianNB\n",
        "\n",
        "\n",
        "X_train, X_test, y_train, y_test = train_test_split(\n",
        "    X,\n",
        "    y,\n",
        "    test_size=0.33,\n",
        "    random_state=0,\n",
        "    stratify=y,\n",
        ")\n",
        "\n",
        "clf_nb_gaussian = GaussianNB()\n",
        "clf_nb_gaussian.fit(X_train, y_train)\n",
        "\n",
        "y_pred = clf_nb_gaussian.predict(X_test)\n",
        "recall = recall_score(y_test, y_pred)\n",
        "f1 = f1_score(y_test, y_pred)\n",
        "\n",
        "print(f\"Recall: {100 * recall:.2f}%\")\n",
        "print(f\"F1-score: {100 * f1:.2f}%\")"
      ]
    },
    {
      "cell_type": "markdown",
      "metadata": {
        "id": "1X0uaEO2o1yB"
      },
      "source": [
        "Wyniki są co najwyżej mocno przeciętne. Można powiedzieć, że mamy tu underfitting, ale przy tej ilości danych (zbiór treningowy ma ok. 200 próbek) użycie dużo pojemniejszego modelu mogłoby się łatwo skończyć się mocnym overfittingiem.\n",
        "\n",
        "Może to nasze założenia co do normalności klas są błędne? Sprawdźmy to dla kilku pierwszych cech."
      ]
    },
    {
      "cell_type": "code",
      "execution_count": 106,
      "metadata": {
        "colab": {
          "base_uri": "https://localhost:8080/",
          "height": 487
        },
        "id": "t-s2xmxOo1yB",
        "outputId": "3f06df0e-8d6e-4325-fd44-71075056ee0c"
      },
      "outputs": [
        {
          "output_type": "display_data",
          "data": {
            "text/plain": [
              "<Figure size 640x480 with 9 Axes>"
            ],
            "image/png": "[encoded data removed]"
          },
          "metadata": {}
        }
      ],
      "source": [
        "pd.DataFrame(X[:, :9]).hist()\n",
        "plt.tight_layout()\n",
        "plt.show()"
      ]
    },
    {
      "cell_type": "markdown",
      "metadata": {
        "id": "JAPoTqsvo1yC"
      },
      "source": [
        "O ile niektóre rozkłady nieco przypominają normalny, co tłumaczy nie najgorszy wynik klasyfikatora, to jednak daleko do pełnej normalności. Empiryczne oszacowanie rozkładu za pomocą Kernel Density Estimation (KDE) powinno poprawić wynik w takiej sytuacji.\n",
        "\n",
        "Scikit-learn nie ma gotowego Naive Bayesa z KDE, ale łatwo go zaimplementować. W tym celu trzeba stworzyć własny klasyfikator. Robi się w skrócie to tak ([dokładny tutorial](https://scikit-learn.org/stable/developers/develop.html)):\n",
        "1. Tworzymy klasę dziedziczącą po `BaseEstimator`, `ClassifierMixin` oraz ewentualnie innych klasach, które nas interesują.\n",
        "2. Wszystkie hiperparametry są argumentami konstruktora. Każdy jest przypisywany, bez żadnych zmian, do atrybutu o dokładnie tej samej nazwie.\n",
        "3. Implementujemy metody `.fit(X, y)`,`.predict(X)`, oraz ewentualnie `.predict_proba(X)`. Metoda `.fit()` musi zwracać `self`.\n",
        "4. Na początku metody `.fit(X, y)` używamy funkcji `check_X_y()`, żeby dokonać podstawowej walidacji wejścia. Na początku metody `.predict(X)` analogicznie używamy funkcji `check_array()` na wejściu `X`.\n",
        "\n",
        "Taki interfejs gwarantuje, że nasz własny model będzie mógł być używany np. w `GridSearchCV`.\n",
        "\n",
        "**Zadanie 7 (2.5 punktu)**\n",
        "\n",
        "Uzupełnij implementację klasy `KernelDensityEstimationNB`, realizującej algorytm KDE Naive Bayes.\n",
        "\n",
        "1. Zakładamy, że klasy są liczbami całkowitymi, z wartościami `[0, 1, ..., liczba klas - 1]`.\n",
        "2. Rozkład a priori (prior) dla każdej klasy to proporcja tej klasy w zbiorze treningowym. Naive Bayes używa log-sum-exp trick, więc można od razu obliczyć logarytm i zapisać log-prior.\n",
        "3. Każda klasa ma swój model Kernel Density Estimation, wytrenowany na przykładach z tej klasy.\n",
        "4. Podczas predykcji trzeba obliczyć, dla każdej z nowych próbek do zaklasyfikowania, jej wiarygodność (likelihood) dla każdej z klas. Służy do tego metoda `.score_samples()`. Ze względu na log-sum-exp trick ponownie oblicza się logarytm, otrzymując log-likelihood.\n",
        "5. Dla każdego z przykładów, dla każdej z klas, sumujemy log-prior i log-likelihood, otrzymując wartość rozkładu a posteriori (posterior). Zgodnie z zasadą maximum a posteriori (MAP), wybieramy klasę o najwyższej z tych wartości. Może tu się przydać `np.argmax()`."
      ]
    },
    {
      "cell_type": "code",
      "execution_count": 6,
      "metadata": {
        "id": "4KWtOHbIo1yC"
      },
      "outputs": [],
      "source": [
        "from sklearn.base import BaseEstimator, ClassifierMixin\n",
        "from sklearn.neighbors import KernelDensity\n",
        "from sklearn.utils import check_array, check_X_y\n",
        "\n",
        "\n",
        "class KernelDensityEstimationNB(BaseEstimator, ClassifierMixin):\n",
        "    \"\"\"\n",
        "    Naive Bayes with KDE estimation of feature distributions.\n",
        "\n",
        "    Parameters\n",
        "    ----------\n",
        "    kernel : str\n",
        "        Kernel name, passed to KernelDensity\n",
        "\n",
        "    bandwidth : float\n",
        "        Kernel bandwidth\n",
        "    \"\"\"\n",
        "\n",
        "    def __init__(self, kernel: str = \"gaussian\", bandwidth: float = 1.0):\n",
        "        # create attributes\n",
        "        self.kernel = kernel\n",
        "        self.bandwidth = bandwidth\n",
        "\n",
        "    def fit(self, X, y):\n",
        "        # make sure that we are working on Numpy arrays, and perform basic\n",
        "        # sanity checks\n",
        "        X = np.array(X)\n",
        "        y = np.array(y)\n",
        "        X, y = check_X_y(X, y)\n",
        "\n",
        "        # make sure that y has values from 0 to num_classes - 1\n",
        "        assert y.min() == 0\n",
        "        assert y.max() == len(np.unique(y)) - 1\n",
        "\n",
        "        # vector of possible classes\n",
        "        self.classes_ = np.unique(y).astype(int)\n",
        "\n",
        "        # vector for remembering class priors, i.e. proportion of classes\n",
        "        # in the training set\n",
        "        self.log_priors_ = np.empty(len(self.classes_))\n",
        "\n",
        "        # list of KernelDensity models, one for each class\n",
        "        self.kde_models_ = []\n",
        "\n",
        "        for class_idx in self.classes_:\n",
        "            # select X and y from the current class\n",
        "            X_class = X[y == class_idx]\n",
        "            # calculate log-prior, i.e. logarithm of current class proportion\n",
        "            self.log_priors_[class_idx] = np.log(X_class.shape[0] / X.shape[0])\n",
        "\n",
        "            # create and fit KernelDensity estimator, using given kernel and bandwidth\n",
        "            kde = KernelDensity(kernel=self.kernel, bandwidth=self.bandwidth)\n",
        "            kde.fit(X_class)\n",
        "\n",
        "            # save KDE\n",
        "            self.kde_models_.append(kde)\n",
        "\n",
        "        return self\n",
        "\n",
        "    def predict(self, X):\n",
        "        # make sure that we are working on Numpy array, and perform basic\n",
        "        # sanity checks\n",
        "        X = np.array(X)\n",
        "        X = check_array(X)\n",
        "\n",
        "        # use KDE models and calculate log-likelihoods for each sample\n",
        "        log_likelihoods = np.zeros((X.shape[0], len(self.classes_)))\n",
        "        for idx, kde in enumerate(self.kde_models_):\n",
        "            log_likelihoods[:, idx] = kde.score_samples(X)\n",
        "\n",
        "        # calculate posterior probability: log-prior + log-likelihood\n",
        "        # make sure that they have the same shape (transpose if needed)\n",
        "        posteriors = self.log_priors_ + log_likelihoods\n",
        "\n",
        "        # select the index of class with maximum a posteriori (MAP) rule\n",
        "        map_class = np.argmax(posteriors, axis=1)\n",
        "\n",
        "        return map_class"
      ]
    },
    {
      "cell_type": "code",
      "execution_count": 129,
      "metadata": {
        "colab": {
          "base_uri": "https://localhost:8080/"
        },
        "id": "P8LsZe7vo1yC",
        "outputId": "524e2905-3df2-4ae9-a0ed-a81fcc554a7b"
      },
      "outputs": [
        {
          "output_type": "stream",
          "name": "stdout",
          "text": [
            "Recall: 84.75%\n",
            "F1-score: 70.92%\n"
          ]
        }
      ],
      "source": [
        "clf_nb_kde = KernelDensityEstimationNB()\n",
        "clf_nb_kde.fit(X_train, y_train)\n",
        "\n",
        "y_pred = clf_nb_kde.predict(X_test)\n",
        "recall = recall_score(y_test, y_pred)\n",
        "f1 = f1_score(y_test, y_pred)\n",
        "\n",
        "print(f\"Recall: {100 * recall:.2f}%\")\n",
        "print(f\"F1-score: {100 * f1:.2f}%\")"
      ]
    },
    {
      "cell_type": "markdown",
      "metadata": {
        "id": "rTjgHXtxo1yC"
      },
      "source": [
        "W przypadku czułości (recall) jest już zdecydowanie lepiej! F1-score poprawił się, ale tylko trochę - precyzja mogłaby być lepsza. Ale KDE jest dość czułe na dobór szerokości (bandwidth) kernela, więc tuning hiperparametrów powinien tutaj pomóc.\n",
        "\n",
        "Ciekawą opcją dla szerokości kernela jest **Silverman's rule of thumb**. Jest to prosty wzór na szerokość kernela przy założeniu, że rozkład jest unimodalny. Scikit-learn wspiera tę opcję przez przekazanie wartości `bandwidth=\"silverman\"`. Wzór dla wielu cech ([Wikipedia](https://en.wikipedia.org/wiki/Multivariate_kernel_density_estimation#Rule_of_thumb)):\n",
        "\n",
        "$$\n",
        "h_{silverman} = \\left(\\frac{4}{d+2}\\right) n^{\\frac{-1}{d+4}} \\sigma\n",
        "$$\n",
        "\n",
        "Gdzie $\\sigma$ to wektor odchyleń standardowych cech, $n$ to liczba próbek, a $d$ to liczba wymiarów.\n",
        "\n",
        "Wadą implementacji w Scikit-learn jest to, że nie uwzględnia on odchyleń $\\sigma$, więc bandwidth jest wspólny dla wszystkich cech. Jeżeli jednak są one w podobnej skali (tak jak w tym zbiorze), to nie stanowi to dużego problemu. No i w razie potrzeby można zawsze ustandardyzować dane.\n",
        "\n",
        "Dla zainteresowanych - tuning kernel bandwidth to mocno badane przez matematyków zagadnienie, i istnieje do niego szereg rozbudowanych metod statystycznych. [Ten tutorial](https://aakinshin.net/posts/kde-bw/) jest chyba najlepszym i najbardziej czytelnym, a przy tym ma potężny przegląd literatury."
      ]
    },
    {
      "cell_type": "code",
      "execution_count": 27,
      "metadata": {
        "colab": {
          "base_uri": "https://localhost:8080/"
        },
        "id": "QXbyxFL7o1yC",
        "outputId": "8637dd33-5d6c-4a07-b060-c14dacd627f5"
      },
      "outputs": [
        {
          "output_type": "stream",
          "name": "stdout",
          "text": [
            "Recall: 86.44%\n",
            "F1-score: 72.34%\n",
            "Class bandwidths: 0.9990, 0.9990\n"
          ]
        }
      ],
      "source": [
        "clf_nb_kde = KernelDensityEstimationNB(bandwidth=\"silverman\")\n",
        "clf_nb_kde.fit(X_train, y_train)\n",
        "\n",
        "y_pred = clf_nb_kde.predict(X_test)\n",
        "recall = recall_score(y_test, y_pred)\n",
        "f1 = f1_score(y_test, y_pred)\n",
        "\n",
        "print(f\"Recall: {100 * recall:.2f}%\")\n",
        "print(f\"F1-score: {100 * f1:.2f}%\")\n",
        "\n",
        "class_0_bandwidth = clf_nb_kde.kde_models_[0].bandwidth_\n",
        "class_1_bandwidth = clf_nb_kde.kde_models_[1].bandwidth_\n",
        "\n",
        "print(f\"Class bandwidths: {class_0_bandwidth:.4f}, {class_1_bandwidth:.4f}\")"
      ]
    },
    {
      "cell_type": "markdown",
      "metadata": {
        "id": "l55l49pmo1yD"
      },
      "source": [
        "Wynik się poprawił, a ilość pracy była minimalna. Jeżeli nasze rozkłady cech wyglądają na unimodalne i podobne do normalnego, to zasada Silvermana może w prosty i szybki sposób ulepszyć nasze wyniki.\n",
        "\n",
        "Dodatkowo widać, że wyestymowany bandwidth jest bardzo bliski 1 (korekta jest zasadniczo kosmetyczna), więc w tym obszarze można ewentualnie szukać lepszych wartości hiperparametru.\n",
        "\n",
        "**Zadanie 8 (1 punkt)**\n",
        "\n",
        "1. Dokonaj tuningu hiperparametru `bandwidth`:\n",
        "   - sprawdź 100 wartości na siatce liniowej w zakresie od 0.75 do 1.25\n",
        "   - użyj kernela gaussowskiego\n",
        "   - wybierz model o najwyższym F1-score\n",
        "   - użyj standardowych ustawień: 5-krotna walidacja skrośna, `random_state=0`, `n_jobs=-1`\n",
        "2. Wypisz znalezioną optymalną wartość szerokości kernela.\n",
        "3. Sprawdź czułość (recall) i F1-score na zbiorze testowym dla znalezionych optymalnych hiperparametrów.\n",
        "4. Czy optymalna wartość kernela była większa, czy mniejsza od domyślnego 1? Czy takie oszacowanie KDE ma bardziej gładki kształt (większy bias), czy bardziej zróżnicowany (większa wariancja)?\n",
        "4. Czy udało się poprawić wynik? Czy takie wartości metryk uważasz za zadowalające?"
      ]
    },
    {
      "cell_type": "code",
      "source": [
        "import numpy as np\n",
        "from sklearn.base import BaseEstimator, ClassifierMixin\n",
        "from sklearn.neighbors import KernelDensity\n",
        "from sklearn.utils import check_array, check_X_y\n",
        "from sklearn.metrics import recall_score\n",
        "from sklearn.naive_bayes import GaussianNB\n",
        "from sklearn.naive_bayes import MultinomialNB\n",
        "from sklearn.pipeline import Pipeline\n",
        "from sklearn.model_selection import GridSearchCV\n",
        "import pandas as pd\n",
        "from sklearn.model_selection import train_test_split"
      ],
      "metadata": {
        "id": "Bq7KdjiugI72"
      },
      "execution_count": 23,
      "outputs": []
    },
    {
      "cell_type": "code",
      "execution_count": 29,
      "metadata": {
        "scrolled": true,
        "colab": {
          "base_uri": "https://localhost:8080/"
        },
        "id": "mxG_pnRSo1yD",
        "outputId": "12434ecc-0721-410c-dd0b-76938ecca62d"
      },
      "outputs": [
        {
          "output_type": "stream",
          "name": "stdout",
          "text": [
            "Fitting 5 folds for each of 100 candidates, totalling 500 fits\n",
            "Optimal bandwidth: 1.2045454545454546\n",
            "Recall: 91.53%\n",
            "F1-score: 76.06%\n",
            "Class bandwidths: 0.9990, 0.9990\n"
          ]
        }
      ],
      "source": [
        "from sklearn.metrics import f1_score, make_scorer\n",
        "params = {\n",
        "    'bandwidth': np.linspace(0.75, 1.25, 100)\n",
        "}\n",
        "kernel = KernelDensityEstimationNB(kernel='gaussian')\n",
        "grid = GridSearchCV(kernel, params, cv=5, scoring=make_scorer(f1_score), n_jobs=-1, verbose=1)\n",
        "grid.fit(X_train, y_train)\n",
        "print(\"Optimal bandwidth:\", grid.best_params_['bandwidth'])\n",
        "\n",
        "best_model = grid.best_estimator_\n",
        "y_pred = best_model.predict(X_test)\n",
        "\n",
        "recall = recall_score(y_test, y_pred)\n",
        "f1 = f1_score(y_test, y_pred)\n",
        "\n",
        "print(f\"Recall: {100 * recall:.2f}%\")\n",
        "print(f\"F1-score: {100 * f1:.2f}%\")\n",
        "\n",
        "class_0_bandwidth = clf_nb_kde.kde_models_[0].bandwidth_\n",
        "class_1_bandwidth = clf_nb_kde.kde_models_[1].bandwidth_\n",
        "\n",
        "print(f\"Class bandwidths: {class_0_bandwidth:.4f}, {class_1_bandwidth:.4f}\")"
      ]
    },
    {
      "cell_type": "markdown",
      "metadata": {
        "id": "SGeuabYLo1yD"
      },
      "source": [
        "Wartość jest większa niż 1, wynosi około 1,2. Oznacza to mniejszy bias i bardziej zróżnicowany kształt/\n",
        "Udało się poprawić zarówno F1 jak i recall. Jest to na pewno znacznie lepszy winik niż wartości po 60 kilka procent na początku, aczkolwiek f1 nie jest idealny. Biorąc pod uwagę jednak że w tym konkretnym przykładzie, jakim jest wykrwanie raka, najbardziej zależy nam na poprawnym wykrywaniu klasy pozytywnej, to przez recall na poziomie powyżej 90% uważam wynik za satysfakcjonujący."
      ]
    },
    {
      "cell_type": "markdown",
      "metadata": {
        "id": "yW1wVRqxo1yD"
      },
      "source": [
        "## Zadanie dodatkowe (3 punkty)\n",
        "\n",
        "Najpopularniejszą techniką nieparametryczną, która pozwala oszacować szerokość kernela, jest **estymator Sheathera-Jonesa (Sheather-Jones estimator)**. Używa on dość zaawansowanej statystyki, aby zminimalizować błąd średniokwadratowy między oszacowaniem KDE a prawdziwym (nieznanym) rozkładem. Typowo daje dużo lepsze wyniki od reguły Silvermana, bo wiele cech nie jest unimodalnych i/lub zbliżonych do rozkładu normalnego.\n",
        "\n",
        "Dodatkowo KDE w postaci ze Scikit-learn, używające wprost definicji i opierające się na najbliższych sąsiadach, nie jest zbyt szybkie. Można pokazać, że sumowanie kerneli z każdego punktu odpowiada operacji **konwolucji (convolution)**, a dzięki temu można wykorzystać **twierdzenie o splocie (convolution theorem)** i obliczyć to za pomocą szybkiej transformaty Fouriera (FFT). Algorytm FFTKDE jest rzędy wielkości szybszy od tradycyjnego podejścia, i świetnie się skaluje.\n",
        "\n",
        "Oba te mechanizmy implementuje biblioteka [KDEpy](https://kdepy.readthedocs.io/en/latest/index.html), z interfejsem bardzo podobnym do Scikit-learn.\n",
        "\n",
        "1. Zaimplementuj KDE Naive Bayesa z pomocą algorytmu FFTKDE.\n",
        "2. Zastosuj estymator Sheathera-Jonesa do oszacowania szerokości kernela. Czy wynik jest lepszy, czy gorszy od tego z zasady Silvermana oraz z walidacji skrośnej?\n",
        "3. Wczytaj zbiór Cod-RNA z laboratorium 3. Wytrenuj na nim algorytmy:\n",
        "   - Gaussian NB\n",
        "   - KDE NB\n",
        "   - FFTKDE NB\n",
        "4. Porównaj wyniki oraz czas treningu. Czy warto było tutaj zastosować algorytm FFTKDE?\n",
        "5. Dokonaj tuningu szerokości kernela za pomocą metod: Silvermana, Sheathera-Jonesa oraz walidacji skrośnej. Które daje najlepszy wynik?"
      ]
    },
    {
      "cell_type": "code",
      "execution_count": null,
      "metadata": {
        "id": "-hr33Hy1o1yD"
      },
      "outputs": [],
      "source": []
    }
  ],
  "metadata": {
    "kernelspec": {
      "display_name": "PUM",
      "language": "python",
      "name": "pum"
    },
    "language_info": {
      "codemirror_mode": {
        "name": "ipython",
        "version": 3
      },
      "file_extension": ".py",
      "mimetype": "text/x-python",
      "name": "python",
      "nbconvert_exporter": "python",
      "pygments_lexer": "ipython3",
      "version": "3.10.9"
    },
    "colab": {
      "provenance": []
    }
  },
  "nbformat": 4,
  "nbformat_minor": 0
}