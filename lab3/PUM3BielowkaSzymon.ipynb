{
  "cells": [
    {
      "cell_type": "markdown",
      "metadata": {
        "id": "bdfMvr-wQABi"
      },
      "source": [
        "# Metody jądrowe (kernel methods)"
      ]
    },
    {
      "cell_type": "markdown",
      "metadata": {
        "id": "ayHXaHjOQABk"
      },
      "source": [
        "## Konfiguracja"
      ]
    },
    {
      "cell_type": "markdown",
      "metadata": {
        "id": "gozNKvVfQABk"
      },
      "source": [
        "Użyjemy bardzo standardowych narzędzi, tych samych, co na laboratorium 1."
      ]
    },
    {
      "cell_type": "code",
      "execution_count": null,
      "metadata": {
        "scrolled": true,
        "colab": {
          "base_uri": "https://localhost:8080/"
        },
        "id": "_ZYg4i4vQABl",
        "outputId": "d662866f-964a-473d-bd95-1a62a5453e5d"
      },
      "outputs": [
        {
          "output_type": "stream",
          "name": "stdout",
          "text": [
            "Looking in indexes: https://pypi.org/simple, https://us-python.pkg.dev/colab-wheels/public/simple/\n",
            "Requirement already satisfied: numpy in /usr/local/lib/python3.9/dist-packages (1.22.4)\n",
            "Requirement already satisfied: scipy in /usr/local/lib/python3.9/dist-packages (1.10.1)\n",
            "Requirement already satisfied: pandas in /usr/local/lib/python3.9/dist-packages (1.5.3)\n",
            "Requirement already satisfied: matplotlib in /usr/local/lib/python3.9/dist-packages (3.7.1)\n",
            "Requirement already satisfied: scikit-learn in /usr/local/lib/python3.9/dist-packages (1.2.2)\n",
            "Requirement already satisfied: missingno in /usr/local/lib/python3.9/dist-packages (0.5.2)\n",
            "Requirement already satisfied: pytz>=2020.1 in /usr/local/lib/python3.9/dist-packages (from pandas) (2022.7.1)\n",
            "Requirement already satisfied: python-dateutil>=2.8.1 in /usr/local/lib/python3.9/dist-packages (from pandas) (2.8.2)\n",
            "Requirement already satisfied: cycler>=0.10 in /usr/local/lib/python3.9/dist-packages (from matplotlib) (0.11.0)\n",
            "Requirement already satisfied: packaging>=20.0 in /usr/local/lib/python3.9/dist-packages (from matplotlib) (23.0)\n",
            "Requirement already satisfied: contourpy>=1.0.1 in /usr/local/lib/python3.9/dist-packages (from matplotlib) (1.0.7)\n",
            "Requirement already satisfied: kiwisolver>=1.0.1 in /usr/local/lib/python3.9/dist-packages (from matplotlib) (1.4.4)\n",
            "Requirement already satisfied: pyparsing>=2.3.1 in /usr/local/lib/python3.9/dist-packages (from matplotlib) (3.0.9)\n",
            "Requirement already satisfied: importlib-resources>=3.2.0 in /usr/local/lib/python3.9/dist-packages (from matplotlib) (5.12.0)\n",
            "Requirement already satisfied: fonttools>=4.22.0 in /usr/local/lib/python3.9/dist-packages (from matplotlib) (4.39.3)\n",
            "Requirement already satisfied: pillow>=6.2.0 in /usr/local/lib/python3.9/dist-packages (from matplotlib) (8.4.0)\n",
            "Requirement already satisfied: threadpoolctl>=2.0.0 in /usr/local/lib/python3.9/dist-packages (from scikit-learn) (3.1.0)\n",
            "Requirement already satisfied: joblib>=1.1.1 in /usr/local/lib/python3.9/dist-packages (from scikit-learn) (1.2.0)\n",
            "Requirement already satisfied: seaborn in /usr/local/lib/python3.9/dist-packages (from missingno) (0.12.2)\n",
            "Requirement already satisfied: zipp>=3.1.0 in /usr/local/lib/python3.9/dist-packages (from importlib-resources>=3.2.0->matplotlib) (3.15.0)\n",
            "Requirement already satisfied: six>=1.5 in /usr/local/lib/python3.9/dist-packages (from python-dateutil>=2.8.1->pandas) (1.16.0)\n"
          ]
        }
      ],
      "source": [
        "!pip install numpy scipy pandas matplotlib scikit-learn missingno"
      ]
    },
    {
      "cell_type": "code",
      "execution_count": null,
      "metadata": {
        "id": "_nphIxsFQABl"
      },
      "outputs": [],
      "source": [
        "import numpy as np\n",
        "import pandas as pd"
      ]
    },
    {
      "cell_type": "markdown",
      "metadata": {
        "id": "IKzkS3FxQABm"
      },
      "source": [
        "## Duży zbiór danych do klasyfikacji"
      ]
    },
    {
      "cell_type": "markdown",
      "metadata": {
        "id": "3HJtbDUPQABm"
      },
      "source": [
        "Użyjemy najpierw bioinformatycznego zbioru danych [Cod-RNA](https://www.csie.ntu.edu.tw/~cjlin/libsvmtools/datasets/binary.html#cod-rna). Pochodzi on z artykułu ([link do wersji Open Access](https://bmcbioinformatics.biomedcentral.com/articles/10.1186/1471-2105-7-173)):\n",
        "\n",
        "> Uzilov, Andrew V., Joshua M. Keegan, and David H. Mathews. *\"Detection of non-coding RNAs on the basis of predicted secondary structure formation free energy change.\"* BMC bioinformatics 7.1 (2006): 1-30. [link](https://bmcbioinformatics.biomedcentral.com/articles/10.1186/1471-2105-7-173)\n",
        "\n",
        "[Centralny dogmat biologii molekularnej (central dogma of molecular biology)](https://en.wikipedia.org/wiki/Central_dogma_of_molecular_biology) mówi, że przepływ informacji genetycznej przebiega z DNA przez RNA do białek. Innymi słowy, DNA zapisuje informację biologiczną, którą potem koduje RNA, z którego są syntezowane białka.\n",
        "\n",
        "W praktyce nie każde DNA i RNA koduje informacje. Kodujące DNA to zaledwie ok. 1-2% ludzkiego genomu, a reszta pełni różne role, głównie regulacyjne. W szczególności [niekodujące RNA (non-coding RNA, ncRNA)](https://en.wikipedia.org/wiki/Non-coding_RNA) pełni wiele różnych zadań, na przykład:\n",
        "- budują rybosomy odpowiadające za syntezę białek ([rRNA](https://en.wikipedia.org/wiki/Ribosomal_RNA))\n",
        "- transportują informację genetyczną ([tRNA](https://en.wikipedia.org/wiki/Transfer_RNA))\n",
        "- regulują ekspresję genów ([lncRNA](https://en.wikipedia.org/wiki/Long_non-coding_RNA))\n",
        "\n",
        "Nie są znane wszystkie funkcje niekodującego RNA, więc jest to aktywne pole badań. Najpierw trzeba jednak sprawdzić, czy dane RNA w ogóle jest kodujące, czy nie. Taka klasyfikacja jest nieoczywista, i też stanowi pole badań w bioinformatyce. Niektóre hipotezy wskazują, że struktura drugorzędowa RNA ma tutaj znacznie.\n",
        "\n",
        "Struktura pierwszorzędowa kwasu nukleinowego (DNA lub RNA) to po prostu liniowa sekwencja nukleotydów, np. ACCUUGCAUC. Struktura drugorzędowa oznacza ułożenie par nukleotydów (np. G-C, A-U) jednego lub dwóch łańcuchów.  Dla DNA to typowo podwójna helisa, natomiast RNA tworzy już bardzo bogate i złożone struktury. Przewidywanie struktury wyższego rzędu to typowe zadanie ML w bioinformatyce, bo sprawdzanie tego eksperymentalnie jest bardzo drogie.\n",
        "\n",
        "![nucleic_acid_structures.png](nucleic_acid_structures.png)\n",
        "\n",
        "Przykładem algorytmu przewidującego strukturę drugorzędową jest [Dynalign](https://www.sciencedirect.com/science/article/abs/pii/S0022283601953513). Opiera się on na obserwacji, że niektóre struktury drugorzędowe RNA są bardziej stabilne od innych. Struktury o niższej energii są, zgodnie z zasadami termodynamiki, wolniejsze, a zatem stabilniejsze i bardziej prawdopodobne. Algorytm ten dodatkowo realizuje **dopasowanie sekwencji (sequence alignment)**, czyli takie \"przyłożenie\" do siebie sekwencji RNA, żeby jak najwięcej par pasowało do siebie. Wejściem do niego są 2 sekwencje RNA, a wyjściem ilość wolnej energii w optymalnej strukturze drugorzędowej RNA - im mniejsza, tym stabilniejsza jest struktura.\n",
        "\n",
        "Artykuł, z którego pochodzi nasz zbiór danych, zaproponował zastosowanie ML do klasyfikacji, czy dwie sekwencje RNA stanowią niekodujące RNA (ncRNA), czy też nie. Zbiór treningowy zbudowano z blisko 60 tysięcy par sekwencji RNA pochodzących z sekwencjonowania genomu bakterii *Escherichia coli* oraz *Salmonella enterica serovar Typhi (Salmonella typhi)*. Klasą pozytywną jest niekodujące RNA (5S rRNA albo tRNA), a negatywną losowo przemieszane nukleotydy z prawdziwej pary (istnieją do tego algorytmy tzw. sequence shuffling). Klasy są w stosunku 1:2, więc mamy klasyfikację lekko niezbalansowaną. Analogicznie stworzono zbiór testowy o wielkości nieco ponad 270 tysięcy par.\n",
        "\n",
        "Jako cech użyto:\n",
        "- wartości z algorytmu Dynalign\n",
        "- długości krótszej sekwencji\n",
        "- częstotliwości zasad azotowych A/U/C w sekwencji 1 (3 cechy)\n",
        "- częstotliwości zasad azotowych A/U/C w sekwencji 2 (3 cechy)\n",
        "\n",
        "Mamy zatem klasyfikację binarną, umiarkowanie niezbalansowaną, i 8 cech numerycznych. Jako metryk autorzy używają precyzji, czułości, krzywych ROC oraz wartości AUROC.\n",
        "\n",
        "My dla uproszczenia użyjemy F1-score, czyli średniej harmonicznej precyzji (precision) i czułości (recall). Obliczanie prawdopodobieństw w SVMach jest kosztowne i daje raczej niskiej jakości predykcje prawdopodobieństw, więc AUROC nie jest dla nich zbyt wygodną metryką."
      ]
    },
    {
      "cell_type": "markdown",
      "metadata": {
        "id": "d4dF_VGnQABn"
      },
      "source": [
        "Oryginalny zbiór jest w formacie `svmlight`, z którego korzystają biblioteki LibSVM i Liblinear. Są one standardowymi implementacjami SVMów. Sam ten format danych jest jednak tekstowy i zajmuje bardzo dużo miejsca, dlatego w tym repozytorium jest już przetworzony do formatu Parquet. Wczytamy teraz dane.\n",
        "\n",
        "Później trzeba dokonać normalizacji cech, tak jak zawsze w SVMach. Tak jak autorzy, wykonamy skalowanie min-max do zakresu [-1, 1]."
      ]
    },
    {
      "cell_type": "markdown",
      "metadata": {
        "id": "nnLcD1NaQABn"
      },
      "source": [
        "**Zadanie 1 (0.5 punktu)**\n",
        "\n",
        "1. Wczytaj dane treningowe z plików `cod_rna_train.parquet` oraz `cod_rna_test.parquet`.\n",
        "2. Wyodrębnij kolumnę `y` do osobnych zmiennych `y_train` oraz `y_test`.\n",
        "3. Dokonaj skalowania danych do zakresu [-1, 1], tworząc tablice `X_train_scaled` oraz `X_test_scaled`."
      ]
    },
    {
      "cell_type": "code",
      "execution_count": null,
      "metadata": {
        "id": "joH3sWKiQABn"
      },
      "outputs": [],
      "source": [
        "df_train = pd.read_parquet('cod_rna_train.parquet')\n",
        "df_test = pd.read_parquet('cod_rna_test.parquet')\n",
        "\n",
        "y_train = df_train['y']\n",
        "y_test = df_test['y']\n",
        "\n",
        "df_train.drop('y', axis=1, inplace=True)\n",
        "df_test.drop('y', axis=1, inplace=True)\n",
        "\n",
        "from sklearn.preprocessing import MinMaxScaler\n",
        "scaler = MinMaxScaler(feature_range=(-1, 1))\n",
        "X_train_scaled = scaler.fit_transform(df_train)\n",
        "X_test_scaled = scaler.transform(df_test)"
      ]
    },
    {
      "cell_type": "markdown",
      "metadata": {
        "id": "ntsuO6kgQABo"
      },
      "source": [
        "Skoro dane są gotowe, to wytrenujmy nasz pierwszy klasyfikator - liniowy SVM.\n",
        "\n",
        "W Scikit-learn funkcja kosztu (`loss`) to albo typowy hinge loss, albo squared hinge loss, czyli po prostu podniesiona do kwadratu. Wartość domyślna to `\"squared_hinge\"` - żeby dostać \"typowego\" SVMa, trzeba to zmienić. Jest różniczkowalna i mocniej kara duże błędy, ale jest też bardziej podatna na outliery. Dla zainteresowanych: [przystępny tutorial](https://github.com/christianversloot/machine-learning-articles/blob/main/how-to-use-hinge-squared-hinge-loss-with-keras.md) oraz artykuł naukowy:\n",
        "\n",
        "C.P. Lee, and C.J. Lin. *\"A study on L2-loss (squared hinge-loss) multiclass SVM.\"* Neural computation 25.5 (2013): 1302-1323.\n",
        "\n",
        "Dodatkowo domyślna liczba iteracji solwera (1000) jest często dość niska, szczególnie przy dużych zbiorach. Zwiększymy to od razu, żeby mieć mniej warningów. Powyżej 10 tysięcy iteracji warningami można się już zazwyczaj nie przejmować."
      ]
    },
    {
      "cell_type": "code",
      "execution_count": null,
      "metadata": {
        "colab": {
          "base_uri": "https://localhost:8080/"
        },
        "id": "ytPh-ri1QABo",
        "outputId": "6310ed47-afe0-4cdb-dd4d-19378107de78"
      },
      "outputs": [
        {
          "output_type": "stream",
          "name": "stdout",
          "text": [
            "F1-score: 93.03%\n"
          ]
        }
      ],
      "source": [
        "from sklearn.metrics import f1_score\n",
        "from sklearn.svm import LinearSVC\n",
        "\n",
        "\n",
        "clf_linear_svc = LinearSVC(\n",
        "    loss=\"hinge\",\n",
        "    max_iter=10000,\n",
        "    random_state=0\n",
        ")\n",
        "clf_linear_svc.fit(X_train_scaled, y_train)\n",
        "\n",
        "y_pred = clf_linear_svc.predict(X_test_scaled)\n",
        "print(f\"F1-score: {100 * f1_score(y_test, y_pred):.2f}%\")"
      ]
    },
    {
      "cell_type": "markdown",
      "metadata": {
        "id": "lN-k46iBQABo"
      },
      "source": [
        "## Liniowy SVM"
      ]
    },
    {
      "cell_type": "markdown",
      "metadata": {
        "id": "B9HQyt_AQABp"
      },
      "source": [
        "**Zadanie 2 (0.5 punktu)**\n",
        "\n",
        "Wytrenuj regresję logistyczną jako nasz **model baseline'owy**. Nasze bardziej złożone modele SVM muszą być od niego lepsze, żeby był w ogóle sens je rozważać.\n",
        "\n",
        "Użyj regularyzacji L2. Dokonaj tuningu siły regularyzacji (100 wartości) za pomocą 5-krotnej walidacji skrośnej. Jako metryki do tuningu użyj F1-score.\n",
        "\n",
        "Użyj zbalansowanych wag klas. W razie potrzeby zwiększ maksymalną liczbę iteracji solwera. Może się przydać `n_jobs`. Pamiętaj o ustawieniu `random_state=0`.\n",
        "\n",
        "Sprawdź wyniki algorytmu na zbiorze testowym."
      ]
    },
    {
      "cell_type": "code",
      "execution_count": null,
      "metadata": {
        "colab": {
          "base_uri": "https://localhost:8080/"
        },
        "id": "jLbuu7o1QABp",
        "outputId": "2328e75d-3b54-431b-91a5-7c374cfcdbf7"
      },
      "outputs": [
        {
          "output_type": "stream",
          "name": "stdout",
          "text": [
            "F1-score: 93.27%\n"
          ]
        }
      ],
      "source": [
        "from sklearn.linear_model import LogisticRegression\n",
        "from sklearn.model_selection import GridSearchCV\n",
        "from sklearn.metrics import f1_score, make_scorer\n",
        "\n",
        "baseline = LogisticRegression(\n",
        "    class_weight='balanced',\n",
        "    max_iter=1000,\n",
        "    random_state=0,\n",
        "    penalty='l2',\n",
        "    n_jobs=-1)\n",
        "\n",
        "param_grid = {\n",
        "    'C': np.logspace(-3, 3, num=100)\n",
        "    }\n",
        "\n",
        "grid_search = GridSearchCV(baseline, param_grid=param_grid, cv=5, n_jobs=-1, scoring=make_scorer(f1_score))\n",
        "grid_search.fit(X_train_scaled, y_train)\n",
        "\n",
        "y_pred = grid_search.predict(X_test_scaled)\n",
        "print(f\"F1-score: {100 * f1_score(y_test, y_pred):.2f}%\")\n",
        "print(grid_search.best_params_)"
      ]
    },
    {
      "cell_type": "code",
      "source": [
        "from sklearn.linear_model import LogisticRegression\n",
        "from sklearn.model_selection import GridSearchCV\n",
        "from sklearn.metrics import f1_score, make_scorer\n",
        "\n",
        "baseline = LogisticRegression(\n",
        "    class_weight='balanced',\n",
        "    max_iter=1000,\n",
        "    random_state=0,\n",
        "    penalty='l2',\n",
        "    n_jobs=-1)\n",
        "\n",
        "param_grid = {\n",
        "    'C': np.logspace(-3, 3, num=100)\n",
        "    }\n",
        "\n",
        "grid_search_reg = GridSearchCV(baseline, param_grid=param_grid, cv=5, n_jobs=-1, scoring=make_scorer(f1_score))\n",
        "grid_search_reg.fit(X_train_scaled, y_train)\n",
        "\n",
        "y_pred_reg = grid_search_reg.predict(X_test_scaled)\n",
        "print(f\"F1-score: {100 * f1_score(y_test, y_pred_reg):.2f}%\")\n",
        "print(grid_search_reg.best_params_)"
      ],
      "metadata": {
        "colab": {
          "base_uri": "https://localhost:8080/"
        },
        "id": "FfYD3OQFwt77",
        "outputId": "3d99d809-d80d-40a4-89b3-89689c6750be"
      },
      "execution_count": null,
      "outputs": [
        {
          "output_type": "stream",
          "name": "stdout",
          "text": [
            "F1-score: 93.27%\n",
            "{'C': 2.1544346900318843}\n"
          ]
        }
      ]
    },
    {
      "cell_type": "markdown",
      "metadata": {
        "id": "9xukLas3QABp"
      },
      "source": [
        "Nasz SVM bez żadnego tuningu jest zasadniczo tak dobry, jak regresja logistyczna z tuningiem - całkiem nieźle. No ale czas teraz na tuning samego SVMa.\n",
        "\n",
        "Najpierw warto wiedzieć jeszcze parę rzeczy o implementacji użytej w Scikit-learn, korzystającej pod spodem z Liblinear.\n",
        "\n",
        "Argument `dual` wyznacza, czy skorzystać z postaci primal, czy dual. Jeżeli liczba próbek jest znacznie większa od liczby cech, albo ogółem mamy sporo próbek, to lepiej użyć primal `dual=False`. Niestety, wtedy mamy do dyspozycji tylko funkcję kosztu `squared_hinge`.\n",
        "\n",
        "SVM jest stricte jednowątkowy (sekwencyjny), więc równoległość można wykorzystać przy tuningu hiperparametrów. Zdecydowanie warto użyć tu `n_jobs=-1`.\n",
        "\n",
        "**Uwaga:** jako że osobne joby są tworzone jako osobne procesy, to wyłączenie `ConvergenceWarning` jest nietrywialne, a czasem niemożliwe. Sugeruję to po prostu zignorować.\n",
        "\n",
        "**Zadanie 3 (1 punkt)**\n",
        "\n",
        "Dokonaj tuningu hiperparametru `C` liniowego SVM. Użyj 5-krotnej walidacji skrośnej, wybierając model o najwyższym F1-score. Użyj zbalansowanych wag klas i funkcji kosztu hinge loss. Pamiętaj o stałym `random_state`.\n",
        "\n",
        "Zastosuj iteracyjne zagęszczanie siatki. Najpierw sprawdź wartości z zakresu `[1e-3, 1e-2, 1e-1, 1, 1e1, 1e2]` i znajdź optymalną wartość `C`. Następnie wedle własnego uznania zagęść siatkę wokół znalezionego optymalnego C. Może się przydać `np.linspace()` albo `list(range())`. Jeżeli w takiej operacji wychodzi optymalne `C` na granicy (najmniejsze albo największe możliwe), to warto sprawdzić większe wartości niż dotychczas rozważane. Powtórz takie działanie 2-3 razy. W praktyce jednak `C` większe niż kilkaset nie ma sensu w kontekście SVMów.\n",
        "\n",
        "Wypisz ostatecznę znalezioną optymalną wartość odwrotności siły optymalizacji `C`. Sprawdź wynik na zbiorze testowym. Czy udało się przebić baseline?"
      ]
    },
    {
      "cell_type": "code",
      "execution_count": null,
      "metadata": {
        "scrolled": true,
        "colab": {
          "base_uri": "https://localhost:8080/"
        },
        "id": "oXxR6tuPQABp",
        "outputId": "bfbb6c85-69fc-4399-b500-999cb230a02a"
      },
      "outputs": [
        {
          "output_type": "stream",
          "name": "stdout",
          "text": [
            "Best C: 100.0\n"
          ]
        },
        {
          "output_type": "stream",
          "name": "stderr",
          "text": [
            "/usr/local/lib/python3.9/dist-packages/sklearn/svm/_base.py:1244: ConvergenceWarning: Liblinear failed to converge, increase the number of iterations.\n",
            "  warnings.warn(\n"
          ]
        }
      ],
      "source": [
        "param_grid = {\n",
        "    'C': [1e-3, 1e-2, 1e-1, 1, 1e1, 1e2]\n",
        "}\n",
        "\n",
        "clf_linear_svc = LinearSVC(\n",
        "    loss=\"hinge\",\n",
        "    max_iter=10000,\n",
        "    random_state=0,\n",
        "    class_weight='balanced'\n",
        ")\n",
        "\n",
        "grid_search = GridSearchCV(clf_linear_svc, param_grid, cv=5, scoring=make_scorer(f1_score), n_jobs=-1)\n",
        "\n",
        "grid_search.fit(X_train_scaled, y_train)\n",
        "print(\"Best C:\", grid_search.best_params_['C'])"
      ]
    },
    {
      "cell_type": "code",
      "source": [
        "best_C = grid_search.best_params_['C']\n",
        "param_grid = {\n",
        "    'C': np.linspace(best_C/10, best_C*10, num=10).tolist()\n",
        "}\n",
        "\n",
        "grid_search = GridSearchCV(clf_linear_svc, param_grid, cv=5, scoring=make_scorer(f1_score), n_jobs=-1)\n",
        "grid_search.fit(X_train_scaled, y_train)\n",
        "print(\"Best C:\", grid_search.best_params_['C'])"
      ],
      "metadata": {
        "colab": {
          "base_uri": "https://localhost:8080/"
        },
        "id": "qtcnU1myivjs",
        "outputId": "f568d64a-2075-44db-beaa-c2d9cb5452c3"
      },
      "execution_count": null,
      "outputs": [
        {
          "output_type": "stream",
          "name": "stdout",
          "text": [
            "Best C: 1000.0\n"
          ]
        },
        {
          "output_type": "stream",
          "name": "stderr",
          "text": [
            "/usr/local/lib/python3.9/dist-packages/sklearn/svm/_base.py:1244: ConvergenceWarning: Liblinear failed to converge, increase the number of iterations.\n",
            "  warnings.warn(\n"
          ]
        }
      ]
    },
    {
      "cell_type": "code",
      "source": [
        "param_grid = {\n",
        "    'C': np.linspace(100, 1000, num=5).tolist()\n",
        "}\n",
        "grid_search = GridSearchCV(clf_linear_svc, param_grid, cv=5, scoring=make_scorer(f1_score), n_jobs=-1)\n",
        "grid_search.fit(X_train_scaled, y_train)\n",
        "print(\"Best C:\", grid_search.best_params_['C'])"
      ],
      "metadata": {
        "colab": {
          "base_uri": "https://localhost:8080/"
        },
        "id": "nVE4jchgndfk",
        "outputId": "1cb58513-110a-4def-a1d7-dfcbcf2f7974"
      },
      "execution_count": null,
      "outputs": [
        {
          "output_type": "stream",
          "name": "stdout",
          "text": [
            "Best C: 550.0\n"
          ]
        },
        {
          "output_type": "stream",
          "name": "stderr",
          "text": [
            "/usr/local/lib/python3.9/dist-packages/sklearn/svm/_base.py:1244: ConvergenceWarning: Liblinear failed to converge, increase the number of iterations.\n",
            "  warnings.warn(\n"
          ]
        }
      ]
    },
    {
      "cell_type": "code",
      "source": [
        "param_grid = {\n",
        "    'C': np.linspace(500, 600, num=5).tolist()\n",
        "}\n",
        "\n",
        "grid_search = GridSearchCV(clf_linear_svc, param_grid, cv=5, scoring=make_scorer(f1_score), n_jobs=-1)\n",
        "grid_search.fit(X_train_scaled, y_train)\n",
        "print(\"Best C:\", grid_search.best_params_['C'])"
      ],
      "metadata": {
        "colab": {
          "base_uri": "https://localhost:8080/"
        },
        "id": "IJP_sKvOpIz_",
        "outputId": "9465b76e-c33a-46ea-c253-df810da13e17"
      },
      "execution_count": null,
      "outputs": [
        {
          "output_type": "stream",
          "name": "stdout",
          "text": [
            "Best C: 550.0\n"
          ]
        },
        {
          "output_type": "stream",
          "name": "stderr",
          "text": [
            "/usr/local/lib/python3.9/dist-packages/sklearn/svm/_base.py:1244: ConvergenceWarning: Liblinear failed to converge, increase the number of iterations.\n",
            "  warnings.warn(\n"
          ]
        }
      ]
    },
    {
      "cell_type": "code",
      "source": [
        "y_pred = grid_search.predict(X_test_scaled)\n",
        "print(f\"F1-score: {100 * f1_score(y_test, y_pred):.2f}%\")"
      ],
      "metadata": {
        "colab": {
          "base_uri": "https://localhost:8080/"
        },
        "id": "wA1QieZ1sxDg",
        "outputId": "e6b78bcc-1dbd-407c-f6f0-5c4f268e517a"
      },
      "execution_count": null,
      "outputs": [
        {
          "output_type": "stream",
          "name": "stdout",
          "text": [
            "F1-score: 93.30%\n"
          ]
        }
      ]
    },
    {
      "cell_type": "markdown",
      "metadata": {
        "id": "tB64b3oSQABp"
      },
      "source": [
        "Najlepszą wartością okazało się 550 - dwukrotnie zostało wybrane z otoczenia więc zakładam je jako ostateczne.\n",
        "\n",
        "Baseline udało się przebić o 0,03 % więc nie dużo, ale w przeciwieństwie do modelu bez tuningu, ten jest już lepszy a nie gorszy od regresji.\n"
      ]
    },
    {
      "cell_type": "markdown",
      "metadata": {
        "id": "BViZSvO6QABp"
      },
      "source": [
        "Może się to jeszcze uda poprawić - w końcu w artykule autorzy używali kernel SVM, a nie liniowego!"
      ]
    },
    {
      "cell_type": "markdown",
      "metadata": {
        "id": "HhLI2aCmQABq"
      },
      "source": [
        "## Kernel SVM"
      ]
    },
    {
      "cell_type": "markdown",
      "metadata": {
        "id": "t6BYSmcWQABq"
      },
      "source": [
        "Kernel SVM w Scikit-learn jest implementowany w klasie `SVC`. Wypróbujmy podstawową wersję, bez tuningu hiperparametrów. Przy okazji wiemy, że złożoność kernel SVM to co najmniej $O(n^2)$ - zobaczmy, ile to zajmuje w praktyce.\n",
        "\n",
        "Warto zawsze ustawić nieco wyższą wartość `cache_size` niż domyślna. Jest to ilość MB na cache'owanie obliczonych wartości kerneli. Warto jednak uważać na zbyt duże wartości:\n",
        "- wartości ponad 2000 mogą [powodować problemy przez buga w LibSVM](https://github.com/scikit-learn/scikit-learn/issues/8012)\n",
        "- sama alokacja dużej ilości pamięci (ciągłej!) może zajmować dużo czasu\n",
        "- nie wszystkie wartości kerneli będą używane często, więc nie wszystkie jest sens cache'ować"
      ]
    },
    {
      "cell_type": "code",
      "execution_count": null,
      "metadata": {
        "colab": {
          "base_uri": "https://localhost:8080/"
        },
        "id": "UdjvTnYkQABq",
        "outputId": "c8f2705f-5b19-4360-d8cc-cf78a83a9956"
      },
      "outputs": [
        {
          "output_type": "stream",
          "name": "stdout",
          "text": [
            "F1-score: 94.92%\n",
            "Training time: 48.918612003326416 s\n"
          ]
        }
      ],
      "source": [
        "from time import time\n",
        "from sklearn.svm import SVC\n",
        "\n",
        "\n",
        "clf_kernel_svc = SVC(\n",
        "    cache_size=512,\n",
        "    class_weight=\"balanced\",\n",
        "    random_state=0\n",
        ")\n",
        "start_time = time()\n",
        "clf_kernel_svc.fit(X_train_scaled, y_train)\n",
        "end_time = time()\n",
        "training_time = end_time - start_time\n",
        "\n",
        "y_pred = clf_kernel_svc.predict(X_test_scaled)\n",
        "\n",
        "print(f\"F1-score: {100 * f1_score(y_test, y_pred):.2f}%\")\n",
        "print(f\"Training time: {training_time} s\")"
      ]
    },
    {
      "cell_type": "markdown",
      "metadata": {
        "id": "WdK5hO7tQABq"
      },
      "source": [
        "Wynik jest ewidentnie lepszy, bez żadnego tuningu! Zajmuje to jednak sporo czasu. Ale nasz zbiór treningowy to ok. 60 tysięcy, a testowy 270 tysięcy - może to predykcja tyle zajmuje, a nie sam trening?\n",
        "\n",
        "**Zadanie 4 (1 punkt)**\n",
        "\n",
        "1. Sprawdź liczbę support vectors dla liniowego i kernel SVM. Sprawdź, jaki procent wszystkich punktów one stanowią. Czy rzadkość (sparsity) została osiągnięta? Może się przydać [ten przykład](https://scikit-learn.org/stable/auto_examples/svm/plot_linearsvc_support_vectors.html), żeby zliczyć support vectors dla liniowego SVM (`X` to u nas `X_train_scaled`).\n",
        "2. Porównaj czas predykcji na zbiorze testowym dla regresji logistycznej, liniowego SVM i kernel SVM. Uwzględniając rozmiar zbioru testowego, czy twoim zdaniem to dużo?"
      ]
    },
    {
      "cell_type": "code",
      "source": [
        "clf_linear_svc = LinearSVC(\n",
        "    loss=\"hinge\",\n",
        "    max_iter=10000,\n",
        "    random_state=0,\n",
        "    class_weight='balanced',\n",
        "    C=550.0\n",
        ")\n",
        "\n",
        "clf_linear_svc.fit(X_train_scaled,y_train)"
      ],
      "metadata": {
        "colab": {
          "base_uri": "https://localhost:8080/",
          "height": 146
        },
        "id": "hz9UhApzxsC1",
        "outputId": "a3960bcc-e565-43a5-d451-0e428b4388e8"
      },
      "execution_count": null,
      "outputs": [
        {
          "output_type": "stream",
          "name": "stderr",
          "text": [
            "/usr/local/lib/python3.9/dist-packages/sklearn/svm/_base.py:1244: ConvergenceWarning: Liblinear failed to converge, increase the number of iterations.\n",
            "  warnings.warn(\n"
          ]
        },
        {
          "output_type": "execute_result",
          "data": {
            "text/plain": [
              "LinearSVC(C=550.0, class_weight='balanced', loss='hinge', max_iter=10000,\n",
              "          random_state=0)"
            ],
            "text/html": [
              "<style>#sk-container-id-1 {color: black;background-color: white;}#sk-container-id-1 pre{padding: 0;}#sk-container-id-1 div.sk-toggleable {background-color: white;}#sk-container-id-1 label.sk-toggleable__label {cursor: pointer;display: block;width: 100%;margin-bottom: 0;padding: 0.3em;box-sizing: border-box;text-align: center;}#sk-container-id-1 label.sk-toggleable__label-arrow:before {content: \"▸\";float: left;margin-right: 0.25em;color: #696969;}#sk-container-id-1 label.sk-toggleable__label-arrow:hover:before {color: black;}#sk-container-id-1 div.sk-estimator:hover label.sk-toggleable__label-arrow:before {color: black;}#sk-container-id-1 div.sk-toggleable__content {max-height: 0;max-width: 0;overflow: hidden;text-align: left;background-color: #f0f8ff;}#sk-container-id-1 div.sk-toggleable__content pre {margin: 0.2em;color: black;border-radius: 0.25em;background-color: #f0f8ff;}#sk-container-id-1 input.sk-toggleable__control:checked~div.sk-toggleable__content {max-height: 200px;max-width: 100%;overflow: auto;}#sk-container-id-1 input.sk-toggleable__control:checked~label.sk-toggleable__label-arrow:before {content: \"▾\";}#sk-container-id-1 div.sk-estimator input.sk-toggleable__control:checked~label.sk-toggleable__label {background-color: #d4ebff;}#sk-container-id-1 div.sk-label input.sk-toggleable__control:checked~label.sk-toggleable__label {background-color: #d4ebff;}#sk-container-id-1 input.sk-hidden--visually {border: 0;clip: rect(1px 1px 1px 1px);clip: rect(1px, 1px, 1px, 1px);height: 1px;margin: -1px;overflow: hidden;padding: 0;position: absolute;width: 1px;}#sk-container-id-1 div.sk-estimator {font-family: monospace;background-color: #f0f8ff;border: 1px dotted black;border-radius: 0.25em;box-sizing: border-box;margin-bottom: 0.5em;}#sk-container-id-1 div.sk-estimator:hover {background-color: #d4ebff;}#sk-container-id-1 div.sk-parallel-item::after {content: \"\";width: 100%;border-bottom: 1px solid gray;flex-grow: 1;}#sk-container-id-1 div.sk-label:hover label.sk-toggleable__label {background-color: #d4ebff;}#sk-container-id-1 div.sk-serial::before {content: \"\";position: absolute;border-left: 1px solid gray;box-sizing: border-box;top: 0;bottom: 0;left: 50%;z-index: 0;}#sk-container-id-1 div.sk-serial {display: flex;flex-direction: column;align-items: center;background-color: white;padding-right: 0.2em;padding-left: 0.2em;position: relative;}#sk-container-id-1 div.sk-item {position: relative;z-index: 1;}#sk-container-id-1 div.sk-parallel {display: flex;align-items: stretch;justify-content: center;background-color: white;position: relative;}#sk-container-id-1 div.sk-item::before, #sk-container-id-1 div.sk-parallel-item::before {content: \"\";position: absolute;border-left: 1px solid gray;box-sizing: border-box;top: 0;bottom: 0;left: 50%;z-index: -1;}#sk-container-id-1 div.sk-parallel-item {display: flex;flex-direction: column;z-index: 1;position: relative;background-color: white;}#sk-container-id-1 div.sk-parallel-item:first-child::after {align-self: flex-end;width: 50%;}#sk-container-id-1 div.sk-parallel-item:last-child::after {align-self: flex-start;width: 50%;}#sk-container-id-1 div.sk-parallel-item:only-child::after {width: 0;}#sk-container-id-1 div.sk-dashed-wrapped {border: 1px dashed gray;margin: 0 0.4em 0.5em 0.4em;box-sizing: border-box;padding-bottom: 0.4em;background-color: white;}#sk-container-id-1 div.sk-label label {font-family: monospace;font-weight: bold;display: inline-block;line-height: 1.2em;}#sk-container-id-1 div.sk-label-container {text-align: center;}#sk-container-id-1 div.sk-container {/* jupyter's `normalize.less` sets `[hidden] { display: none; }` but bootstrap.min.css set `[hidden] { display: none !important; }` so we also need the `!important` here to be able to override the default hidden behavior on the sphinx rendered scikit-learn.org. See: https://github.com/scikit-learn/scikit-learn/issues/21755 */display: inline-block !important;position: relative;}#sk-container-id-1 div.sk-text-repr-fallback {display: none;}</style><div id=\"sk-container-id-1\" class=\"sk-top-container\"><div class=\"sk-text-repr-fallback\"><pre>LinearSVC(C=550.0, class_weight=&#x27;balanced&#x27;, loss=&#x27;hinge&#x27;, max_iter=10000,\n",
              "          random_state=0)</pre><b>In a Jupyter environment, please rerun this cell to show the HTML representation or trust the notebook. <br />On GitHub, the HTML representation is unable to render, please try loading this page with nbviewer.org.</b></div><div class=\"sk-container\" hidden><div class=\"sk-item\"><div class=\"sk-estimator sk-toggleable\"><input class=\"sk-toggleable__control sk-hidden--visually\" id=\"sk-estimator-id-1\" type=\"checkbox\" checked><label for=\"sk-estimator-id-1\" class=\"sk-toggleable__label sk-toggleable__label-arrow\">LinearSVC</label><div class=\"sk-toggleable__content\"><pre>LinearSVC(C=550.0, class_weight=&#x27;balanced&#x27;, loss=&#x27;hinge&#x27;, max_iter=10000,\n",
              "          random_state=0)</pre></div></div></div></div></div>"
            ]
          },
          "metadata": {},
          "execution_count": 38
        }
      ]
    },
    {
      "cell_type": "code",
      "execution_count": null,
      "metadata": {
        "scrolled": true,
        "colab": {
          "base_uri": "https://localhost:8080/"
        },
        "id": "GKJ7DoK-QABq",
        "outputId": "8742b859-d217-4d03-9b0e-61c0d103dcb9"
      },
      "outputs": [
        {
          "output_type": "stream",
          "name": "stdout",
          "text": [
            "for linear SVM:\n",
            "14.284034601494918 %\n",
            "8504\n",
            "for kernel SVM\n",
            "14.191651969429747 %\n",
            "8449\n"
          ]
        }
      ],
      "source": [
        "from sklearn.datasets import make_blobs\n",
        "from sklearn.inspection import DecisionBoundaryDisplay\n",
        "import matplotlib.pyplot as plt\n",
        "\n",
        "decision_function = clf_linear_svc.decision_function(X_train_scaled)\n",
        "support_vector_indices = np.where(np.abs(decision_function) <= 1 + 1e-15)[0]\n",
        "support_vectors = X_train_scaled[support_vector_indices]\n",
        "\n",
        "print(\"for linear SVM:\")\n",
        "print(len(support_vectors)/len(X_train_scaled) * 100, \"%\")\n",
        "print(len(support_vectors))\n",
        "\n",
        "\n",
        "decision_function = clf_kernel_svc.decision_function(X_train_scaled)\n",
        "support_vector_indices = np.where(np.abs(decision_function) <= 1 + 1e-15)[0]\n",
        "support_vectors = X_train_scaled[support_vector_indices]\n",
        "\n",
        "print(\"for kernel SVM\")\n",
        "print(len(support_vectors)/len(X_train_scaled) * 100, \"%\")\n",
        "print(len(support_vectors))\n"
      ]
    },
    {
      "cell_type": "code",
      "source": [
        "start_time = time()\n",
        "grid_search_reg.predict(X_test_scaled)\n",
        "end_time = time()\n",
        "training_time = end_time - start_time\n",
        "print(f\"Regression time: {training_time} s\")\n",
        "\n",
        "start_time = time()\n",
        "clf_linear_svc.predict(X_test_scaled)\n",
        "end_time = time()\n",
        "training_time = end_time - start_time\n",
        "print(f\"Linear svm time: {training_time} s\")\n",
        "\n",
        "start_time = time()\n",
        "clf_kernel_svc.predict(X_test_scaled)\n",
        "end_time = time()\n",
        "training_time = end_time - start_time\n",
        "print(f\"Kernel svm time: {training_time} s\")\n"
      ],
      "metadata": {
        "colab": {
          "base_uri": "https://localhost:8080/"
        },
        "id": "R9GnfKw6uuRy",
        "outputId": "30458675-740c-4127-ec0b-f431c40905cc"
      },
      "execution_count": null,
      "outputs": [
        {
          "output_type": "stream",
          "name": "stdout",
          "text": [
            "Regression time: 0.01743483543395996 s\n",
            "Linear svm time: 0.009474992752075195 s\n",
            "Kernel svm time: 160.2133285999298 s\n"
          ]
        }
      ]
    },
    {
      "cell_type": "markdown",
      "metadata": {
        "id": "pD-dqKhSQABr"
      },
      "source": [
        "Nie została osiągnięta, bo ponad 14% to sporo.\n",
        "Z kolei czas predykcji około 2,5 minuty to nie dużo biorąc pod uwagę bardzo duży zbiór testowy."
      ]
    },
    {
      "cell_type": "markdown",
      "metadata": {
        "id": "ztIypmWgQABr"
      },
      "source": [
        "Taki zbiór jest już dość ekstremalny dla kernel SVM. Tego algorytmu w praktyce nie stosuje się wprost dla zbiorów wielkości dziesiątek tysięcy próbek treningowych, bo byłoby to zbyt wolne. Można tu natomiast zastosować podobną sztuczkę, co z kNN i ANN, czyli aproksymować - w tym wypadku macierz kerneli. Dotyczy tego zadanie dodatkowe.\n",
        "\n",
        "Dodatkowo implementacja ze Scikit-learn potrafi być zaskakująco wolna. W praktyce LibSVM, użyty jako [samodzielna biblioteka](https://pypi.org/project/libsvm-official/), potrafi być o wiele szybszy. Ma za to dużo brzydszy interfejs.\n",
        "\n",
        "W praktyce kernel SVM jest używany najczęściej, kiedy mamy mało danych i trzeba bardzo dokładnego klasyfikatora, a jego duży koszt nie jest tak odczuwalny."
      ]
    },
    {
      "cell_type": "markdown",
      "metadata": {
        "id": "o9UzSwu8QABr"
      },
      "source": [
        "## Mały zbiór danych do klasyfikacji"
      ]
    },
    {
      "cell_type": "markdown",
      "metadata": {
        "id": "6xPJd1SuQABr"
      },
      "source": [
        "Jako drugi zbiór wykorzystamy [Iranian Churn Dataset](https://archive.ics.uci.edu/ml/datasets/Iranian+Churn+Dataset) ([Kaggle](https://www.kaggle.com/datasets/royjafari/customer-churn)). Dotyczy on klasyfikacji, czy dany klient telekomunikacyjny zmieni dostawcę, czyli nastąpi tzw. odpływ klienta (*customer churn*). Jest to bardzo ważne i częste zadanie w telekomunikacji i usługach, szczególnie w biznesach, gdzie pozyskanie całkiem nowych klientów jest bardzo trudne albo praktycznie niemożliwe, a trzeba ich w praktyce odebrać konkurencji. To właśnie sytuacja firm telekomunikacyjnych - telefon czy internet ma praktycznie każdy, więc zdobywanie nowych klientów jest drogie. Dużo bardziej opłaca się identyfikować \"ryzykownych\" klientów i ich zachęcić do pozostania, np. promocjami.\n",
        "\n",
        "Dane zostały pozyskane z irańskich firm telekomunikacyjnych (konkretnie z call center obsługującego takie firmy). [Historia telekomunikacji w Iranie](https://en.wikipedia.org/wiki/Communications_in_Iran) jest ciekawa sama w sobie i pokazuje, czemu w tym kraju to było szczególnie ważne. Iran w 2008 roku miał populację ponad 80 milionów ludzi, z czego około 56% poniżej 25 roku życia - idealny i duży rynek dla nowych technologii. Ponadto samo zainteresowanie było ogromne, a tempo rozwoju kraju oraz prywatyzacja państwowych spółek stworzyły niesamowicie konkurencyjny rynek. Churn prediction stało się bardzo ważnym finansowo zadaniem dla wielu spółek.\n",
        "\n",
        "Z perspektywy ML, churn prediction to praktycznie zawsze klasyfikacja binarna i niezbalanansowana - zwykle mało który klient odchodzi.\n",
        "\n",
        "Zbiór ten został zebrany przez autorów na potrzeby artykułu:\n",
        "\n",
        "> Keramati, Abbas, and Seyed MS Ardabili. *\"Churn analysis for an Iranian mobile operator.\"* Telecommunications Policy 35.4 (2011): 344-356.\n",
        "\n",
        "Churn prediction z użyciem tego zbioru zostało przez nich zastosowane w artykułach:\n",
        "\n",
        "> Keramati, Abbas, et al. *\"Improved churn prediction in telecommunication industry using data mining techniques.\"* Applied Soft Computing 24 (2014): 994-1012.\n",
        "\n",
        "> Jafari-Marandi, Ruholla, et al. *\"Optimum profit-driven churn decision making: innovative artificial neural networks in telecom industry.\"* Neural Computing and Applications 32 (2020): 14929-14962.\n",
        "\n",
        "Dane są wysokiej jakości - ludzi monitorowano przez 12 miesięcy, aby uzyskać miarodajną informację w czasie, czy odejdą do innego operatora. Dodatkowo nie mają wartości brakujących i outlierów, a wszystkie zmienne są numeryczne. Zastosowaną w artykułach metryką jest F1-score.\n",
        "\n",
        "Zbiór został wzięty z Kaggle (opublikował go tam Ruholla Jafari-Marandi). W dodatku do zmiennych opisanych na stronie UCI, zawiera on oszacowaną wartość FP i FN dla każdego klienta. Wykorzystamy to później - w końcu utrata dużo płacącego klienta jest bardziej kosztowna."
      ]
    },
    {
      "cell_type": "markdown",
      "metadata": {
        "id": "ZVAJJz6lQABr"
      },
      "source": [
        "**Zadanie 5 (1 punkt)**\n",
        "\n",
        "1. Wczytaj dane z pliku `customer_churn_data.csv`.\n",
        "2. Wyodrębnij kolumny do zmiennych:\n",
        "   - `Churn` do zmiennej `y`\n",
        "   - `FN` do zmiennej `fn_cost`\n",
        "   - `FP` do zmiennej `fp_cost`\n",
        "3. Narysuj wykres słupkowy (bar plot) częstości klas. Pamiętaj o opisaniu wykresu.\n",
        "4. Podziel zbiór na treningowy i testowy w proporcjach 75%-25% ze stratyfikacją. Pamiętaj o stałym `random_state=0`. Uwaga - podziel też `fn_cost` oraz `fp_cost` na treningowe i testowe.\n",
        "5. Dokonaj standaryzacji zmiennych."
      ]
    },
    {
      "cell_type": "code",
      "execution_count": null,
      "metadata": {
        "id": "duo1nmX1QABr"
      },
      "outputs": [],
      "source": [
        "data = pd.read_csv(\"customer_churn_data.csv\")"
      ]
    },
    {
      "cell_type": "code",
      "source": [
        "y = data[\"Churn\"]\n",
        "fn_cost = data[\"FN\"]\n",
        "fp_cost = data[\"FP\"]"
      ],
      "metadata": {
        "id": "O3JSUnGdsPc9"
      },
      "execution_count": null,
      "outputs": []
    },
    {
      "cell_type": "code",
      "source": [
        "plt.bar([\"Negative\", \"Positive\"], y.value_counts(normalize=True))\n",
        "plt.title(\"\")\n",
        "plt.xlabel(\"Class\")\n",
        "plt.ylabel(\"Frequency of classes\")\n",
        "plt.show()"
      ],
      "metadata": {
        "colab": {
          "base_uri": "https://localhost:8080/",
          "height": 449
        },
        "id": "BrYWSMNHsWon",
        "outputId": "3d3dd6ce-0495-4561-fa20-5f03849bdfe4"
      },
      "execution_count": null,
      "outputs": [
        {
          "output_type": "display_data",
          "data": {
            "text/plain": [
              "<Figure size 640x480 with 1 Axes>"
            ],
            "image/png": "[encoded data removed]"
          },
          "metadata": {}
        }
      ]
    },
    {
      "cell_type": "code",
      "source": [
        "from sklearn.model_selection import train_test_split\n",
        "from sklearn.preprocessing import StandardScaler\n",
        "\n",
        "X_train, X_test, y_train, y_test, fn_cost_train, fn_cost_test, fp_cost_train, fp_cost_test = train_test_split(\n",
        "    data.drop(\"Churn\", axis=1),\n",
        "    y,\n",
        "    fn_cost,\n",
        "    fp_cost,\n",
        "    test_size=0.25,\n",
        "    random_state=0,\n",
        "    stratify=y\n",
        ")\n",
        "\n",
        "scaler = StandardScaler()\n",
        "X_train_scaled = scaler.fit_transform(X_train)\n",
        "X_test_scaled = scaler.transform(X_test)"
      ],
      "metadata": {
        "id": "1AdAd1qjtd77"
      },
      "execution_count": null,
      "outputs": []
    },
    {
      "cell_type": "markdown",
      "metadata": {
        "id": "uExrVODQQABs"
      },
      "source": [
        "**Zadanie 6 (1.5 punktu)**\n",
        "\n",
        "1. Wytrenuj regresję logistyczną jako baseline, dokonując tuningu analogicznie do zadania 2. Pamiętaj o ustawieniu `random_state=0`. Zmierz czas treningu (włącznie z tuningiem). Sprawdź F1-score na zbiorze testowym\n",
        "2. Wytrenuj liniowy SVM:\n",
        "   - ustaw maksymalnie 10000 iteracji i zbalansowane wagi klas\n",
        "   - dokonaj tuningu hiperparametru `C` za pomocą 5-krotnej walidacji skrośnej\n",
        "   - sprawdź 100 wartości z zakresu od $10^{-2}$ do $10^2$\n",
        "   - wypisz znalezioną optymalną wartość `C`\n",
        "   - wybierz model o najwyższym F1-score\n",
        "   - zmierz czas treningu (włącznie z tuningiem)\n",
        "   - sprawdź F1-score na zbiorze testowym\n",
        "   - pamiętaj o ustawieniu `random_state=0`"
      ]
    },
    {
      "cell_type": "code",
      "execution_count": null,
      "metadata": {
        "colab": {
          "base_uri": "https://localhost:8080/"
        },
        "id": "loGIjkiXQABs",
        "outputId": "6d9baf73-59d7-489e-b4e8-d07eeaaf871c"
      },
      "outputs": [
        {
          "output_type": "stream",
          "name": "stdout",
          "text": [
            "Training time: 16.482911109924316 s\n",
            "F1-score: 61.40%\n"
          ]
        }
      ],
      "source": [
        "baseline = LogisticRegression(\n",
        "    class_weight='balanced',\n",
        "    max_iter=1000,\n",
        "    random_state=0,\n",
        "    penalty='l2',\n",
        "    n_jobs=-1)\n",
        "\n",
        "param_grid = {\n",
        "    'C': np.logspace(-3, 3, num=100)\n",
        "    }\n",
        "\n",
        "grid_search_base = GridSearchCV(baseline, param_grid=param_grid, cv=5, n_jobs=-1, scoring=make_scorer(f1_score))\n",
        "start = time()\n",
        "grid_search_base.fit(X_train_scaled, y_train)\n",
        "stop = time()\n",
        "print(f\"Training time: {stop - start} s\")\n",
        "\n",
        "y_pred_base = grid_search_base.predict(X_test_scaled)\n",
        "print(f\"F1-score: {100 * f1_score(y_test, y_pred_base):.2f}%\")"
      ]
    },
    {
      "cell_type": "code",
      "source": [
        "param_grid = {\n",
        "    'C': np.logspace(-2, 2, 100)\n",
        "}\n",
        "\n",
        "clf_linear_svc = LinearSVC(\n",
        "    loss=\"hinge\",\n",
        "    max_iter=10000,\n",
        "    random_state=0,\n",
        "    class_weight='balanced'\n",
        ")\n",
        "\n",
        "grid_search = GridSearchCV(clf_linear_svc, param_grid, cv=5, scoring=make_scorer(f1_score), n_jobs=-1)\n",
        "start = time()\n",
        "grid_search.fit(X_train_scaled, y_train)\n",
        "stop = time()\n",
        "print(\"Best C:\", grid_search.best_params_['C'])\n",
        "print(f\"Training time: {stop - start} s\")"
      ],
      "metadata": {
        "colab": {
          "base_uri": "https://localhost:8080/"
        },
        "id": "9qUgL2Sx4EGV",
        "outputId": "daf042d2-078a-4ae3-809e-1d8748bec3e2"
      },
      "execution_count": null,
      "outputs": [
        {
          "output_type": "stream",
          "name": "stdout",
          "text": [
            "Best C: 57.223676593502205\n",
            "Training time: 57.00287055969238 s\n"
          ]
        }
      ]
    },
    {
      "cell_type": "code",
      "source": [
        "best_lin = grid_search.best_estimator_\n",
        "\n",
        "y_pred = best_lin.predict(X_test_scaled)\n",
        "print(f\"F1-score: {100 * f1_score(y_test, y_pred):.2f}%\")"
      ],
      "metadata": {
        "colab": {
          "base_uri": "https://localhost:8080/"
        },
        "id": "qBXAckIm5VNB",
        "outputId": "67950ac6-1085-45cb-dd47-3921b51e8a95"
      },
      "execution_count": null,
      "outputs": [
        {
          "output_type": "stream",
          "name": "stdout",
          "text": [
            "F1-score: 59.13%\n"
          ]
        }
      ]
    },
    {
      "cell_type": "markdown",
      "metadata": {
        "id": "MzaUmsyBQABs"
      },
      "source": [
        "**Zadanie 7 (2 punkty)**\n",
        "\n",
        "1. Wytrenuj kernel SVM z domyślnymi hiperparametrami:\n",
        "   - ustaw zbalansowane wagi klas\n",
        "\n",
        "   - zmierz czas treningu (włącznie z tuningiem)  - TUTAJ BŁĄD CHYBA :)\n",
        "  \n",
        "   - sprawdź F1-score na zbiorze testowym\n",
        "   - zmierz czas treningu\n",
        "   - pamiętaj o ustawieniu `random_state=0`\n",
        "2. Wytrenuj kernel SVM z tuningiem hiperparametrów:\n",
        "   - sprawdź kilka siatek hiperparametrów (`param_grid` może być listą słowników!)\n",
        "   - dla kerneli RBF sprawdź 20 wartości `C` z zakresu od $10^{-2}$ do $10^2$, a dla `gamma` sprawdź wartość `\"scale\"` oraz 20 wartości z zakresu od $10^{-2}$ do $10^2$\n",
        "   - dla kernela wielomianowego sprawdź 100 wartości `C` z zakresu od $10^{-2}$ do $10^2$ oraz stopnie wielomianu z zakresu [2, 5]\n",
        "   - dla kernela sigmoidalnego sprawdź te same zakresy wartości, co dla RBF\n",
        "3. Dokonaj analizy hiperparametrów po tuningu:\n",
        "   - sprawdź, dla jakich hiperparametrów osiągnięto najwyższy wynik walidacji skrośnej\n",
        "   - sprawdź, jaki był najlepszy wynik osiągnięty dla każdego z trzech kerneli\n",
        "   - wypisz hiperparametry dla każdego z tych przypadków\n",
        "   - który kernel wymagał najmocniejszej regularyzacji i jak sądzisz, czemu ten?\n",
        "   - wytrenuj SVM dla optymalnych hiperparametrów dla każdego z trzech kerneli i sprawdź F1-score na zbiorze testowym\n",
        "   - czy udało się dobrze oszacować wynik za pomocą walidacji skrośnej, tj. czy faktycznie kernel o najwyższym wyniku walidacyjnym miał najwyższy wynik testowy?"
      ]
    },
    {
      "cell_type": "code",
      "execution_count": null,
      "metadata": {
        "scrolled": true,
        "colab": {
          "base_uri": "https://localhost:8080/"
        },
        "id": "C0nF_oh9QABs",
        "outputId": "d61fd778-d21d-4269-81da-867173a551ec"
      },
      "outputs": [
        {
          "output_type": "stream",
          "name": "stdout",
          "text": [
            "F1-score: 64.57%\n",
            "Training time: 0.11369919776916504 s\n"
          ]
        }
      ],
      "source": [
        "clf_kernel_svc = SVC(\n",
        "    cache_size=512,\n",
        "    class_weight=\"balanced\",\n",
        "    random_state=0\n",
        ")\n",
        "start_time = time()\n",
        "clf_kernel_svc.fit(X_train_scaled, y_train)\n",
        "end_time = time()\n",
        "training_time = end_time - start_time\n",
        "\n",
        "y_pred = clf_kernel_svc.predict(X_test_scaled)\n",
        "\n",
        "print(f\"F1-score: {100 * f1_score(y_test, y_pred):.2f}%\")\n",
        "print(f\"Training time: {training_time} s\")"
      ]
    },
    {
      "cell_type": "code",
      "source": [
        "param_grid = [\n",
        "    {'kernel': ['rbf'], 'C': np.logspace(-2, 2, 20), 'gamma': ['scale'] + list(np.logspace(-2, 2, 20))},\n",
        "    {'kernel': ['poly'], 'C': np.logspace(-2, 2, 100), 'degree': [2, 3, 4, 5]},\n",
        "    {'kernel': ['sigmoid'], 'C': np.logspace(-2, 2, 20), 'gamma': ['scale'] + list(np.logspace(-2, 2, 20))}\n",
        "]\n",
        "\n",
        "clf_kernel_svc_tuned = SVC(\n",
        "    cache_size=512,\n",
        "    class_weight=\"balanced\",\n",
        "    random_state=0\n",
        ")\n",
        "\n",
        "grid_search = GridSearchCV(clf_kernel_svc_tuned, param_grid, cv=5, scoring=make_scorer(f1_score), n_jobs=-1)\n",
        "\n",
        "start = time()\n",
        "grid_search.fit(X_train_scaled, y_train)\n",
        "stop = time()\n",
        "\n",
        "y_pred = grid_search.predict(X_test_scaled)"
      ],
      "metadata": {
        "id": "d60zctA2671b"
      },
      "execution_count": null,
      "outputs": []
    },
    {
      "cell_type": "code",
      "source": [
        "print(f\"F1-score: {100 * f1_score(y_test, y_pred):.2f}%\")\n",
        "print(f\"Training time: {stop - start} s\")"
      ],
      "metadata": {
        "colab": {
          "base_uri": "https://localhost:8080/"
        },
        "id": "hAeqjLQkHdn7",
        "outputId": "153219ed-075f-4ca9-8d23-a4c67cac6e0b"
      },
      "execution_count": null,
      "outputs": [
        {
          "output_type": "stream",
          "name": "stdout",
          "text": [
            "F1-score: 87.69%\n",
            "Training time: 902.1869556903839 s\n"
          ]
        }
      ]
    },
    {
      "cell_type": "code",
      "source": [
        "print(\"Best parameters: \", grid_search.best_params_)"
      ],
      "metadata": {
        "colab": {
          "base_uri": "https://localhost:8080/"
        },
        "id": "M2TK0Hvv9NcX",
        "outputId": "3e5b0e2c-3fba-4395-87b7-9bb94505700d"
      },
      "execution_count": null,
      "outputs": [
        {
          "output_type": "stream",
          "name": "stdout",
          "text": [
            "Best parameters:  {'C': 37.92690190732246, 'gamma': 0.4832930238571752, 'kernel': 'rbf'}\n"
          ]
        }
      ]
    },
    {
      "cell_type": "code",
      "source": [
        "rbf_best = 0\n",
        "poly_best = 0\n",
        "sigm_best = 0\n",
        "\n",
        "rbf_params = {}\n",
        "poly_params = {}\n",
        "sigm_params = {}\n",
        "\n",
        "for i in range(len(grid_search.cv_results_['mean_test_score'])):\n",
        "  if grid_search.cv_results_['params'][i]['kernel'] == \"rbf\":\n",
        "    if grid_search.cv_results_['mean_test_score'][i] > rbf_best:\n",
        "      rbf_best = grid_search.cv_results_['mean_test_score'][i]\n",
        "      rbf_params = grid_search.cv_results_['params'][i]\n",
        "  if grid_search.cv_results_['params'][i]['kernel'] == \"poly\":\n",
        "    if grid_search.cv_results_['mean_test_score'][i] > poly_best:\n",
        "      poly_best = grid_search.cv_results_['mean_test_score'][i]\n",
        "      poly_params = grid_search.cv_results_['params'][i]\n",
        "  if grid_search.cv_results_['params'][i]['kernel'] == \"sigmoid\":\n",
        "    if grid_search.cv_results_['mean_test_score'][i] > sigm_best:\n",
        "      sigm_best = grid_search.cv_results_['mean_test_score'][i]\n",
        "      sigm_params = grid_search.cv_results_['params'][i]\n",
        "\n",
        "\n",
        "print(rbf_best, rbf_params)\n",
        "print(poly_best, poly_params)\n",
        "print(sigm_best, sigm_params)"
      ],
      "metadata": {
        "colab": {
          "base_uri": "https://localhost:8080/"
        },
        "id": "buH8t5Ij9wDV",
        "outputId": "15da5981-40ad-4443-efa3-efb4b5da4ea4"
      },
      "execution_count": null,
      "outputs": [
        {
          "output_type": "stream",
          "name": "stdout",
          "text": [
            "0.8596082459631951 {'C': 37.92690190732246, 'gamma': 0.4832930238571752, 'kernel': 'rbf'}\n",
            "0.8323483923483922 {'C': 91.11627561154896, 'degree': 5, 'kernel': 'poly'}\n",
            "0.6586906824553976 {'C': 0.11288378916846889, 'gamma': 0.01, 'kernel': 'sigmoid'}\n"
          ]
        }
      ]
    },
    {
      "cell_type": "code",
      "source": [
        "clf_kernel_svc = SVC(\n",
        "    cache_size=512,\n",
        "    class_weight=\"balanced\",\n",
        "    random_state=0,\n",
        "    C=37.92690190732246,\n",
        "    gamma=0.4832930238571752,\n",
        "    kernel='rbf'\n",
        ")\n",
        "clf_kernel_svc.fit(X_train_scaled, y_train)\n",
        "y_pred = clf_kernel_svc.predict(X_test_scaled)\n",
        "print(f\"F1-score: {100 * f1_score(y_test, y_pred):.2f}%\")"
      ],
      "metadata": {
        "colab": {
          "base_uri": "https://localhost:8080/"
        },
        "id": "JefA8XskRKFR",
        "outputId": "65da0517-f58a-4a13-95d0-26aa4241a548"
      },
      "execution_count": null,
      "outputs": [
        {
          "output_type": "stream",
          "name": "stdout",
          "text": [
            "F1-score: 87.69%\n"
          ]
        }
      ]
    },
    {
      "cell_type": "code",
      "source": [
        "clf_kernel_svc = SVC(\n",
        "    cache_size=512,\n",
        "    class_weight=\"balanced\",\n",
        "    random_state=0,\n",
        "    C=91.11627561154896,\n",
        "    degree=5,\n",
        "    kernel='poly'\n",
        ")\n",
        "clf_kernel_svc.fit(X_train_scaled, y_train)\n",
        "y_pred = clf_kernel_svc.predict(X_test_scaled)\n",
        "print(f\"F1-score: {100 * f1_score(y_test, y_pred):.2f}%\")"
      ],
      "metadata": {
        "colab": {
          "base_uri": "https://localhost:8080/"
        },
        "id": "6LmFQVRxSAxD",
        "outputId": "4a59ccdc-4798-46cd-c4ea-3adc5a2cf565"
      },
      "execution_count": null,
      "outputs": [
        {
          "output_type": "stream",
          "name": "stdout",
          "text": [
            "F1-score: 83.15%\n"
          ]
        }
      ]
    },
    {
      "cell_type": "code",
      "source": [
        "clf_kernel_svc = SVC(\n",
        "    cache_size=512,\n",
        "    class_weight=\"balanced\",\n",
        "    random_state=0,\n",
        "    C=0.11288378916846889,\n",
        "    gamma=0.01,\n",
        "    kernel='sigmoid'\n",
        ")\n",
        "clf_kernel_svc.fit(X_train_scaled, y_train)\n",
        "y_pred = clf_kernel_svc.predict(X_test_scaled)\n",
        "print(f\"F1-score: {100 * f1_score(y_test, y_pred):.2f}%\")"
      ],
      "metadata": {
        "colab": {
          "base_uri": "https://localhost:8080/"
        },
        "id": "x_R5fW--SJu5",
        "outputId": "dbf1c3d1-f5ae-4d33-afaf-0b70678c9d5d"
      },
      "execution_count": null,
      "outputs": [
        {
          "output_type": "stream",
          "name": "stdout",
          "text": [
            "F1-score: 60.00%\n"
          ]
        }
      ]
    },
    {
      "cell_type": "markdown",
      "metadata": {
        "id": "1i1xUApOQABs"
      },
      "source": [
        "Sigmoid, ze względu na użytą funkcję której charaterystyka wymaga silnej regularyzacji, ponieważ jest podatna na overfitting. Widać też, że ten kernel dał najgorsze wyniki więc prawdopodobnie i tak bardzo się rozjeżdzał dla takich danych\n",
        "\n"
      ]
    },
    {
      "cell_type": "markdown",
      "source": [
        "Udało się dobrze oszacować wynik za pomocą walidacji skrośnej i kernel który uzyskał najlepsze wyniki ma najlepszy f1_score"
      ],
      "metadata": {
        "id": "ek1GAJyNScF7"
      }
    },
    {
      "cell_type": "markdown",
      "metadata": {
        "id": "BuxR0Ms-QABs"
      },
      "source": [
        "Nie uwzględniliśmy jednak jeszcze faktu, że nasi klienci mają różną wagę. Według badań koszt zyskania klienta jest około 15 razy wyższy od kosztu utrzymania klienta, który jest zagrożony przejściem dla konkurencji. W związku z tym FP i FN mają różną ważnośc. Dodatkowo sami klienci płacą mniej lub więcej, więc to też trzeba uwzględnić. Na szczęście my mamy już to zrobione, bo mamy macierze `fp_cost` oraz `fn_cost` oznaczające koszt pomylenia się na oba sposoby w przypadku każdego klienta.\n",
        "\n",
        "Powinniśmy zatem używać **ważonej metryki (weighted metric)**, która dla każdego przykładu stosuje odpowiednią wagę, i to w zależności od tego, w jaki sposób się pomyliliśmy. Tego typu metryki typowo działają jak funkcje kosztu - im mniejsza wartość, tym lepiej, bo często dosłownie reprezentują koszt, jaki firma musi ponieść przy stosowaniu danego algorytmu. Wykorzystanie takiej metryki to **cost-sensitive classification**.\n",
        "\n",
        "**Zadanie 8 (0.5 punktu)**\n",
        "\n",
        "1. Uzupełnij kod funkcji `churn_cost()`, która oblicza koszt dokonania danej klasyfikacji.\n",
        "2. Stwórz funkcję w postaci akceptowanej przez `GridSearchCV` za pomocą `make_scorer`. Zwróć uwagę, żeby podać do niej prawidłowe argumenty."
      ]
    },
    {
      "cell_type": "code",
      "execution_count": null,
      "metadata": {
        "id": "mgy_3yIMQABt"
      },
      "outputs": [],
      "source": [
        "from typing import Union\n",
        "\n",
        "from sklearn.metrics import make_scorer\n",
        "\n",
        "\n",
        "def churn_cost(\n",
        "    y_true: Union[np.ndarray, pd.Series],\n",
        "    y_pred: Union[np.ndarray, pd.Series], \n",
        "    fp_cost: Union[np.ndarray, pd.Series], \n",
        "    fn_cost: Union[np.ndarray, pd.Series],\n",
        ") -> float:\n",
        "    # make sure all data is Numpy arrays\n",
        "    y_true = np.array(y_true)\n",
        "    y_pred = np.array(y_pred)\n",
        "    fp_cost = np.array(fp_cost)\n",
        "    fn_cost = np.array(fn_cost)\n",
        "    \n",
        "    # check which rows are for FP and FN\n",
        "    fp = (y_true == 0) & (y_pred == 1)\n",
        "    fn = (y_true == 1) & (y_pred == 0)\n",
        "    \n",
        "    \n",
        "    # get costs for FP and FN\n",
        "    fp_costs = np.sum(fp_cost[fp])\n",
        "    fn_costs = np.sum(fn_cost[fn])\n",
        "    \n",
        "    # return sum of costs\n",
        "    return fp_costs + fn_costs\n",
        "\n",
        "churn_cost_score = make_scorer(\n",
        "    churn_cost,\n",
        "    greater_is_better=False, \n",
        "    needs_proba=False, \n",
        "    needs_threshold=False,\n",
        ")"
      ]
    },
    {
      "cell_type": "markdown",
      "metadata": {
        "id": "bt8RmQd6QABt"
      },
      "source": [
        "**Zadanie 9 (1 punkt)**\n",
        "\n",
        "1. Wytrenuj klasyfikatory stały `DummyClassifier`:\n",
        "   - taki, który zawsze przewiduje klasę negatywną (brak zmiany)\n",
        "   - taki, który zawsze przewiduje klasę pozytywną (churn)\n",
        "2. Sprawdź metrykę F1-score oraz nasz nowo zdefiniowany churn cost dla takich rozwiązań na zbiorze testowym. Wykorzystaj `fp_cost_test` oraz `fn_cost_test`.\n",
        "3. Lepiej jest stosować reklamy dla wszystkich, czy po prostu zgodzić się na churn i nic z tym nie robić? Uwzględniając liczbę próbek w zbiorze testowym, czy twoim zdaniem wysoki koszt? Załóż, że walutą są dolary - irański rial zawsze był tak słabą walutą, że i tak używano walut zagranicznych, co widać też w tym zbiorze. Wartość każdego klienta jest typowo wysoka, bo to obliczona tzw. lifetime value - przewidywana potencjalna wartość klienta w przyszłości."
      ]
    },
    {
      "cell_type": "code",
      "execution_count": null,
      "metadata": {
        "colab": {
          "base_uri": "https://localhost:8080/",
          "height": 74
        },
        "id": "ZRrsgL_ZQABt",
        "outputId": "ee5f0076-231f-40e5-b03c-ae8a4098b0f1"
      },
      "outputs": [
        {
          "output_type": "execute_result",
          "data": {
            "text/plain": [
              "DummyClassifier(constant=1, strategy='constant')"
            ],
            "text/html": [
              "<style>#sk-container-id-3 {color: black;background-color: white;}#sk-container-id-3 pre{padding: 0;}#sk-container-id-3 div.sk-toggleable {background-color: white;}#sk-container-id-3 label.sk-toggleable__label {cursor: pointer;display: block;width: 100%;margin-bottom: 0;padding: 0.3em;box-sizing: border-box;text-align: center;}#sk-container-id-3 label.sk-toggleable__label-arrow:before {content: \"▸\";float: left;margin-right: 0.25em;color: #696969;}#sk-container-id-3 label.sk-toggleable__label-arrow:hover:before {color: black;}#sk-container-id-3 div.sk-estimator:hover label.sk-toggleable__label-arrow:before {color: black;}#sk-container-id-3 div.sk-toggleable__content {max-height: 0;max-width: 0;overflow: hidden;text-align: left;background-color: #f0f8ff;}#sk-container-id-3 div.sk-toggleable__content pre {margin: 0.2em;color: black;border-radius: 0.25em;background-color: #f0f8ff;}#sk-container-id-3 input.sk-toggleable__control:checked~div.sk-toggleable__content {max-height: 200px;max-width: 100%;overflow: auto;}#sk-container-id-3 input.sk-toggleable__control:checked~label.sk-toggleable__label-arrow:before {content: \"▾\";}#sk-container-id-3 div.sk-estimator input.sk-toggleable__control:checked~label.sk-toggleable__label {background-color: #d4ebff;}#sk-container-id-3 div.sk-label input.sk-toggleable__control:checked~label.sk-toggleable__label {background-color: #d4ebff;}#sk-container-id-3 input.sk-hidden--visually {border: 0;clip: rect(1px 1px 1px 1px);clip: rect(1px, 1px, 1px, 1px);height: 1px;margin: -1px;overflow: hidden;padding: 0;position: absolute;width: 1px;}#sk-container-id-3 div.sk-estimator {font-family: monospace;background-color: #f0f8ff;border: 1px dotted black;border-radius: 0.25em;box-sizing: border-box;margin-bottom: 0.5em;}#sk-container-id-3 div.sk-estimator:hover {background-color: #d4ebff;}#sk-container-id-3 div.sk-parallel-item::after {content: \"\";width: 100%;border-bottom: 1px solid gray;flex-grow: 1;}#sk-container-id-3 div.sk-label:hover label.sk-toggleable__label {background-color: #d4ebff;}#sk-container-id-3 div.sk-serial::before {content: \"\";position: absolute;border-left: 1px solid gray;box-sizing: border-box;top: 0;bottom: 0;left: 50%;z-index: 0;}#sk-container-id-3 div.sk-serial {display: flex;flex-direction: column;align-items: center;background-color: white;padding-right: 0.2em;padding-left: 0.2em;position: relative;}#sk-container-id-3 div.sk-item {position: relative;z-index: 1;}#sk-container-id-3 div.sk-parallel {display: flex;align-items: stretch;justify-content: center;background-color: white;position: relative;}#sk-container-id-3 div.sk-item::before, #sk-container-id-3 div.sk-parallel-item::before {content: \"\";position: absolute;border-left: 1px solid gray;box-sizing: border-box;top: 0;bottom: 0;left: 50%;z-index: -1;}#sk-container-id-3 div.sk-parallel-item {display: flex;flex-direction: column;z-index: 1;position: relative;background-color: white;}#sk-container-id-3 div.sk-parallel-item:first-child::after {align-self: flex-end;width: 50%;}#sk-container-id-3 div.sk-parallel-item:last-child::after {align-self: flex-start;width: 50%;}#sk-container-id-3 div.sk-parallel-item:only-child::after {width: 0;}#sk-container-id-3 div.sk-dashed-wrapped {border: 1px dashed gray;margin: 0 0.4em 0.5em 0.4em;box-sizing: border-box;padding-bottom: 0.4em;background-color: white;}#sk-container-id-3 div.sk-label label {font-family: monospace;font-weight: bold;display: inline-block;line-height: 1.2em;}#sk-container-id-3 div.sk-label-container {text-align: center;}#sk-container-id-3 div.sk-container {/* jupyter's `normalize.less` sets `[hidden] { display: none; }` but bootstrap.min.css set `[hidden] { display: none !important; }` so we also need the `!important` here to be able to override the default hidden behavior on the sphinx rendered scikit-learn.org. See: https://github.com/scikit-learn/scikit-learn/issues/21755 */display: inline-block !important;position: relative;}#sk-container-id-3 div.sk-text-repr-fallback {display: none;}</style><div id=\"sk-container-id-3\" class=\"sk-top-container\"><div class=\"sk-text-repr-fallback\"><pre>DummyClassifier(constant=1, strategy=&#x27;constant&#x27;)</pre><b>In a Jupyter environment, please rerun this cell to show the HTML representation or trust the notebook. <br />On GitHub, the HTML representation is unable to render, please try loading this page with nbviewer.org.</b></div><div class=\"sk-container\" hidden><div class=\"sk-item\"><div class=\"sk-estimator sk-toggleable\"><input class=\"sk-toggleable__control sk-hidden--visually\" id=\"sk-estimator-id-3\" type=\"checkbox\" checked><label for=\"sk-estimator-id-3\" class=\"sk-toggleable__label sk-toggleable__label-arrow\">DummyClassifier</label><div class=\"sk-toggleable__content\"><pre>DummyClassifier(constant=1, strategy=&#x27;constant&#x27;)</pre></div></div></div></div></div>"
            ]
          },
          "metadata": {},
          "execution_count": 112
        }
      ],
      "source": [
        "from sklearn.dummy import DummyClassifier\n",
        "\n",
        "dummy_negative = DummyClassifier(strategy='constant', constant=0)\n",
        "dummy_positive = DummyClassifier(strategy='constant', constant=1)\n",
        "\n",
        "dummy_negative.fit(X_train_scaled, y_train)\n",
        "dummy_positive.fit(X_train_scaled, y_train)"
      ]
    },
    {
      "cell_type": "code",
      "source": [
        "y_pred_dummy_negative = dummy_negative.predict(X_test_scaled)\n",
        "y_pred_dummy_positive = dummy_positive.predict(X_test_scaled)\n",
        "\n",
        "f1_score_dummy_negative = f1_score(y_test, y_pred_dummy_negative)\n",
        "f1_score_dummy_positive = f1_score(y_test, y_pred_dummy_positive)\n",
        "\n",
        "churn_cost_dummy_negative = churn_cost(y_test, y_pred_dummy_negative, fp_cost_test, fn_cost_test)\n",
        "churn_cost_dummy_positive = churn_cost(y_test, y_pred_dummy_positive, fp_cost_test, fn_cost_test)\n",
        "\n",
        "\n",
        "print(\"F1-score for negative: {:.4f}\".format(f1_score_dummy_negative))\n",
        "print(\"F1-score for positive: {:.4f}\".format(f1_score_dummy_positive))\n",
        "print(\"Churn cost for negative: {:.2f}\".format(churn_cost_dummy_negative))\n",
        "print(\"Churn cost for positive: {:.2f}\".format(churn_cost_dummy_positive))"
      ],
      "metadata": {
        "colab": {
          "base_uri": "https://localhost:8080/"
        },
        "id": "CR90wNwvFpGa",
        "outputId": "0c6ed631-9a18-4aa5-a0c9-73208dd72180"
      },
      "execution_count": null,
      "outputs": [
        {
          "output_type": "stream",
          "name": "stdout",
          "text": [
            "F1-score for negative: 0.0000\n",
            "F1-score for positive: 0.2719\n",
            "Churn cost for negative: 15871.64\n",
            "Churn cost for positive: 69593.20\n"
          ]
        }
      ]
    },
    {
      "cell_type": "code",
      "source": [
        "print(churn_cost_dummy_negative / len(y_test))\n",
        "print(churn_cost_dummy_positive / len(y_test))"
      ],
      "metadata": {
        "colab": {
          "base_uri": "https://localhost:8080/"
        },
        "id": "xMFUz01xW3Uo",
        "outputId": "35dc2543-474e-4bd9-ee02-012bf9785113"
      },
      "execution_count": null,
      "outputs": [
        {
          "output_type": "stream",
          "name": "stdout",
          "text": [
            "20.141680203045684\n",
            "88.31624302030457\n"
          ]
        }
      ]
    },
    {
      "cell_type": "markdown",
      "metadata": {
        "id": "EbZmNvIxQABt"
      },
      "source": [
        "Bardziej opłaca się jak widać nie reklamować, niż reklamować u wszystkich, ponieważ jednak większość osób nie zmienia operatora i nawet wagi tak bardzo na to nie wpływają. Koszt względem ilości klientów nie jest chyba bardzo wysoki, ale nie jest też na tyle niski by nie opłacało się nie podjąć działań."
      ]
    },
    {
      "cell_type": "markdown",
      "metadata": {
        "id": "3G_iU0k2QABt"
      },
      "source": [
        "**Zadanie 10 (1 punkt)**\n",
        "\n",
        "1. Wytrenuj liniowy SVM, wykorzystaj znalezioną wcześniej optymalną wartość `C`. Innych parametrów użyj tak, jak wcześniej. Jaki jest koszt przy wdrożeniu takiego rozwiązania? Ile zyskujemy względem najlepszego rozwiązania z poprzedniego zadania?\n",
        "2. Wytrenuj kernel SVM, wykorzystaj znalezione wcześniej optymalne wartości hiperparametrów. Innych parametrów użyj tak, jak wcześniej. O ile lepszy jest koszt? O ile lepszy jest od modelu liniowego, jakim jest liniowy SVM?\n",
        "3. Czy twoim zdaniem warto wdrażać rozwiązania oparte o ML do takich zadań?"
      ]
    },
    {
      "cell_type": "code",
      "source": [
        "clf_linear_svc = LinearSVC(\n",
        "    loss=\"hinge\",\n",
        "    max_iter=10000,\n",
        "    random_state=0,\n",
        "    class_weight='balanced',\n",
        "    C=57.223676593502205\n",
        ")\n",
        "clf_linear_svc.fit(X_train_scaled, y_train)\n",
        "y_pred = clf_linear_svc.predict(X_test_scaled)\n",
        "linear_churn_cost = churn_cost(y_test, y_pred, fp_cost_test, fn_cost_test)\n",
        "\n",
        "print(\"F1-score: {:.4f}\".format(f1_score(y_test, y_pred)))\n",
        "print(\"Churn cost: {:.2f}\".format(linear_churn_cost))\n",
        "print(\"Profit:\")\n",
        "print(\"from negative: {:.2f}\".format(churn_cost_dummy_negative - linear_churn_cost))\n",
        "print(\"from positive: {:.2f}\".format(churn_cost_dummy_positive - linear_churn_cost))"
      ],
      "metadata": {
        "colab": {
          "base_uri": "https://localhost:8080/"
        },
        "id": "N-veoO_nY58g",
        "outputId": "4fb82f94-8878-4cd2-f6a0-3e61c11389a3"
      },
      "execution_count": null,
      "outputs": [
        {
          "output_type": "stream",
          "name": "stdout",
          "text": [
            "F1-score: 0.5913\n",
            "Churn cost: 11629.98\n",
            "Profit:\n",
            "from negative: 4241.67\n",
            "from positive: 57963.22\n"
          ]
        }
      ]
    },
    {
      "cell_type": "code",
      "execution_count": null,
      "metadata": {
        "colab": {
          "base_uri": "https://localhost:8080/"
        },
        "id": "YcE7XoU_QABt",
        "outputId": "eac4bbb1-9a11-49b3-c6a1-5c832125e7ea"
      },
      "outputs": [
        {
          "output_type": "stream",
          "name": "stdout",
          "text": [
            "F1-score: 0.8769\n",
            "Churn cost: 3920.36\n",
            "Profit:\n",
            "from negative: 11951.29\n",
            "from positive: 65672.84\n",
            "from linear: 7709.62\n"
          ]
        }
      ],
      "source": [
        "clf_kernel_svc = SVC(\n",
        "    cache_size=512,\n",
        "    class_weight=\"balanced\",\n",
        "    random_state=0,\n",
        "    C=37.92690190732246,\n",
        "    gamma=0.4832930238571752,\n",
        "    kernel='rbf'\n",
        ")\n",
        "clf_kernel_svc.fit(X_train_scaled, y_train)\n",
        "y_pred = clf_kernel_svc.predict(X_test_scaled)\n",
        "kernel_churn_cost = churn_cost(y_test, y_pred, fp_cost_test, fn_cost_test)\n",
        "\n",
        "print(\"F1-score: {:.4f}\".format(f1_score(y_test, y_pred)))\n",
        "print(\"Churn cost: {:.2f}\".format(kernel_churn_cost))\n",
        "print(\"Profit:\")\n",
        "print(\"from negative: {:.2f}\".format(churn_cost_dummy_negative - kernel_churn_cost))\n",
        "print(\"from positive: {:.2f}\".format(churn_cost_dummy_positive - kernel_churn_cost))\n",
        "print(\"from linear: {:.2f}\".format(linear_churn_cost - kernel_churn_cost))"
      ]
    },
    {
      "cell_type": "code",
      "source": [
        "print(\"Strata per klient dla braku działań: \", churn_cost_dummy_negative / len(y_test))\n",
        "print(\"Strata per klient przy przewidywaniu z kernel: \", kernel_churn_cost / len(y_test))"
      ],
      "metadata": {
        "colab": {
          "base_uri": "https://localhost:8080/"
        },
        "id": "D4Moh1RGcSFc",
        "outputId": "65ed9470-d73a-4e41-d390-f5e61f9618bf"
      },
      "execution_count": null,
      "outputs": [
        {
          "output_type": "stream",
          "name": "stdout",
          "text": [
            "Strata per klient dla braku działań:  20.141680203045684\n",
            "Strata per klient przy przewidywaniu z kernel:  4.975071700507614\n"
          ]
        }
      ]
    },
    {
      "cell_type": "markdown",
      "metadata": {
        "id": "W_ogN5yNQABt"
      },
      "source": [
        "Zdecydowanie warto wdrażać takie rozwiązania, jak widać na powyższym przykładzie, zastosowanie modelu może dać oszczędność rzędu 75% względem braku podjęcia działań, i jeszcze więcej gdyby reklamy rozsyłać do wszystkich. Jest to bardzo duży zysk również bezwgędnie."
      ]
    },
    {
      "cell_type": "markdown",
      "metadata": {
        "id": "4SAJocUKQABt"
      },
      "source": [
        "## Zadanie dodatkowe (3 punkty)\n",
        "\n",
        "W przypadku, kiedy zastosowanie kernel SVM wprost byłoby zbyt kosztowne, można zamiast tego przybliżyć cechy kernelowe. Realizują to algorytmy grupy kernel approximation.\n",
        "\n",
        "Metoda Nyströma to algorytm uniwersalny, który potrafi przybliżyć dowolny kernel. Wykorzystuje do tego truncated SVD, czyli przybliża wprost kernel matrix za pomocą macierzy niższej rangi. Ceną tej prostoty i uniwersalności jest nie najlepsza prędkość działania w porównaniu do bardziej specjalistycznych algorytmów. Proste wyprowadzenie tej metody można znaleźć [tutaj](https://stats.stackexchange.com/questions/261149/nystroem-method-for-kernel-approximation).\n",
        "\n",
        "`RBFSampler` w Scikit-learn implementuje metodę Random Kitchen Sinks. Ten algorytm za pomocą próbkowania Monte Carlo przybliża coraz lepiej macierz kernela RBF. W bibliotece Scikit-learn-extra zaimplementowane jest rozwinięcie tego algorytmu o nazwie [Fastfood](https://scikit-learn-extra.readthedocs.io/en/stable/generated/sklearn_extra.kernel_approximation.Fastfood.html), który stosuje nieco bardziej zaawansowany algorytm przybliżający, który powinien być jeszcze szybszy i oszczędniejszy pamięciowo.\n",
        "\n",
        "Hiperparametry tych metod są podobne do zwykłego kernel SVM, ale dodatkowo mamy wymiarowość naszego przybliżenia, czyli `n_components`. Im większe, tym dokładniej przybliżamy, ale też tym więcej mamy cech. Wejściem do metody Nyströma jest macierz cech X, a wyjściem macierz cech kernelowych X mająca rozmiar `n_samples * n_components`. Na takich cechach trenuje się już zwykły liniowy SVM.\n",
        "\n",
        "1. Zaimplementuj `Pipeline` składający się z przybliżenia kernela oraz liniowego SVM: dla metody Nyströma, oraz dla obu algorytmów dla kernela RBF.\n",
        "2. Wytrenuj algorytmy z domyślnymi hiperparametrami. Porównaj jakość predykcji oraz szybkość z liniowym SVM i z kernel SVM. Czy warto dokonać takiej aproksymacji?\n",
        "3. Dokonaj optymalizacji hiperparametrów `C`, `gamma` oraz `n_components`. Czy udało się poprawić wynik względem zwykłego kernel SVM w rozsądnym czasie?"
      ]
    },
    {
      "cell_type": "code",
      "execution_count": null,
      "metadata": {
        "id": "D6qZImk3QABu"
      },
      "outputs": [],
      "source": []
    },
    {
      "cell_type": "markdown",
      "metadata": {
        "id": "WstTqOk-QABu"
      },
      "source": [
        "// skomentuj tutaj"
      ]
    },
    {
      "cell_type": "code",
      "execution_count": null,
      "metadata": {
        "id": "jBXCVXNLQABu"
      },
      "outputs": [],
      "source": []
    }
  ],
  "metadata": {
    "kernelspec": {
      "display_name": "PUM",
      "language": "python",
      "name": "pum"
    },
    "language_info": {
      "codemirror_mode": {
        "name": "ipython",
        "version": 3
      },
      "file_extension": ".py",
      "mimetype": "text/x-python",
      "name": "python",
      "nbconvert_exporter": "python",
      "pygments_lexer": "ipython3",
      "version": "3.10.9"
    },
    "colab": {
      "provenance": []
    }
  },
  "nbformat": 4,
  "nbformat_minor": 0
}